{
  "nbformat": 4,
  "nbformat_minor": 0,
  "metadata": {
    "colab": {
      "name": "ancardonac_QuanconnectTutortials.ipynb",
      "provenance": []
    },
    "kernelspec": {
      "name": "python3",
      "display_name": "Python 3"
    },
    "language_info": {
      "name": "python"
    }
  },
  "cells": [
    {
      "cell_type": "markdown",
      "metadata": {
        "id": "z1_PoDTlf1fO"
      },
      "source": [
        "#QuanconnectTutortials\n",
        "###Andrés Camilo Cardona Carrasquilla\n",
        "###ancardonac@unal.edu.co"
      ]
    },
    {
      "cell_type": "code",
      "metadata": {
        "id": "4ScTwxiBrGuP"
      },
      "source": [
        ""
      ],
      "execution_count": null,
      "outputs": []
    },
    {
      "cell_type": "markdown",
      "metadata": {
        "id": "56PqHzsFjFr-"
      },
      "source": [
        "### 01.Python: Data Types and Data Structures\n",
        "\n",
        "\n",
        "\n",
        "\n"
      ]
    },
    {
      "cell_type": "markdown",
      "metadata": {
        "id": "ysYwy4lx8Fwf"
      },
      "source": [
        "####**Introduction**"
      ]
    },
    {
      "cell_type": "markdown",
      "metadata": {
        "id": "MfbU_p4c8JFo"
      },
      "source": [
        "This tutorial provides a basic introduction to the Python programming language. If you are new to Python, you should run the code snippets while reading this tutorial. If you are an advanced Python user, please feel free to skip this chapter."
      ]
    },
    {
      "cell_type": "markdown",
      "metadata": {
        "id": "Xr1zEnccrC-t"
      },
      "source": [
        "####**Basic Variable Types**"
      ]
    },
    {
      "cell_type": "markdown",
      "metadata": {
        "id": "lhm7w5lq8ON5"
      },
      "source": [
        "The basic types of variables in Python are: strings, integers, floating point numbers and booleans.\n",
        "\n",
        "Strings in python are identified as a contiguous set of characters represented in either single quotes (' ') or double quotes (\" \")."
      ]
    },
    {
      "cell_type": "code",
      "metadata": {
        "colab": {
          "base_uri": "https://localhost:8080/"
        },
        "id": "jGqRr_4GjIsj",
        "outputId": "72891c4a-c4b6-457a-8779-bc0e170483ec"
      },
      "source": [
        "my_string1 = 'Welcome to'\n",
        "my_string2 = \"QuantConnect\"\n",
        "print(my_string1 + ' ' + my_string2)"
      ],
      "execution_count": null,
      "outputs": [
        {
          "output_type": "stream",
          "name": "stdout",
          "text": [
            "Welcome to QuantConnect\n"
          ]
        }
      ]
    },
    {
      "cell_type": "code",
      "metadata": {
        "colab": {
          "base_uri": "https://localhost:8080/"
        },
        "id": "s59VArKUlsJK",
        "outputId": "8a815c80-b13c-4247-a3f1-311a23f56eb1"
      },
      "source": [
        "my_string1 = 'Mi correo usuario es'\n",
        "my_string2 = \"ancardonac\"\n",
        "my_string3 = 'el dominio de mi organización'\n",
        "my_string4 = \"unal.edu.co\"\n",
        "my_string5 = \"por lo tanto mi correo es:\"\n",
        "print(my_string1 + ' ' + my_string2 + ' '+ my_string3 + ' '+ my_string4 + ' '+ my_string5 +'\\n ' + my_string2 +'@'+ my_string4)"
      ],
      "execution_count": null,
      "outputs": [
        {
          "output_type": "stream",
          "name": "stdout",
          "text": [
            "Mi correo usuario es ancardonac el dominio de mi organización unal.edu.co por lo tanto mi correo es:\n",
            " ancardonac@unal.edu.co\n"
          ]
        }
      ]
    },
    {
      "cell_type": "markdown",
      "metadata": {
        "id": "isaAzkql8Rsn"
      },
      "source": [
        "An integer is a round number with no values after the decimal point."
      ]
    },
    {
      "cell_type": "code",
      "metadata": {
        "colab": {
          "base_uri": "https://localhost:8080/"
        },
        "id": "cpv_yzZtnYkP",
        "outputId": "add779a8-a425-40ad-bc55-9dd2de4b10d7"
      },
      "source": [
        "my_int = 10\n",
        "print(my_int)\n",
        "print(type(my_int))"
      ],
      "execution_count": null,
      "outputs": [
        {
          "output_type": "stream",
          "name": "stdout",
          "text": [
            "10\n",
            "<class 'int'>\n"
          ]
        }
      ]
    },
    {
      "cell_type": "code",
      "metadata": {
        "colab": {
          "base_uri": "https://localhost:8080/"
        },
        "id": "rjoNozfhn_Xs",
        "outputId": "41ddc29a-9401-4964-be46-80fb4f78eff8"
      },
      "source": [
        "my_int = 8010\n",
        "print(my_int)\n",
        "print(type(my_int))"
      ],
      "execution_count": null,
      "outputs": [
        {
          "output_type": "stream",
          "name": "stdout",
          "text": [
            "8010\n",
            "<class 'int'>\n"
          ]
        }
      ]
    },
    {
      "cell_type": "markdown",
      "metadata": {
        "id": "_lQxRM0g8aF8"
      },
      "source": [
        "The built-in function int() can convert a string into an integer."
      ]
    },
    {
      "cell_type": "code",
      "metadata": {
        "colab": {
          "base_uri": "https://localhost:8080/"
        },
        "id": "NyeSqEACoNTh",
        "outputId": "2c0f0b00-9592-4bbf-a1b3-3e024f5fe4b4"
      },
      "source": [
        "my_string = \"100\"\n",
        "print(type(my_string))\n",
        "print(\"y ahora vamos a convertir un String en int\")\n",
        "my_int = int(my_string)\n",
        "print(type(my_int))\n"
      ],
      "execution_count": null,
      "outputs": [
        {
          "output_type": "stream",
          "name": "stdout",
          "text": [
            "<class 'str'>\n",
            "y ahora vamos a convertir un String en int\n",
            "<class 'int'>\n"
          ]
        }
      ]
    },
    {
      "cell_type": "markdown",
      "metadata": {
        "id": "D0mMwCqj8coy"
      },
      "source": [
        "A floating point number, or a float, is a real number in mathematics. In Python we need to include a value after a decimal point to define it as a float."
      ]
    },
    {
      "cell_type": "code",
      "metadata": {
        "colab": {
          "base_uri": "https://localhost:8080/"
        },
        "id": "JzP40-hipEg6",
        "outputId": "5bab8502-f522-42d3-fcda-5d3173200601"
      },
      "source": [
        "my_float = 1.0\n",
        "print(type(my_float))\n",
        "my_int = 1\n",
        "print(type(my_int))"
      ],
      "execution_count": null,
      "outputs": [
        {
          "output_type": "stream",
          "name": "stdout",
          "text": [
            "<class 'float'>\n",
            "<class 'int'>\n"
          ]
        }
      ]
    },
    {
      "cell_type": "code",
      "metadata": {
        "colab": {
          "base_uri": "https://localhost:8080/"
        },
        "id": "Sca2pJkVpou8",
        "outputId": "13c47518-e084-4080-c2d9-a79e9ec4a7ca"
      },
      "source": [
        "my_float = 1.58\n",
        "print(type(my_float))\n",
        "my_int = 5\n",
        "print(type(my_int))"
      ],
      "execution_count": null,
      "outputs": [
        {
          "output_type": "stream",
          "name": "stdout",
          "text": [
            "<class 'float'>\n",
            "<class 'int'>\n"
          ]
        }
      ]
    },
    {
      "cell_type": "markdown",
      "metadata": {
        "id": "qxINbdzp8fiD"
      },
      "source": [
        "As you can see above, if we don't include a decimal value, the variable would be defined as an integer. The built-in function float() can convert a string or an integer into a float."
      ]
    },
    {
      "cell_type": "code",
      "metadata": {
        "colab": {
          "base_uri": "https://localhost:8080/"
        },
        "id": "Bj6ET3UiqBmU",
        "outputId": "6ade5686-5776-4a51-a90d-c01698d39210"
      },
      "source": [
        "my_string = \"100\"\n",
        "my_float = float(my_string)\n",
        "print(type(my_float))\n"
      ],
      "execution_count": null,
      "outputs": [
        {
          "output_type": "stream",
          "name": "stdout",
          "text": [
            "<class 'float'>\n"
          ]
        }
      ]
    },
    {
      "cell_type": "code",
      "metadata": {
        "colab": {
          "base_uri": "https://localhost:8080/"
        },
        "id": "tDjCNKG7qG_m",
        "outputId": "8383de2a-41a4-45b3-aaac-a7a58b0aa1a7"
      },
      "source": [
        "my_string = \"28.58\"\n",
        "my_float = float(my_string)\n",
        "print(type(my_float))\n",
        "my_float= int(my_float)\n",
        "print(my_float)\n",
        "print(type(my_float))"
      ],
      "execution_count": null,
      "outputs": [
        {
          "output_type": "stream",
          "name": "stdout",
          "text": [
            "<class 'float'>\n",
            "28\n",
            "<class 'int'>\n"
          ]
        }
      ]
    },
    {
      "cell_type": "markdown",
      "metadata": {
        "id": "jL9pVp878ky4"
      },
      "source": [
        "A boolean, or bool, is a binary variable. Its value can only be True or False. It is useful when we do some logic operations, which would be covered in our next chapter."
      ]
    },
    {
      "cell_type": "code",
      "metadata": {
        "colab": {
          "base_uri": "https://localhost:8080/"
        },
        "id": "DWW_jzd7qgdz",
        "outputId": "c7080ef1-1d51-4d11-fa3c-ffa63f6c7422"
      },
      "source": [
        "my_bool = False\n",
        "print(my_bool)\n",
        "print(type(my_bool))\n"
      ],
      "execution_count": null,
      "outputs": [
        {
          "output_type": "stream",
          "name": "stdout",
          "text": [
            "False\n",
            "<class 'bool'>\n"
          ]
        }
      ]
    },
    {
      "cell_type": "code",
      "metadata": {
        "colab": {
          "base_uri": "https://localhost:8080/"
        },
        "id": "F3nFTYPaqlir",
        "outputId": "e671f8a5-192f-4185-adf1-5be2765a9b90"
      },
      "source": [
        "my_bool = 'true'\n",
        "print(my_bool)\n",
        "my_bool = bool(my_bool)\n",
        "print(my_bool)\n",
        "print(type(my_bool))"
      ],
      "execution_count": null,
      "outputs": [
        {
          "output_type": "stream",
          "name": "stdout",
          "text": [
            "true\n",
            "True\n",
            "<class 'bool'>\n"
          ]
        }
      ]
    },
    {
      "cell_type": "markdown",
      "metadata": {
        "id": "2KYZhdIlrNiG"
      },
      "source": [
        "####**Basic Math Operations**"
      ]
    },
    {
      "cell_type": "markdown",
      "metadata": {
        "id": "e1op-yA382Ll"
      },
      "source": [
        "The basic math operators in python are demonstrated below:"
      ]
    },
    {
      "cell_type": "code",
      "metadata": {
        "colab": {
          "base_uri": "https://localhost:8080/"
        },
        "id": "lqiHlsquraK8",
        "outputId": "3e687177-eb14-4749-eb5f-f1c5ff4e75c4"
      },
      "source": [
        "print(\"Addition \", 1+1)\n",
        "print(\"Subtraction \", 5-2)\n",
        "print(\"Multiplication \", 2*3)\n",
        "print(\"Division\", 10/2)\n",
        "print(\"exponent\", 2**3)"
      ],
      "execution_count": null,
      "outputs": [
        {
          "output_type": "stream",
          "name": "stdout",
          "text": [
            "Addition  2\n",
            "Subtraction  3\n",
            "Multiplication  6\n",
            "Division 5.0\n",
            "exponent 8\n"
          ]
        }
      ]
    },
    {
      "cell_type": "code",
      "metadata": {
        "colab": {
          "base_uri": "https://localhost:8080/"
        },
        "id": "IW0qZOs1rmrs",
        "outputId": "b4f9cdf1-16f2-4f7c-a389-78bbc39e78ef"
      },
      "source": [
        "print(\"Addition \", 1+1+5.0+12)\n",
        "print(\"Subtraction \", 5-2.0)\n",
        "print(\"Multiplication \", 2*3895.26)\n",
        "print(\"Division\", 10/2.5)\n",
        "print(\"exponent\", 5.0**3)"
      ],
      "execution_count": null,
      "outputs": [
        {
          "output_type": "stream",
          "name": "stdout",
          "text": [
            "Addition  19.0\n",
            "Subtraction  3.0\n",
            "Multiplication  7790.52\n",
            "Division 4.0\n",
            "exponent 125.0\n"
          ]
        }
      ]
    },
    {
      "cell_type": "markdown",
      "metadata": {
        "id": "sP3LHfjUsC3I"
      },
      "source": [
        "####**Data Collectors**"
      ]
    },
    {
      "cell_type": "markdown",
      "metadata": {
        "id": "aZxkkomDsyfD"
      },
      "source": [
        "#####List"
      ]
    },
    {
      "cell_type": "markdown",
      "metadata": {
        "id": "cTTSNnZfs0mS"
      },
      "source": [
        "A list is an ordered collection of values. A list is mutable, which means you can change a list's value without changing the list itself. Creating a list is simply putting different comma-separated values between square brackets."
      ]
    },
    {
      "cell_type": "code",
      "metadata": {
        "colab": {
          "base_uri": "https://localhost:8080/"
        },
        "id": "ZnyCGeL2s9Ts",
        "outputId": "1c3765eb-84b0-4b1b-9f39-0b33dd60ee79"
      },
      "source": [
        "my_list = ['Quant', 'Connect', 1,2,3]\n",
        "print(my_list)"
      ],
      "execution_count": null,
      "outputs": [
        {
          "output_type": "stream",
          "name": "stdout",
          "text": [
            "['Quant', 'Connect', 1, 2, 3]\n"
          ]
        }
      ]
    },
    {
      "cell_type": "code",
      "metadata": {
        "colab": {
          "base_uri": "https://localhost:8080/"
        },
        "id": "5bgvq6Sos6kY",
        "outputId": "702ca7a3-ba6d-43a6-a92f-e6a7f2c74f25"
      },
      "source": [
        "my_list = [1527, 'Muletas','depresion', 'llorar', 1.1,'2',3]\n",
        "print(my_list)"
      ],
      "execution_count": null,
      "outputs": [
        {
          "output_type": "stream",
          "name": "stdout",
          "text": [
            "[1527, 'Muletas', 'depresion', 'llorar', 1.1, '2', 3]\n"
          ]
        }
      ]
    },
    {
      "cell_type": "markdown",
      "metadata": {
        "id": "xahHya-VtZFv"
      },
      "source": [
        "The values in a list are called \"elements\". We can access list elements by indexing. Python index starts from 0. So if you have a list of length n, the index of the first element will be 0, and that of the last element will be n − 1. By the way, the length of a list can be obtained by the built-in function len()."
      ]
    },
    {
      "cell_type": "code",
      "metadata": {
        "colab": {
          "base_uri": "https://localhost:8080/"
        },
        "id": "aRw7OJ3jtaZq",
        "outputId": "766a0fb3-b7ea-4b78-a63d-3cc45b9fdfed"
      },
      "source": [
        "my_list = ['Quant', 'Connect', 1,2,3]\n",
        "print(len(my_list))\n",
        "print(my_list[0])\n",
        "print(my_list[len(my_list) - 1])"
      ],
      "execution_count": null,
      "outputs": [
        {
          "output_type": "stream",
          "name": "stdout",
          "text": [
            "5\n",
            "Quant\n",
            "3\n"
          ]
        }
      ]
    },
    {
      "cell_type": "code",
      "metadata": {
        "colab": {
          "base_uri": "https://localhost:8080/"
        },
        "id": "RGF2b4fitmZi",
        "outputId": "81b35471-710f-457c-d462-7228c59ad87f"
      },
      "source": [
        "my_list = [1527, 'Muletas','depresion', 'llorar', 1.1,'2',3]\n",
        "print(len(my_list))\n",
        "print(my_list[0+5])\n",
        "print(my_list[len(my_list) - 2])"
      ],
      "execution_count": null,
      "outputs": [
        {
          "output_type": "stream",
          "name": "stdout",
          "text": [
            "7\n",
            "2\n",
            "2\n"
          ]
        }
      ]
    },
    {
      "cell_type": "markdown",
      "metadata": {
        "id": "LuPrAka8t38a"
      },
      "source": [
        "You can also change the elements in the list by accessing an index and assigning a new value."
      ]
    },
    {
      "cell_type": "code",
      "metadata": {
        "colab": {
          "base_uri": "https://localhost:8080/"
        },
        "id": "P_lk7BSAuR5X",
        "outputId": "30338113-7e54-462e-ffa1-7c50994e9f5f"
      },
      "source": [
        "my_list = ['Quant','Connect',1,2,3]\n",
        "my_list[2] = 'go'\n",
        "print(my_list)\n"
      ],
      "execution_count": null,
      "outputs": [
        {
          "output_type": "stream",
          "name": "stdout",
          "text": [
            "['Quant', 'Connect', 'go', 2, 3]\n"
          ]
        }
      ]
    },
    {
      "cell_type": "code",
      "metadata": {
        "colab": {
          "base_uri": "https://localhost:8080/"
        },
        "id": "zrnYHWwvt7Uu",
        "outputId": "a04d5da5-7e9d-40ac-8f5f-579cc36dc705"
      },
      "source": [
        "my_list = [1527, 'Muletas','depresion', 'llorar', 1.1,'2',3]\n",
        "my_list[0] = 'Valor generico inicial'\n",
        "my_list[len(my_list)-1] = 'Valor generico final'\n",
        "print(my_list)\n"
      ],
      "execution_count": null,
      "outputs": [
        {
          "output_type": "stream",
          "name": "stdout",
          "text": [
            "['Valor generico', 'Muletas', 'depresion', 'llorar', 1.1, '2', 'Valor generico final']\n"
          ]
        }
      ]
    },
    {
      "cell_type": "markdown",
      "metadata": {
        "id": "Vi-vNpIuuYuv"
      },
      "source": [
        "A list can also be sliced with a colon:"
      ]
    },
    {
      "cell_type": "code",
      "metadata": {
        "colab": {
          "base_uri": "https://localhost:8080/"
        },
        "id": "S3jiG3R9uf3b",
        "outputId": "3d7e959d-1ca3-4baa-bd23-1c819b460079"
      },
      "source": [
        "my_list = ['Quant','Connect',1,2,3]\n",
        "print(my_list[1:3])"
      ],
      "execution_count": null,
      "outputs": [
        {
          "output_type": "stream",
          "name": "stdout",
          "text": [
            "['Connect', 1]\n"
          ]
        }
      ]
    },
    {
      "cell_type": "code",
      "metadata": {
        "colab": {
          "base_uri": "https://localhost:8080/"
        },
        "id": "iErsGho-ulEU",
        "outputId": "06c14535-c4f1-45cf-d3a9-3fbaa6044e80"
      },
      "source": [
        "my_list = [1527, 'Muletas','depresion', 'llorar', 1.1,'2',3]\n",
        "print(my_list[int(len(my_list)/2):len(my_list)-1])"
      ],
      "execution_count": null,
      "outputs": [
        {
          "output_type": "stream",
          "name": "stdout",
          "text": [
            "['llorar', 1.1, '2']\n"
          ]
        }
      ]
    },
    {
      "cell_type": "markdown",
      "metadata": {
        "id": "4vHACityvVtr"
      },
      "source": [
        "The slice starts from the first element indicated, but excludes the last element indicated. Here we select all elements starting from index 1, which refers to the second element:"
      ]
    },
    {
      "cell_type": "code",
      "metadata": {
        "colab": {
          "base_uri": "https://localhost:8080/"
        },
        "id": "FxsMYiafveCA",
        "outputId": "de3b6383-0a74-430d-8ea1-12e105b5b1eb"
      },
      "source": [
        "my_list = ['Quant','Connect',1,2,3]\n",
        "print(my_list[1:])"
      ],
      "execution_count": null,
      "outputs": [
        {
          "output_type": "stream",
          "name": "stdout",
          "text": [
            "['Connect', 1, 2, 3]\n"
          ]
        }
      ]
    },
    {
      "cell_type": "code",
      "metadata": {
        "colab": {
          "base_uri": "https://localhost:8080/"
        },
        "id": "CXNVPK9Lvi_0",
        "outputId": "a18c443b-8c92-4f71-f234-db1f8bdae879"
      },
      "source": [
        "my_list = [1527, 'Muletas','depresion', 'llorar', 1.1,'2',3]\n",
        "print(my_list[1:])"
      ],
      "execution_count": null,
      "outputs": [
        {
          "output_type": "stream",
          "name": "stdout",
          "text": [
            "['Muletas', 'depresion', 'llorar', 1.1, '2', 3]\n"
          ]
        }
      ]
    },
    {
      "cell_type": "markdown",
      "metadata": {
        "id": "HqhHV6_3vuZK"
      },
      "source": [
        "And all elements up to but excluding index 3 and those at its right side:\n",
        "\n",
        "\n"
      ]
    },
    {
      "cell_type": "code",
      "metadata": {
        "colab": {
          "base_uri": "https://localhost:8080/"
        },
        "id": "51YdVPvavxMG",
        "outputId": "73743254-25dc-41e6-c107-bfd2a711e98b"
      },
      "source": [
        "my_list = ['Quant','Connect',1,2,3]\n",
        "print(my_list[:3])"
      ],
      "execution_count": null,
      "outputs": [
        {
          "output_type": "stream",
          "name": "stdout",
          "text": [
            "['Quant', 'Connect', 1]\n"
          ]
        }
      ]
    },
    {
      "cell_type": "code",
      "metadata": {
        "colab": {
          "base_uri": "https://localhost:8080/"
        },
        "id": "cBTtpOG2wIzR",
        "outputId": "75bcb590-a125-4966-9e22-c7cb95bda59b"
      },
      "source": [
        "my_list = [1527, 'Muletas','depresion', 'llorar', 1.1,'2',3]\n",
        "print(my_list[:3])"
      ],
      "execution_count": null,
      "outputs": [
        {
          "output_type": "stream",
          "name": "stdout",
          "text": [
            "[1527, 'Muletas', 'depresion']\n"
          ]
        }
      ]
    },
    {
      "cell_type": "markdown",
      "metadata": {
        "id": "JuBWbdVJweID"
      },
      "source": [
        "If you wish to add or remove an element from a list, you can use the append() and remove() methods for lists as follows:"
      ]
    },
    {
      "cell_type": "code",
      "metadata": {
        "colab": {
          "base_uri": "https://localhost:8080/"
        },
        "id": "iQ-Fg0fgwlI0",
        "outputId": "f01bc7a6-460a-41b4-bb30-c75a24bc114f"
      },
      "source": [
        "my_list = ['Hello', 'Quant']\n",
        "my_list.append('Hello')\n",
        "print(my_list)\n",
        "my_list.remove('Hello')\n",
        "print(my_list)"
      ],
      "execution_count": null,
      "outputs": [
        {
          "output_type": "stream",
          "name": "stdout",
          "text": [
            "['Hello', 'Quant', 'Hello']\n",
            "['Quant', 'Hello']\n"
          ]
        }
      ]
    },
    {
      "cell_type": "code",
      "metadata": {
        "colab": {
          "base_uri": "https://localhost:8080/"
        },
        "id": "7AW_zISswuxt",
        "outputId": "bf430f6e-d3b7-4a91-d108-40e042e52b5c"
      },
      "source": [
        "my_list = [1527, 'Muletas','depresion', 'llorar', 1.1,'2',3]\n",
        "my_list.remove(3)\n",
        "my_list.remove(1527)\n",
        "print(my_list)\n",
        "my_list.append('1527')\n",
        "my_list.remove('llorar')\n",
        "my_list.remove('Muletas')\n",
        "print(my_list)\n",
        "\n"
      ],
      "execution_count": null,
      "outputs": [
        {
          "output_type": "stream",
          "name": "stdout",
          "text": [
            "['Muletas', 'depresion', 'llorar', 1.1, '2']\n",
            "['depresion', 1.1, '2', '1527']\n"
          ]
        }
      ]
    },
    {
      "cell_type": "markdown",
      "metadata": {
        "id": "sBl_JhaMxY_-"
      },
      "source": [
        "When there are repeated instances of \"Hello\", the first one is removed."
      ]
    },
    {
      "cell_type": "markdown",
      "metadata": {
        "id": "P0AK1EjfxbSh"
      },
      "source": [
        "#####Tuple"
      ]
    },
    {
      "cell_type": "markdown",
      "metadata": {
        "id": "LmjPH3oKxeq-"
      },
      "source": [
        "A tuple is a data structure type similar to a list. The difference is that a tuple is immutable, which means you can't change the elements in it once it's defined. We create a tuple by putting comma-separated values between parentheses."
      ]
    },
    {
      "cell_type": "code",
      "metadata": {
        "id": "rQG8aLwQynbu"
      },
      "source": [
        "my_tuple = ('Welcome','to','QuantConnect')"
      ],
      "execution_count": null,
      "outputs": []
    },
    {
      "cell_type": "code",
      "metadata": {
        "id": "4nHRRfX3yq9X"
      },
      "source": [
        "my_tuple = ('Cam','Caro')"
      ],
      "execution_count": null,
      "outputs": []
    },
    {
      "cell_type": "markdown",
      "metadata": {
        "id": "7LZ18vJPyyyT"
      },
      "source": [
        "Just like a list, a tuple can be sliced by using index."
      ]
    },
    {
      "cell_type": "code",
      "metadata": {
        "colab": {
          "base_uri": "https://localhost:8080/"
        },
        "id": "h86yxpH2y3Xf",
        "outputId": "a5d195c1-8aa8-4923-ed74-6d098cde205f"
      },
      "source": [
        "my_tuple = ('Welcome','to','QuantConnect')\n",
        "print(my_tuple[1:])\n"
      ],
      "execution_count": null,
      "outputs": [
        {
          "output_type": "stream",
          "name": "stdout",
          "text": [
            "('to', 'QuantConnect')\n"
          ]
        }
      ]
    },
    {
      "cell_type": "code",
      "metadata": {
        "colab": {
          "base_uri": "https://localhost:8080/"
        },
        "id": "dVbx_tuAzDz4",
        "outputId": "7f1bc7c6-d57a-4f2a-8561-2072f39b3dc2"
      },
      "source": [
        "my_tuple = ('Cam','no','deja', 'todo', 'para el final' )\n",
        "print(my_tuple[2:])"
      ],
      "execution_count": null,
      "outputs": [
        {
          "output_type": "stream",
          "name": "stdout",
          "text": [
            "('deja', 'todo', 'para el final')\n"
          ]
        }
      ]
    },
    {
      "cell_type": "markdown",
      "metadata": {
        "id": "8oOJKFNcznpc"
      },
      "source": [
        "#####Set"
      ]
    },
    {
      "cell_type": "markdown",
      "metadata": {
        "id": "mjt6uTTPzpgf"
      },
      "source": [
        "A set is an unordered collection with no duplicate elements. The built-in function set() can be used to create sets."
      ]
    },
    {
      "cell_type": "code",
      "metadata": {
        "colab": {
          "base_uri": "https://localhost:8080/"
        },
        "id": "vIIVZY-h1RVK",
        "outputId": "cf6935ab-4d60-4daa-d98b-16d2de909fd1"
      },
      "source": [
        "stock_list = ['AAPL','GOOG','IBM','AAPL','IBM','FB','F','GOOG']\n",
        "stock_set = set(stock_list)\n",
        "print(stock_set)"
      ],
      "execution_count": null,
      "outputs": [
        {
          "output_type": "stream",
          "name": "stdout",
          "text": [
            "{'FB', 'IBM', 'F', 'GOOG', 'AAPL'}\n"
          ]
        }
      ]
    },
    {
      "cell_type": "code",
      "metadata": {
        "colab": {
          "base_uri": "https://localhost:8080/"
        },
        "id": "5axf-c8v1WQ5",
        "outputId": "126ca7e7-1c08-4072-dc87-11e6d5f9074c"
      },
      "source": [
        "stock_list = ['CELIA','JOROPO','IBM','CELIA','PETRONA','FB','F','JOROPO', 'PETRONA          ']\n",
        "stock_set = set(stock_list)\n",
        "print(stock_set)"
      ],
      "execution_count": null,
      "outputs": [
        {
          "output_type": "stream",
          "name": "stdout",
          "text": [
            "{'CELIA', 'JOROPO', 'IBM', 'PETRONA          ', 'F', 'FB', 'PETRONA'}\n"
          ]
        }
      ]
    },
    {
      "cell_type": "markdown",
      "metadata": {
        "id": "AVmO7PnM1kV1"
      },
      "source": [
        "Set is an easy way to remove duplicate elements from a list."
      ]
    },
    {
      "cell_type": "markdown",
      "metadata": {
        "id": "go6w_zWa1mjd"
      },
      "source": [
        "#####Dictionary"
      ]
    },
    {
      "cell_type": "markdown",
      "metadata": {
        "id": "40WJq3Ms1sAc"
      },
      "source": [
        "A dictionary is one of the most important data structures in Python. Unlike sequences which are indexed by integers, dictionaries are indexed by keys which can be either strings or floats.\n",
        "\n",
        "A dictionary is an unordered collection of key : value pairs, with the requirement that the keys are unique. We create a dictionary by placing a comma-separated list of key : value pairs within the braces."
      ]
    },
    {
      "cell_type": "code",
      "metadata": {
        "id": "juNMjHdd2Rb2"
      },
      "source": [
        "my_dic = {'AAPL': 'Apple', 'FB': 'FaceBook', 'GOOG': 'Alphabet'}"
      ],
      "execution_count": null,
      "outputs": []
    },
    {
      "cell_type": "code",
      "metadata": {
        "id": "D9DLcNvw2U5E"
      },
      "source": [
        "my_dic2 = {'15': 'Cam', '01': 'Caro', '27': 'Adri'}"
      ],
      "execution_count": null,
      "outputs": []
    },
    {
      "cell_type": "markdown",
      "metadata": {
        "id": "OqfOe-yk2reX"
      },
      "source": [
        "After defining a dictionary, we can access any value by indicating its key in brackets."
      ]
    },
    {
      "cell_type": "code",
      "metadata": {
        "colab": {
          "base_uri": "https://localhost:8080/"
        },
        "id": "jInSCudN2vsJ",
        "outputId": "cf74b159-9eea-42bd-d40b-e6402fd604bd"
      },
      "source": [
        "print(my_dic['GOOG'])"
      ],
      "execution_count": null,
      "outputs": [
        {
          "output_type": "stream",
          "name": "stdout",
          "text": [
            "Alphabet\n"
          ]
        }
      ]
    },
    {
      "cell_type": "code",
      "metadata": {
        "colab": {
          "base_uri": "https://localhost:8080/"
        },
        "id": "6_pt_nUd21Ei",
        "outputId": "7ebf74ce-54ee-44d8-a7fd-d2616d9e2810"
      },
      "source": [
        "print(my_dic2['27'])"
      ],
      "execution_count": null,
      "outputs": [
        {
          "output_type": "stream",
          "name": "stdout",
          "text": [
            "Adri\n"
          ]
        }
      ]
    },
    {
      "cell_type": "markdown",
      "metadata": {
        "id": "G-AJBGCi2_s_"
      },
      "source": [
        "We can also change the value associated with a specified key:"
      ]
    },
    {
      "cell_type": "code",
      "metadata": {
        "colab": {
          "base_uri": "https://localhost:8080/"
        },
        "id": "RPR1yRr83Rn6",
        "outputId": "11242a70-a19d-4728-ac80-8c7a4e09a145"
      },
      "source": [
        "my_dic['GOOG'] = 'Alphabet Company'\n",
        "print(my_dic['GOOG'])"
      ],
      "execution_count": null,
      "outputs": [
        {
          "output_type": "stream",
          "name": "stdout",
          "text": [
            "Alphabet Company\n"
          ]
        }
      ]
    },
    {
      "cell_type": "code",
      "metadata": {
        "colab": {
          "base_uri": "https://localhost:8080/"
        },
        "id": "mrQ2Gml63Syy",
        "outputId": "18825e9b-8c66-4d22-a756-d6dfe6e36e74"
      },
      "source": [
        "my_dic2['27'] = 'Adriana - la patrona'\n",
        "print(my_dic2['27'])"
      ],
      "execution_count": null,
      "outputs": [
        {
          "output_type": "stream",
          "name": "stdout",
          "text": [
            "Adriana - la patrona\n"
          ]
        }
      ]
    },
    {
      "cell_type": "markdown",
      "metadata": {
        "id": "h-sgKW5M3dWg"
      },
      "source": [
        "The built-in method of the dictionary object dict.keys() returns a list of all the keys used in the dictionary."
      ]
    },
    {
      "cell_type": "code",
      "metadata": {
        "colab": {
          "base_uri": "https://localhost:8080/"
        },
        "id": "Cw8nhtVq3d_q",
        "outputId": "aa1cf49b-f8ae-489e-8b58-4afe98a03da7"
      },
      "source": [
        "print(my_dic.keys())"
      ],
      "execution_count": null,
      "outputs": [
        {
          "output_type": "stream",
          "name": "stdout",
          "text": [
            "dict_keys(['AAPL', 'FB', 'GOOG'])\n"
          ]
        }
      ]
    },
    {
      "cell_type": "code",
      "metadata": {
        "colab": {
          "base_uri": "https://localhost:8080/"
        },
        "id": "5K6zbEMW3gHP",
        "outputId": "552fa550-628a-4e24-cde5-b5687a7b2d8b"
      },
      "source": [
        "print(my_dic2.keys())"
      ],
      "execution_count": null,
      "outputs": [
        {
          "output_type": "stream",
          "name": "stdout",
          "text": [
            "dict_keys(['15', '01', '27'])\n"
          ]
        }
      ]
    },
    {
      "cell_type": "markdown",
      "metadata": {
        "id": "LqWOaK_k3lcZ"
      },
      "source": [
        "####**Common String Operations**"
      ]
    },
    {
      "cell_type": "markdown",
      "metadata": {
        "id": "PGXnCCuQ3wNI"
      },
      "source": [
        "A string is an immutable sequence of characters. It can be sliced by index just like a tuple:"
      ]
    },
    {
      "cell_type": "code",
      "metadata": {
        "colab": {
          "base_uri": "https://localhost:8080/"
        },
        "id": "Dtl3R5MF3xCo",
        "outputId": "d330fa46-fb5e-40af-b438-ea434ff032b2"
      },
      "source": [
        "my_str = 'Welcome to QuantConnect'\n",
        "print(my_str[8:])"
      ],
      "execution_count": null,
      "outputs": [
        {
          "output_type": "stream",
          "name": "stdout",
          "text": [
            "to QuantConnect\n"
          ]
        }
      ]
    },
    {
      "cell_type": "code",
      "metadata": {
        "colab": {
          "base_uri": "https://localhost:8080/"
        },
        "id": "pyoam-qy31Tu",
        "outputId": "d006b839-7e2c-4d95-f8e3-d72ba30e6257"
      },
      "source": [
        "my_str2 = 'No dejes las cosas para el final'\n",
        "print(my_str2[19:])"
      ],
      "execution_count": null,
      "outputs": [
        {
          "output_type": "stream",
          "name": "stdout",
          "text": [
            "para el final\n"
          ]
        }
      ]
    },
    {
      "cell_type": "markdown",
      "metadata": {
        "id": "N3nmaTXa4JHO"
      },
      "source": [
        "There are many methods associated with strings. We can use string.count() to count the occurrences of a character in a string, use string.find() to return the index of a specific character, and use string.replace() to replace characters."
      ]
    },
    {
      "cell_type": "code",
      "metadata": {
        "colab": {
          "base_uri": "https://localhost:8080/"
        },
        "id": "vTS1BvO44Ska",
        "outputId": "2a42ba9d-81f5-42c1-84b8-7cd1182650b8"
      },
      "source": [
        "print(\"Counting the number of e's in this sentence\".count('e'))\n",
        "\n",
        "print('The first time e appears in this sentence'.find('e'))\n",
        "\n",
        "print('all the a in this sentence now becomes e'.replace('a','e'))\n"
      ],
      "execution_count": null,
      "outputs": [
        {
          "output_type": "stream",
          "name": "stdout",
          "text": [
            "6\n",
            "2\n",
            "ell the e in this sentence now becomes e\n"
          ]
        }
      ]
    },
    {
      "cell_type": "code",
      "metadata": {
        "colab": {
          "base_uri": "https://localhost:8080/"
        },
        "id": "2gf5U-XZ4by9",
        "outputId": "262a9adc-ccc1-4f3e-9095-9d444217de1d"
      },
      "source": [
        "print(\"si tu gusto gustara del gusto que gusta mi gusto, mi gisto gustaría del gusto que gusta tu gusto\".count('g'))\n",
        "\n",
        "print('si tu gusto gustara del gusto que gusta mi gusto, mi gisto gustaría del gusto que gusta tu gusto'.find('i'))\n",
        "\n",
        "print('si tu gusto gustara del gusto que gusta mi gusto, mi gisto gustaría del gusto que gusta tu gusto'.replace('gusto','cerbeza'))"
      ],
      "execution_count": null,
      "outputs": [
        {
          "output_type": "stream",
          "name": "stdout",
          "text": [
            "10\n",
            "1\n",
            "si tu cerbeza gustara del cerbeza que gusta mi cerbeza, mi gisto gustaría del cerbeza que gusta tu cerbeza\n"
          ]
        }
      ]
    },
    {
      "cell_type": "markdown",
      "metadata": {
        "id": "fSlz8UvT42wD"
      },
      "source": [
        "The most commonly used method for strings is string.split(). This method will split the string by the indicated character and return a list:"
      ]
    },
    {
      "cell_type": "code",
      "metadata": {
        "colab": {
          "base_uri": "https://localhost:8080/"
        },
        "id": "gkh52vDp5IL_",
        "outputId": "d7368c9c-26af-44c6-bd15-7ec20f403fae"
      },
      "source": [
        "Time = '2016-04-01 09:43:00'\n",
        "splited_list = Time.split(' ')\n",
        "date = splited_list[0]\n",
        "time = splited_list[1]\n",
        "print(date, time)\n",
        "hour = time.split(':')[0]\n",
        "print(hour)"
      ],
      "execution_count": null,
      "outputs": [
        {
          "output_type": "stream",
          "name": "stdout",
          "text": [
            "2016-04-01 09:43:00\n",
            "09\n"
          ]
        }
      ]
    },
    {
      "cell_type": "code",
      "metadata": {
        "colab": {
          "base_uri": "https://localhost:8080/"
        },
        "id": "BWfZ2TsD5TJ6",
        "outputId": "3c009cd0-a320-4f23-8a9e-b8667d55ce36"
      },
      "source": [
        "fullname = 'Cardona Carrasquilla, Andres Camilo'\n",
        "splited_list = fullname.split(',')\n",
        "lastname = splited_list[0]\n",
        "name = splited_list[1]\n",
        "print(name, lastname)\n",
        "firstname = name.split(' ')[1]\n",
        "print(firstname)"
      ],
      "execution_count": null,
      "outputs": [
        {
          "output_type": "stream",
          "name": "stdout",
          "text": [
            " Andres Camilo Cardona Carrasquilla\n",
            "Andres\n"
          ]
        }
      ]
    },
    {
      "cell_type": "markdown",
      "metadata": {
        "id": "bZv11e5m6sO3"
      },
      "source": [
        "We can replace parts of a string by our variable. This is called string formatting."
      ]
    },
    {
      "cell_type": "code",
      "metadata": {
        "colab": {
          "base_uri": "https://localhost:8080/"
        },
        "id": "JoulZ1Fx6vgl",
        "outputId": "6dedcb91-4b18-4da9-8336-826d9b89ee3a"
      },
      "source": [
        "my_time = 'Hour: {}, Minute: {}'.format(9, 43)\n",
        "print(my_time)"
      ],
      "execution_count": null,
      "outputs": [
        {
          "output_type": "stream",
          "name": "stdout",
          "text": [
            "Hour: 9, Minute: 43\n"
          ]
        }
      ]
    },
    {
      "cell_type": "code",
      "metadata": {
        "colab": {
          "base_uri": "https://localhost:8080/"
        },
        "id": "85Yb77RD6y9v",
        "outputId": "0b83fc81-1b10-42d6-f0c2-e50ba53e7b84"
      },
      "source": [
        "my_presentation = 'Name: {}, Program: {}'.format('Camilo C.', 'Law')\n",
        "print(my_presentation)"
      ],
      "execution_count": null,
      "outputs": [
        {
          "output_type": "stream",
          "name": "stdout",
          "text": [
            "Name: Camilo C., Program: Law\n"
          ]
        }
      ]
    },
    {
      "cell_type": "markdown",
      "metadata": {
        "id": "cOBEGxLx7A24"
      },
      "source": [
        "Another way to format a string is to use the % symbol."
      ]
    },
    {
      "cell_type": "code",
      "metadata": {
        "colab": {
          "base_uri": "https://localhost:8080/"
        },
        "id": "wJ37NpET7CnM",
        "outputId": "b22f079f-3c8b-4c14-8244-54680004eebc"
      },
      "source": [
        "print( 'su cambio es %f' % 3.14)\n",
        "print('%s Para %s' % ('no dejar todo', 'para en final'))\n"
      ],
      "execution_count": null,
      "outputs": [
        {
          "output_type": "stream",
          "name": "stdout",
          "text": [
            "su cambio es 3.140000\n",
            "no dejar todo Para para en final\n"
          ]
        }
      ]
    },
    {
      "cell_type": "markdown",
      "metadata": {
        "id": "CI-c7mG_7hxL"
      },
      "source": [
        "%s is a placeholder that takes in a string. Similarly %f takes a float and %d takes an integer."
      ]
    },
    {
      "cell_type": "markdown",
      "metadata": {
        "id": "6qc_PkJY7jZt"
      },
      "source": [
        "####**Summary**"
      ]
    },
    {
      "cell_type": "markdown",
      "metadata": {
        "id": "UcOxJGYL7mfv"
      },
      "source": [
        "We have seen the basic data types and data structures in Python. It's important to keep practicing to become familiar with these data structures. In the next tutorial, we will cover for and while loops and logical operations in Python."
      ]
    },
    {
      "cell_type": "markdown",
      "metadata": {
        "id": "_K7gs8Cgns89"
      },
      "source": [
        "### 02.Logical Operations and Loops"
      ]
    },
    {
      "cell_type": "markdown",
      "metadata": {
        "id": "Ng-N_rkDn5hM"
      },
      "source": [
        "####**Introduction**"
      ]
    },
    {
      "cell_type": "markdown",
      "metadata": {
        "id": "FDEwCZDOn_L2"
      },
      "source": [
        "We discussed the basic data types and data structures in Python in the last tutorial. This chapter covers logical operations and loops in Python, which are very common in programming."
      ]
    },
    {
      "cell_type": "markdown",
      "metadata": {
        "id": "wQJ1S3V9oCVS"
      },
      "source": [
        "####**Logical Operations**"
      ]
    },
    {
      "cell_type": "markdown",
      "metadata": {
        "id": "0Ig7as7JoIq-"
      },
      "source": [
        "Like most programming languages, Python has comparison operators:"
      ]
    },
    {
      "cell_type": "code",
      "metadata": {
        "colab": {
          "base_uri": "https://localhost:8080/"
        },
        "id": "Iqm_5ACLoO1q",
        "outputId": "aada4f52-9ad2-4e10-c006-496a82441225"
      },
      "source": [
        "print (1 == 0)    # 1 equals 0\n",
        "print (1 == 1)    # 1 equals 1\n",
        "print (1 != 0)    # 1 is not equal to 0\n",
        "print (5 >= 5)    # 5 is greater than or equal to 5\n",
        "print (5 >= 6)    # 5 is greater than or equal to 6\n"
      ],
      "execution_count": null,
      "outputs": [
        {
          "output_type": "stream",
          "name": "stdout",
          "text": [
            "False\n",
            "True\n",
            "True\n",
            "True\n",
            "False\n"
          ]
        }
      ]
    },
    {
      "cell_type": "code",
      "metadata": {
        "colab": {
          "base_uri": "https://localhost:8080/"
        },
        "id": "5Cb8zKNQohiA",
        "outputId": "33ebed01-e496-466b-f54c-6d452fd18d41"
      },
      "source": [
        "print ('1' == '1')    # '1' equals '1'\n",
        "print (1 == 1)    # 1 equals 1\n",
        "print (len(\"LA CUCARACHA\") == 'A')    # \"LA CUCARACHA\"'s number of characters is  equal to the letter 'A'\n",
        "print (0 >= 0.1)    # 0 is greater than or equal to 0.1\n",
        "print (5.5 >= 5.56)    # 5.5 is greater than or equal to 5.5"
      ],
      "execution_count": null,
      "outputs": [
        {
          "output_type": "stream",
          "name": "stdout",
          "text": [
            "True\n",
            "True\n",
            "False\n",
            "False\n",
            "False\n"
          ]
        }
      ]
    },
    {
      "cell_type": "markdown",
      "metadata": {
        "id": "VhbQCOLKprFw"
      },
      "source": [
        "Each statement above has a boolean value, which must be either True or False, but not both.\n",
        "\n",
        "We can combine simple statements P and Q to form complex statements using logical operators:\n",
        "\n",
        "* The statement \"P and Q\" is true if both P and Q are true, otherwise it is false.\n",
        "\n",
        "* The statement \"P or Q\" is false if both P and Q are false, otherwise it is true.\n",
        "\n",
        "* The statement \"not P\" is true if P is false, and vice versa."
      ]
    },
    {
      "cell_type": "code",
      "metadata": {
        "colab": {
          "base_uri": "https://localhost:8080/"
        },
        "id": "0sClHeddrJ9z",
        "outputId": "7c1fceff-332b-42b8-8a25-fa677fb0e8f9"
      },
      "source": [
        "print (2 > 1 and 3 > 2)\n",
        "print (2 > 1 and 3 < 2)\n",
        "print (2 > 1 or  3 < 2)\n",
        "print (2 < 1 and 3 < 2)"
      ],
      "execution_count": null,
      "outputs": [
        {
          "output_type": "stream",
          "name": "stdout",
          "text": [
            "True\n",
            "False\n",
            "True\n",
            "False\n"
          ]
        }
      ]
    },
    {
      "cell_type": "code",
      "metadata": {
        "colab": {
          "base_uri": "https://localhost:8080/"
        },
        "id": "a92V7n0wrY_i",
        "outputId": "5bcf9f69-7416-427f-93bb-88767ca6f944"
      },
      "source": [
        "print (\"microscoipio\".count('o') > 1 and \"microscoipio\".count('o') > 2)\n",
        "print (\"microscoipio\".count('o') > 1 and \"microscoipio\".count('l') > 2)\n",
        "print (\"microscoipio\".count('m') >= 1 and \"microscoipio\".count('m') < 2)\n",
        "print (\"microscoipio\".count('8') > 1 and \"microscoipio\".count('l') > 2)"
      ],
      "execution_count": null,
      "outputs": [
        {
          "output_type": "stream",
          "name": "stdout",
          "text": [
            "True\n",
            "False\n",
            "True\n",
            "False\n"
          ]
        }
      ]
    },
    {
      "cell_type": "markdown",
      "metadata": {
        "id": "zeN8I_K0sJ-W"
      },
      "source": [
        "When dealing with a very complex logical statement that involves in several statements, we can use brackets to separate and combine them."
      ]
    },
    {
      "cell_type": "code",
      "metadata": {
        "colab": {
          "base_uri": "https://localhost:8080/"
        },
        "id": "e9LBGIHvsK-K",
        "outputId": "8d2ef8da-f820-4157-84c6-590936ab0338"
      },
      "source": [
        "print ((3 > 2 or 1 < 3) and (1!=3 and 4>3) and not ( 3 < 2 or 1 < 3 and (1!=3 and 4>3)))\n",
        "print (3 > 2 or 1 < 3 and (1!=3 and 4>3) and not ( 3 < 2 or 1 < 3 and (1!=3 and 4>3)))"
      ],
      "execution_count": null,
      "outputs": [
        {
          "output_type": "stream",
          "name": "stdout",
          "text": [
            "False\n",
            "True\n"
          ]
        }
      ]
    },
    {
      "cell_type": "code",
      "metadata": {
        "colab": {
          "base_uri": "https://localhost:8080/"
        },
        "id": "9BvGQ9StsV0z",
        "outputId": "9a7fd82c-e8f7-47fe-ccc4-68af69db91fb"
      },
      "source": [
        "print (('mocamocamoca'.count('amo') > 2 or 'mocamocamoca'.count('L') < 3) and ('Lluvia'!='lluvia' and 4>3) and not ( 33 < 2 or 1.14 < 2.14 and (1!=3 and 4>3)))\n",
        "print (3 -2> 0 or 1 < 3 and ('love'!=3 and 43+28>3) and not ( True!=False or 1 < 3 and (1!=3 and 4>3)))"
      ],
      "execution_count": null,
      "outputs": [
        {
          "output_type": "stream",
          "name": "stdout",
          "text": [
            "False\n",
            "True\n"
          ]
        }
      ]
    },
    {
      "cell_type": "markdown",
      "metadata": {
        "id": "Cj6ajYfdtcDa"
      },
      "source": [
        "Comparing the above two statements, we can see that it's wise to use brackets when we make a complex logical statement."
      ]
    },
    {
      "cell_type": "markdown",
      "metadata": {
        "id": "s2_36yDWtkIc"
      },
      "source": [
        "####**If Statement**"
      ]
    },
    {
      "cell_type": "markdown",
      "metadata": {
        "id": "YLa_t7hnttyq"
      },
      "source": [
        "An if statement executes a segment of code only if its condition is true. A standard if statement consists of 3 segments: if, elif and else."
      ]
    },
    {
      "cell_type": "code",
      "metadata": {
        "id": "EVHT10Jkt27i"
      },
      "source": [
        "if condition1:\n",
        "    # if condition1 is true, execute the code here\n",
        "    # and ignore the rest of this if statement\n",
        "elif condition2:\n",
        "    # if condition1 is false, and condition2 is true, execute the code here\n",
        "    # and ignore the rest of this if statement\n",
        "else:\n",
        "    # if none of the above conditions is True, execute the code here"
      ],
      "execution_count": null,
      "outputs": []
    },
    {
      "cell_type": "markdown",
      "metadata": {
        "id": "k77aj9quuAQE"
      },
      "source": [
        "An if statement doesn't necessarily has elif and else part. If it's not specified, the indented block of code will be executed when the condition is true, otherwise the whole if statement will be skipped."
      ]
    },
    {
      "cell_type": "code",
      "metadata": {
        "colab": {
          "base_uri": "https://localhost:8080/"
        },
        "id": "SiueCQO_uGyG",
        "outputId": "5dff2ddb-0a61-4b42-e5a3-74845a9f80d4"
      },
      "source": [
        "i = 0\n",
        "if i == 0: print ('i == 0 is True')\n"
      ],
      "execution_count": null,
      "outputs": [
        {
          "output_type": "stream",
          "name": "stdout",
          "text": [
            "i == 0 is True\n"
          ]
        }
      ]
    },
    {
      "cell_type": "code",
      "metadata": {
        "colab": {
          "base_uri": "https://localhost:8080/"
        },
        "id": "UJe8NVtwuTd9",
        "outputId": "a3d347a8-5d5a-486c-d785-25d89a63bcd9"
      },
      "source": [
        "i = 1\n",
        "if i != 0: print ('i == 0 is not  true')"
      ],
      "execution_count": null,
      "outputs": [
        {
          "output_type": "stream",
          "name": "stdout",
          "text": [
            "i == 0 is not  true\n"
          ]
        }
      ]
    },
    {
      "cell_type": "markdown",
      "metadata": {
        "id": "Gse4rwcCusCY"
      },
      "source": [
        "As we mentioned above, we can write some complex statements here:"
      ]
    },
    {
      "cell_type": "code",
      "metadata": {
        "colab": {
          "base_uri": "https://localhost:8080/"
        },
        "id": "QBTV0__ruxpD",
        "outputId": "3ae766e9-b468-4b67-b9af-44572d6fd208"
      },
      "source": [
        "p = 1 > 0\n",
        "q = 2 > 3\n",
        "if p and q:\n",
        "    print ('p and q is true')\n",
        "elif p and not q:\n",
        "    print ('q is false')\n",
        "elif q and not p:\n",
        "    print ('p is false')\n",
        "else:\n",
        "    print ('None of p and q is true')\n"
      ],
      "execution_count": null,
      "outputs": [
        {
          "output_type": "stream",
          "name": "stdout",
          "text": [
            "q is false\n"
          ]
        }
      ]
    },
    {
      "cell_type": "code",
      "metadata": {
        "colab": {
          "base_uri": "https://localhost:8080/"
        },
        "id": "lHtpVeIlvCny",
        "outputId": "de20cd13-9188-4917-f698-50c1c1cb205c"
      },
      "source": [
        "p = 'Pablo123'\n",
        "q = 'Pablo1234'\n",
        "if p == q or len(p)==len(q):\n",
        "    print ('p and q are the same')\n",
        "elif p.count('o') and q.count('o'):\n",
        "    print ('p and q hava the same number of o''s')\n",
        "else:\n",
        "    print ('complitely different' )\n"
      ],
      "execution_count": null,
      "outputs": [
        {
          "output_type": "stream",
          "name": "stdout",
          "text": [
            "p and q hava the same number of os\n"
          ]
        }
      ]
    },
    {
      "cell_type": "markdown",
      "metadata": {
        "id": "MsEg3cRbwQZe"
      },
      "source": [
        "####**Loop Structure**"
      ]
    },
    {
      "cell_type": "markdown",
      "metadata": {
        "id": "eV-ujekswXKP"
      },
      "source": [
        "Loops are an essential part of programming. The \"for\" and \"while\" loops run a block of code repeatedly."
      ]
    },
    {
      "cell_type": "markdown",
      "metadata": {
        "id": "sEmKVzwdwaUe"
      },
      "source": [
        "#####While Loop"
      ]
    },
    {
      "cell_type": "markdown",
      "metadata": {
        "id": "luSK_QqTwhnH"
      },
      "source": [
        "A \"while\" loop will run repeatedly until a certain condition has been met."
      ]
    },
    {
      "cell_type": "code",
      "metadata": {
        "colab": {
          "base_uri": "https://localhost:8080/"
        },
        "id": "3cWp4u73wiiu",
        "outputId": "db286b6a-7eb3-43a3-f3e1-fb83690720be"
      },
      "source": [
        "i = 0\n",
        "while i < 5:\n",
        "    print (i)\n",
        "    i += 1"
      ],
      "execution_count": null,
      "outputs": [
        {
          "output_type": "stream",
          "name": "stdout",
          "text": [
            "0\n",
            "1\n",
            "2\n",
            "3\n",
            "4\n"
          ]
        }
      ]
    },
    {
      "cell_type": "code",
      "metadata": {
        "colab": {
          "base_uri": "https://localhost:8080/"
        },
        "id": "SpcLgZ8Zwqja",
        "outputId": "801500bd-780f-4a13-9adf-814eed2e40b2"
      },
      "source": [
        "i = 0\n",
        "while i < 5:\n",
        "    print (2**i)\n",
        "    i += 1"
      ],
      "execution_count": null,
      "outputs": [
        {
          "output_type": "stream",
          "name": "stdout",
          "text": [
            "1\n",
            "2\n",
            "4\n",
            "8\n",
            "16\n"
          ]
        }
      ]
    },
    {
      "cell_type": "markdown",
      "metadata": {
        "id": "wKhnAAY_w1h1"
      },
      "source": [
        "When making a while loop, we need to ensure that something changes from iteration to iteration so that the while loop will terminate, otherwise, it will run forever. Here we used i += 1 (short for i = i + 1) to make i larger after each iteration. This is the most commonly used method to control a while loop."
      ]
    },
    {
      "cell_type": "markdown",
      "metadata": {
        "id": "nwj-c6F9w3Bb"
      },
      "source": [
        "#####For Loop"
      ]
    },
    {
      "cell_type": "markdown",
      "metadata": {
        "id": "zAMY34H9w5dC"
      },
      "source": [
        "A \"for\" loop will iterate over a sequence of value and terminate when the sequence has ended."
      ]
    },
    {
      "cell_type": "code",
      "metadata": {
        "colab": {
          "base_uri": "https://localhost:8080/"
        },
        "id": "RBeQuwf0xE14",
        "outputId": "500331b2-a19b-4b40-afa2-f8e7d7cd514e"
      },
      "source": [
        "for x in [1,2,3,4,5]: print (x)"
      ],
      "execution_count": null,
      "outputs": [
        {
          "output_type": "stream",
          "name": "stdout",
          "text": [
            "1\n",
            "2\n",
            "3\n",
            "4\n",
            "5\n"
          ]
        }
      ]
    },
    {
      "cell_type": "code",
      "metadata": {
        "colab": {
          "base_uri": "https://localhost:8080/"
        },
        "id": "S8uAzIYQxHyD",
        "outputId": "e9cdfa58-35ed-480f-dd95-9aa296e4745c"
      },
      "source": [
        "for x in [1,2,3,4,5]: print (x**x)"
      ],
      "execution_count": null,
      "outputs": [
        {
          "output_type": "stream",
          "name": "stdout",
          "text": [
            "1\n",
            "4\n",
            "27\n",
            "256\n",
            "3125\n"
          ]
        }
      ]
    },
    {
      "cell_type": "markdown",
      "metadata": {
        "id": "MD9gtE9jxS6N"
      },
      "source": [
        "We can also add if statements in a for loop. Here is a real example from our pairs trading algorithm:"
      ]
    },
    {
      "cell_type": "code",
      "metadata": {
        "colab": {
          "base_uri": "https://localhost:8080/"
        },
        "id": "JfsarM8QxV8K",
        "outputId": "24c01bad-b53f-40ac-8f86-0434be8231a4"
      },
      "source": [
        "stocks = ['AAPL','GOOG','IBM','FB','F','V', 'G', 'GE']\n",
        "selected = ['AAPL','IBM']\n",
        "new_list = []\n",
        "for stock in stocks:\n",
        "    if stock not in selected:\n",
        "        new_list.append(stock)\n",
        "print (new_list)"
      ],
      "execution_count": null,
      "outputs": [
        {
          "output_type": "stream",
          "name": "stdout",
          "text": [
            "['GOOG', 'FB', 'F', 'V', 'G', 'GE']\n"
          ]
        }
      ]
    },
    {
      "cell_type": "code",
      "metadata": {
        "colab": {
          "base_uri": "https://localhost:8080/"
        },
        "id": "ruqAxvTTxqgb",
        "outputId": "970f7c4d-e148-44ef-c153-2d12e9062bf1"
      },
      "source": [
        "stocks = ['AAPL','GOOG','IBM','FB','F','V', 'G', 'GE', 'miedo', 'dejar todo al final']\n",
        "selected = ['AAPL','IBM', 'dejar todo al final']\n",
        "new_list = []\n",
        "for stock in stocks:\n",
        "    if stock  in selected:\n",
        "        new_list.append(stock)\n",
        "print (new_list)"
      ],
      "execution_count": null,
      "outputs": [
        {
          "output_type": "stream",
          "name": "stdout",
          "text": [
            "['AAPL', 'IBM', 'dejar todo al final']\n"
          ]
        }
      ]
    },
    {
      "cell_type": "markdown",
      "metadata": {
        "id": "N3YdiZc9x9yy"
      },
      "source": [
        "Here we iterated all the elements in the list 'stocks'. Later in this chapter, we will introduce a smarter way to do this, which is just a one-line code."
      ]
    },
    {
      "cell_type": "markdown",
      "metadata": {
        "id": "2qeYvVKKyPoS"
      },
      "source": [
        "#####Break and continue"
      ]
    },
    {
      "cell_type": "markdown",
      "metadata": {
        "id": "Ty31KOeQyTXu"
      },
      "source": [
        "These are two commonly used commands in a for loop. If \"break\" is triggered while a loop is executing, the loop will terminate immediately:"
      ]
    },
    {
      "cell_type": "code",
      "metadata": {
        "colab": {
          "base_uri": "https://localhost:8080/"
        },
        "id": "txxDyr6xyWgu",
        "outputId": "3ccdc776-9da3-4dc1-b051-0eb52cab526c"
      },
      "source": [
        "stocks = ['AAPL','GOOG','IBM','FB','F','V', 'G', 'GE']\n",
        "for stock in stocks:\n",
        "    print (stock)\n",
        "    if stock == 'FB': break"
      ],
      "execution_count": null,
      "outputs": [
        {
          "output_type": "stream",
          "name": "stdout",
          "text": [
            "AAPL\n",
            "GOOG\n",
            "IBM\n",
            "FB\n"
          ]
        }
      ]
    },
    {
      "cell_type": "code",
      "metadata": {
        "colab": {
          "base_uri": "https://localhost:8080/"
        },
        "id": "JsEOJDk5yei9",
        "outputId": "92a30db0-523b-472d-a30a-39a8439ab69f"
      },
      "source": [
        "stocks = ['1','2','3','4','5','6', '7', '9']\n",
        "for stock in stocks:\n",
        "    print (stock)\n",
        "    if stock == '2': break"
      ],
      "execution_count": null,
      "outputs": [
        {
          "output_type": "stream",
          "name": "stdout",
          "text": [
            "1\n",
            "2\n"
          ]
        }
      ]
    },
    {
      "cell_type": "markdown",
      "metadata": {
        "id": "oq6aAlKDyqts"
      },
      "source": [
        "The \"continue\" command tells the loop to end this iteration and skip to the next iteration:"
      ]
    },
    {
      "cell_type": "code",
      "metadata": {
        "colab": {
          "base_uri": "https://localhost:8080/"
        },
        "id": "l08a9QlCyvUQ",
        "outputId": "98788db1-8234-4edc-b167-b97cf55ae369"
      },
      "source": [
        "stocks = ['AAPL','GOOG','IBM','FB','F','V', 'G', 'GE']\n",
        "for stock in stocks:\n",
        "    if stock == 'FB': continue\n",
        "    print (stock)"
      ],
      "execution_count": null,
      "outputs": [
        {
          "output_type": "stream",
          "name": "stdout",
          "text": [
            "AAPL\n",
            "GOOG\n",
            "IBM\n",
            "F\n",
            "V\n",
            "G\n",
            "GE\n"
          ]
        }
      ]
    },
    {
      "cell_type": "code",
      "metadata": {
        "colab": {
          "base_uri": "https://localhost:8080/"
        },
        "id": "li7TPJpQyyl5",
        "outputId": "20e14b8e-bb57-4057-8471-979aa95dac0f"
      },
      "source": [
        "stocks = ['1','2','3','4','5','6', '7', '8']\n",
        "for stock in stocks:\n",
        "    if int(stock) %2== 0: continue\n",
        "    print (stock)"
      ],
      "execution_count": null,
      "outputs": [
        {
          "output_type": "stream",
          "name": "stdout",
          "text": [
            "1\n",
            "3\n",
            "5\n",
            "7\n"
          ]
        }
      ]
    },
    {
      "cell_type": "markdown",
      "metadata": {
        "id": "TRxrpsxQzQwk"
      },
      "source": [
        "####**List Comprehension**"
      ]
    },
    {
      "cell_type": "markdown",
      "metadata": {
        "id": "QaS65uy5zYyV"
      },
      "source": [
        "List comprehension is a Pythonic way to create lists. Common applications are to make new lists where each element is the result of some operations applied to each member of another sequence. For example, if we want to create a list of squares using for loop:"
      ]
    },
    {
      "cell_type": "code",
      "metadata": {
        "colab": {
          "base_uri": "https://localhost:8080/"
        },
        "id": "ZPbog_yxzf7V",
        "outputId": "1a9c9e6b-1eac-4f4e-f711-9b76e5223b21"
      },
      "source": [
        "squares = []\n",
        "for i in [1,2,3,4,5]:\n",
        "    squares.append(i**2)\n",
        "print (squares)"
      ],
      "execution_count": null,
      "outputs": [
        {
          "output_type": "stream",
          "name": "stdout",
          "text": [
            "[1, 4, 9, 16, 25]\n"
          ]
        }
      ]
    },
    {
      "cell_type": "code",
      "metadata": {
        "colab": {
          "base_uri": "https://localhost:8080/"
        },
        "id": "H9Z7vBbSzmAZ",
        "outputId": "5d4b48f8-1e89-4e62-e291-b3f7fadb7cd8"
      },
      "source": [
        "squares = []\n",
        "for i in [1,2,3,4,5]:\n",
        "    squares.append(str(i)+'cp 100100' +str(i))\n",
        "print (squares)"
      ],
      "execution_count": null,
      "outputs": [
        {
          "output_type": "stream",
          "name": "stdout",
          "text": [
            "['1cp 1001001', '2cp 1001002', '3cp 1001003', '4cp 1001004', '5cp 1001005']\n"
          ]
        }
      ]
    },
    {
      "cell_type": "markdown",
      "metadata": {
        "id": "SDj3VTaY0HbR"
      },
      "source": [
        "Using list comprehension:"
      ]
    },
    {
      "cell_type": "code",
      "metadata": {
        "colab": {
          "base_uri": "https://localhost:8080/"
        },
        "id": "2EEnQtxA0Juu",
        "outputId": "4263cf0e-032b-4c7f-faca-dc597ea12931"
      },
      "source": [
        "foo = [1,2,3,4,5]\n",
        "squares = [x**2 for x in foo]\n",
        "print (squares)\n"
      ],
      "execution_count": null,
      "outputs": [
        {
          "output_type": "stream",
          "name": "stdout",
          "text": [
            "[1, 4, 9, 16, 25]\n"
          ]
        }
      ]
    },
    {
      "cell_type": "code",
      "metadata": {
        "colab": {
          "base_uri": "https://localhost:8080/"
        },
        "id": "pzFwzH9c0Rz5",
        "outputId": "f23a9e19-0991-418f-9b0a-3996a1f9b64b"
      },
      "source": [
        "foo = [1,2,3,4,5]\n",
        "codes = [str(x**2)+'code' for x in foo]\n",
        "print (codes)"
      ],
      "execution_count": null,
      "outputs": [
        {
          "output_type": "stream",
          "name": "stdout",
          "text": [
            "['1code', '4code', '9code', '16code', '25code']\n"
          ]
        }
      ]
    },
    {
      "cell_type": "markdown",
      "metadata": {
        "id": "ry66mYIK0jmY"
      },
      "source": [
        "Recall the example above where we used a for loop to select stocks. Here we use list comprehension:"
      ]
    },
    {
      "cell_type": "code",
      "metadata": {
        "colab": {
          "base_uri": "https://localhost:8080/"
        },
        "id": "ifXsznXY0wMx",
        "outputId": "090df54a-9e15-4f96-fb22-0981a8806a6b"
      },
      "source": [
        "stocks = ['AAPL','GOOG','IBM','FB','F','V', 'G', 'GE']\n",
        "selected = ['AAPL','IBM']\n",
        "new_list = [x for x in stocks if x not in selected]\n",
        "print (new_list)\n"
      ],
      "execution_count": null,
      "outputs": [
        {
          "output_type": "stream",
          "name": "stdout",
          "text": [
            "['GOOG', 'FB', 'F', 'V', 'G', 'GE']\n"
          ]
        }
      ]
    },
    {
      "cell_type": "code",
      "metadata": {
        "colab": {
          "base_uri": "https://localhost:8080/"
        },
        "id": "JSJ1-j9h04vu",
        "outputId": "e2bbfcb1-3f9f-4b88-f16e-ddce7314c5b8"
      },
      "source": [
        "stocks = ['AAPL','GOOG','IBM','FB','F','V', 'G', 'GE']\n",
        "selected = ['AAPL','IBM']\n",
        "selected2 = ['F','V']\n",
        "new_list = [x for x in stocks if x not in selected and x not in selected2 ]\n",
        "print (new_list)"
      ],
      "execution_count": null,
      "outputs": [
        {
          "output_type": "stream",
          "name": "stdout",
          "text": [
            "['GOOG', 'FB', 'G', 'GE']\n"
          ]
        }
      ]
    },
    {
      "cell_type": "markdown",
      "metadata": {
        "id": "oVW4zNKw1vRE"
      },
      "source": [
        "A list comprehension consists of square brackets containing an expression followed by a \"for\" clause, and possibly \"for\" or \"if\" clauses. For example:"
      ]
    },
    {
      "cell_type": "code",
      "metadata": {
        "colab": {
          "base_uri": "https://localhost:8080/"
        },
        "id": "lJcG4wfn1zV6",
        "outputId": "94cab4bc-ec63-43d6-8e2e-e6eec9fd0c03"
      },
      "source": [
        "print ([(x, y) for x in [1,2,3] for y in [3,1,4] if x != y])\n",
        "print ([str(x) + ' vs ' + str(y) for x in ['AAPL','GOOG','IBM','FB']\n",
        "                                for y in ['F','V','G','GE'] if x != y])"
      ],
      "execution_count": null,
      "outputs": [
        {
          "output_type": "stream",
          "name": "stdout",
          "text": [
            "[(1, 3), (1, 4), (2, 3), (2, 1), (2, 4), (3, 1), (3, 4)]\n",
            "['AAPL vs F', 'AAPL vs V', 'AAPL vs G', 'AAPL vs GE', 'GOOG vs F', 'GOOG vs V', 'GOOG vs G', 'GOOG vs GE', 'IBM vs F', 'IBM vs V', 'IBM vs G', 'IBM vs GE', 'FB vs F', 'FB vs V', 'FB vs G', 'FB vs GE']\n"
          ]
        }
      ]
    },
    {
      "cell_type": "code",
      "metadata": {
        "colab": {
          "base_uri": "https://localhost:8080/"
        },
        "id": "C5F9k_4x2DF4",
        "outputId": "b898df13-7292-4ec0-8315-ffe01addfb16"
      },
      "source": [
        "print(\"los encuentros dew apertura del evento serán:\")\n",
        "print ([(x, y) for x in ['tk','cam','nagi'] for y in ['tk','rojo','negro'] if x != y])"
      ],
      "execution_count": null,
      "outputs": [
        {
          "output_type": "stream",
          "name": "stdout",
          "text": [
            "los encuentros dew apertura del evento serán:\n",
            "[('tk', 'rojo'), ('tk', 'negro'), ('cam', 'tk'), ('cam', 'rojo'), ('cam', 'negro'), ('nagi', 'tk'), ('nagi', 'rojo'), ('nagi', 'negro')]\n"
          ]
        }
      ]
    },
    {
      "cell_type": "markdown",
      "metadata": {
        "id": "HkDKVu5z2hb5"
      },
      "source": [
        "List comprehension is an elegant way to organize one or more for loops when creating a list."
      ]
    },
    {
      "cell_type": "markdown",
      "metadata": {
        "id": "TvuME6yz2jXR"
      },
      "source": [
        "####**Summary**"
      ]
    },
    {
      "cell_type": "markdown",
      "metadata": {
        "id": "E6AsKXA32phm"
      },
      "source": [
        "This chapter has introduced logical operations, loops, and list comprehension. In the next chapter, we will introduce functions and object-oriented programming, which will enable us to make our codes clean and versatile."
      ]
    },
    {
      "cell_type": "markdown",
      "metadata": {
        "id": "-R2z-NM04Jyl"
      },
      "source": [
        "### 03.Functions and Objective-Oriented Programming"
      ]
    },
    {
      "cell_type": "markdown",
      "metadata": {
        "id": "o_W0ngXW4QT5"
      },
      "source": [
        "####**Introduction**"
      ]
    },
    {
      "cell_type": "markdown",
      "metadata": {
        "id": "TLRLBiON4VY5"
      },
      "source": [
        "In the last tutorial we introduced logical operations, loops and list comprehension. We will introduce functions and object-oriented programming in this chapter, which will enable us to build complex algorithms in more flexible ways."
      ]
    },
    {
      "cell_type": "markdown",
      "metadata": {
        "id": "WjJW2W7q4YnT"
      },
      "source": [
        "####**Functions**"
      ]
    },
    {
      "cell_type": "markdown",
      "metadata": {
        "id": "oyxOa5LZ4eAw"
      },
      "source": [
        "A function is a reusable block of code. We can use a function to output a value, or do anything else we want. We can easily define our own function by using the keyword \"def\"."
      ]
    },
    {
      "cell_type": "code",
      "metadata": {
        "id": "VR_wCiU_4gyr"
      },
      "source": [
        "def product(x,y):\n",
        "    return x*y\n",
        "print (product(2,3))\n",
        "print (product(5,10))"
      ],
      "execution_count": null,
      "outputs": []
    },
    {
      "cell_type": "code",
      "metadata": {
        "colab": {
          "base_uri": "https://localhost:8080/"
        },
        "id": "vSz99JZF40d8",
        "outputId": "c5d1b726-f0bb-40bf-9545-c7868496278f"
      },
      "source": [
        "def prefix(x,y):\n",
        "    return x+y\n",
        "print (prefix('pre','universitario'))\n",
        "print (prefix('AL','2032'))"
      ],
      "execution_count": null,
      "outputs": [
        {
          "output_type": "stream",
          "name": "stdout",
          "text": [
            "preuniversitario\n",
            "AL2032\n"
          ]
        }
      ]
    },
    {
      "cell_type": "markdown",
      "metadata": {
        "id": "kyOJludx5bhJ"
      },
      "source": [
        "The keyword \"def\" is followed by the function name and the parenthesized list of formal parameters. The statements that form the body of the function start at the next line, and must be indented. The product() function above has \"x\" and \"y\" as its parameters. A function doesn't necessarily have parameters:"
      ]
    },
    {
      "cell_type": "code",
      "metadata": {
        "colab": {
          "base_uri": "https://localhost:8080/"
        },
        "id": "s6Jza8Fk5fFa",
        "outputId": "71074502-6aab-4b08-9fd9-7ac829f4e0b3"
      },
      "source": [
        "def say_hi():\n",
        "    print (\"Welcome to QuantConnect\")\n",
        "say_hi()"
      ],
      "execution_count": null,
      "outputs": [
        {
          "output_type": "stream",
          "name": "stdout",
          "text": [
            "Welcome to QuantConnect\n"
          ]
        }
      ]
    },
    {
      "cell_type": "code",
      "metadata": {
        "colab": {
          "base_uri": "https://localhost:8080/"
        },
        "id": "6tcvP_ut5lqX",
        "outputId": "5ad7e7cf-c8b2-4f0c-d38e-cab938f0b95d"
      },
      "source": [
        "def curse():\n",
        "    print (\"Welcome to the end of the world\")\n",
        "curse()"
      ],
      "execution_count": null,
      "outputs": [
        {
          "output_type": "stream",
          "name": "stdout",
          "text": [
            "Welcome to the end of the world\n"
          ]
        }
      ]
    },
    {
      "cell_type": "markdown",
      "metadata": {
        "id": "qDaLjmc15xA7"
      },
      "source": [
        "####**Built-in Function**"
      ]
    },
    {
      "cell_type": "markdown",
      "metadata": {
        "id": "JuQ9ajAA53sX"
      },
      "source": [
        "**range()** is a function that creates a list containing an arithmetic sequence. It's often used in for loops. The arguments must be integers. If the \"step\" argument is omitted, it defaults to 1."
      ]
    },
    {
      "cell_type": "code",
      "metadata": {
        "colab": {
          "base_uri": "https://localhost:8080/"
        },
        "id": "8L-UvDXa5_GO",
        "outputId": "23b4c4f6-6c2d-4afc-b4e6-c47434f9729e"
      },
      "source": [
        "print (range(10)) \n",
        "print (range(1, 11))\n",
        "print (range(1, 11, 2))"
      ],
      "execution_count": null,
      "outputs": [
        {
          "output_type": "stream",
          "name": "stdout",
          "text": [
            "range(0, 10)\n",
            "range(1, 11)\n",
            "range(1, 11, 2)\n"
          ]
        }
      ]
    },
    {
      "cell_type": "code",
      "metadata": {
        "colab": {
          "base_uri": "https://localhost:8080/"
        },
        "id": "oc6U_2hQ66zf",
        "outputId": "a40b10f1-c702-41e7-8444-847ec0b5a2c3"
      },
      "source": [
        "print (range(20,2)) \n",
        "print (range(5, 11))\n",
        "print (range(1, 20, 3))"
      ],
      "execution_count": null,
      "outputs": [
        {
          "output_type": "stream",
          "name": "stdout",
          "text": [
            "range(20, 2)\n",
            "range(5, 11)\n",
            "range(1, 20, 3)\n"
          ]
        }
      ]
    },
    {
      "cell_type": "markdown",
      "metadata": {
        "id": "vCZf4AoC7KJx"
      },
      "source": [
        "**len()** is another function used together with range() to create a for loop. This function returns the length of an object. The argument must be a sequence or a collection."
      ]
    },
    {
      "cell_type": "code",
      "metadata": {
        "colab": {
          "base_uri": "https://localhost:8080/"
        },
        "id": "p1tUHDuR7NdD",
        "outputId": "891373fa-35d7-4491-a926-f89e19a35f9c"
      },
      "source": [
        "tickers = ['AAPL', 'GOOGL', 'IBM', 'FB', 'F', 'V', 'G', 'GE']\n",
        "print (\"The number of tickers is {}\".format(len(tickers)))\n",
        "for k in range(len(tickers)):\n",
        "    print (k + 1, tickers[k])"
      ],
      "execution_count": null,
      "outputs": [
        {
          "output_type": "stream",
          "name": "stdout",
          "text": [
            "The number of tickers is 8\n",
            "1 AAPL\n",
            "2 GOOGL\n",
            "3 IBM\n",
            "4 FB\n",
            "5 F\n",
            "6 V\n",
            "7 G\n",
            "8 GE\n"
          ]
        }
      ]
    },
    {
      "cell_type": "code",
      "metadata": {
        "colab": {
          "base_uri": "https://localhost:8080/"
        },
        "id": "Knj4ZKZr7WnT",
        "outputId": "edbe0de4-88e4-4f2f-ba6c-f8e12ef0138f"
      },
      "source": [
        "jugadores = ['camilo', 'sara', 'dario', 'apu', 'muzu', 'chavez', 'sara2', ]\n",
        "print (\"The number of tickers is {}\".format(len(jugadores)))\n",
        "for k in range(len(jugadores)):\n",
        "    print (len(jugadores)-k, jugadores[k])"
      ],
      "execution_count": null,
      "outputs": [
        {
          "output_type": "stream",
          "name": "stdout",
          "text": [
            "The number of tickers is 7\n",
            "7 camilo\n",
            "6 sara\n",
            "5 dario\n",
            "4 apu\n",
            "3 muzu\n",
            "2 chavez\n",
            "1 sara2\n"
          ]
        }
      ]
    },
    {
      "cell_type": "markdown",
      "metadata": {
        "id": "h4gK9R7E7yih"
      },
      "source": [
        "Note: If you want to print only the tickers without those numbers, then simply write \"for ticker in tickers: print ticker\"\n",
        "\n",
        "**map()** is a function that applies a specific function to every item of a sequence or collection, and returns a list of the results."
      ]
    },
    {
      "cell_type": "code",
      "metadata": {
        "colab": {
          "base_uri": "https://localhost:8080/"
        },
        "id": "W0EggIgf8BSs",
        "outputId": "17215bb3-f885-4873-fb71-25cb256cdcfe"
      },
      "source": [
        "tickers = ['AAPL','GOOG','IBM','FB','F','V', 'G', 'GE']\n",
        "print(list(map(len,tickers)))"
      ],
      "execution_count": null,
      "outputs": [
        {
          "output_type": "stream",
          "name": "stdout",
          "text": [
            "[4, 4, 3, 2, 1, 1, 1, 2]\n"
          ]
        }
      ]
    },
    {
      "cell_type": "code",
      "metadata": {
        "colab": {
          "base_uri": "https://localhost:8080/"
        },
        "id": "0TLCSNV88FWJ",
        "outputId": "47cafb07-2b7b-4416-ddc1-6c4036059cf5"
      },
      "source": [
        "def diminutivo(x):\n",
        "    return x +'ito'\n",
        "\n",
        "jugadores = ['camilo', 'sara', 'dario', 'apu', 'muzu', 'chavez', 'sara2', ]\n",
        "print(list(map(diminutivo,jugadores)))"
      ],
      "execution_count": null,
      "outputs": [
        {
          "output_type": "stream",
          "name": "stdout",
          "text": [
            "['camiloito', 'saraito', 'darioito', 'apuito', 'muzuito', 'chavezito', 'sara2ito']\n"
          ]
        }
      ]
    },
    {
      "cell_type": "markdown",
      "metadata": {
        "id": "cwLy3Rrj8lRB"
      },
      "source": [
        "The **lambda operator** is a way to create small anonymous functions. These functions are just needed where they have been created. For example:"
      ]
    },
    {
      "cell_type": "code",
      "metadata": {
        "colab": {
          "base_uri": "https://localhost:8080/"
        },
        "id": "i1GTdKBL8ram",
        "outputId": "6585b5e5-75f0-49bf-bc88-19a9a6b602c1"
      },
      "source": [
        "potencia =map(lambda x: x**2, range(10))\n",
        "print(list(potencia))"
      ],
      "execution_count": null,
      "outputs": [
        {
          "output_type": "stream",
          "name": "stdout",
          "text": [
            "[0, 1, 4, 9, 16, 25, 36, 49, 64, 81]\n"
          ]
        }
      ]
    },
    {
      "cell_type": "code",
      "metadata": {
        "colab": {
          "base_uri": "https://localhost:8080/"
        },
        "id": "-PKS1sKHx1d4",
        "outputId": "61d0fbdb-82fa-4150-e463-cdf461c07841"
      },
      "source": [
        "potencia =map(lambda x: x**x, range(10))\n",
        "print(list(potencia))"
      ],
      "execution_count": null,
      "outputs": [
        {
          "output_type": "stream",
          "name": "stdout",
          "text": [
            "[1, 1, 4, 27, 256, 3125, 46656, 823543, 16777216, 387420489]\n"
          ]
        }
      ]
    },
    {
      "cell_type": "markdown",
      "metadata": {
        "id": "90s3UGFU-Orz"
      },
      "source": [
        "**map()** can be applied to more than one list. The lists have to have the same length."
      ]
    },
    {
      "cell_type": "code",
      "metadata": {
        "colab": {
          "base_uri": "https://localhost:8080/"
        },
        "id": "GZcmRkNX-tJs",
        "outputId": "4f1049a3-bc58-4f37-ddfb-44bc71834570"
      },
      "source": [
        "adder= map(lambda x, y: x+y, [1,2,3,4,5], [5,4,3,2,1])\n",
        "print(list(adder))"
      ],
      "execution_count": null,
      "outputs": [
        {
          "output_type": "stream",
          "name": "stdout",
          "text": [
            "[6, 6, 6, 6, 6]\n"
          ]
        }
      ]
    },
    {
      "cell_type": "code",
      "metadata": {
        "colab": {
          "base_uri": "https://localhost:8080/"
        },
        "id": "gtBgCOoqyIqI",
        "outputId": "5f9414f4-3634-4b5d-951a-fddf8094f6ea"
      },
      "source": [
        "concat= map(lambda x, y: x+y, ['cam ','fanny ','lucas '], ['cardona','fierro','versalles'])\n",
        "print(list(concat))"
      ],
      "execution_count": null,
      "outputs": [
        {
          "output_type": "stream",
          "name": "stdout",
          "text": [
            "['cam cardona', 'fanny fierro', 'lucas versalles']\n"
          ]
        }
      ]
    },
    {
      "cell_type": "markdown",
      "metadata": {
        "id": "OVt3UgmXygNO"
      },
      "source": [
        "**sorted()** takes a list or set and returns a new sorted list:"
      ]
    },
    {
      "cell_type": "code",
      "metadata": {
        "colab": {
          "base_uri": "https://localhost:8080/"
        },
        "id": "FV4_iUXZyj9k",
        "outputId": "57dc95c6-b747-4e44-ec7b-29931ef20181"
      },
      "source": [
        "print(sorted([5,2,3,4,1]))"
      ],
      "execution_count": null,
      "outputs": [
        {
          "output_type": "stream",
          "name": "stdout",
          "text": [
            "[1, 2, 3, 4, 5]\n"
          ]
        }
      ]
    },
    {
      "cell_type": "code",
      "metadata": {
        "colab": {
          "base_uri": "https://localhost:8080/"
        },
        "id": "WmHML5mkyvub",
        "outputId": "903b2cfd-f30a-4710-baaa-125f7d60d7c2"
      },
      "source": [
        "print(sorted(['gamma','delta','alfa','omega','py']))"
      ],
      "execution_count": null,
      "outputs": [
        {
          "output_type": "stream",
          "name": "stdout",
          "text": [
            "['alfa', 'delta', 'gamma', 'omega', 'py']\n"
          ]
        }
      ]
    },
    {
      "cell_type": "markdown",
      "metadata": {
        "id": "J12xibzTzOSY"
      },
      "source": [
        "We can add a \"key\" parameter to specify a function to be called on each list element prior to making comparisons. For example:"
      ]
    },
    {
      "cell_type": "code",
      "metadata": {
        "colab": {
          "base_uri": "https://localhost:8080/"
        },
        "id": "NW74i2hnzTaQ",
        "outputId": "38ae6dbc-8186-4c4e-aead-c509da15101e"
      },
      "source": [
        "price_list = [('AAPL', 144.09), ('GOOGL', 911.71), ('MSFT', 69), ('FB', 150), ('WMT', 75.32)]\n",
        "sorted(price_list, key = lambda x: x[1])"
      ],
      "execution_count": null,
      "outputs": [
        {
          "output_type": "execute_result",
          "data": {
            "text/plain": [
              "[('MSFT', 69),\n",
              " ('WMT', 75.32),\n",
              " ('AAPL', 144.09),\n",
              " ('FB', 150),\n",
              " ('GOOGL', 911.71)]"
            ]
          },
          "metadata": {},
          "execution_count": 25
        }
      ]
    },
    {
      "cell_type": "code",
      "metadata": {
        "colab": {
          "base_uri": "https://localhost:8080/"
        },
        "id": "ig5B81JuzwrV",
        "outputId": "f12821e9-360d-4eaa-eb30-7e0b863dcb89"
      },
      "source": [
        "price_list = [('AAPL', 'alpha'), ('GOOGL', 'gamma'), ('MSFT', 'beta'), ('FB', 'fi'), ('WMT', 'chango')]\n",
        "sorted(price_list, key = lambda x: x[1])"
      ],
      "execution_count": null,
      "outputs": [
        {
          "output_type": "execute_result",
          "data": {
            "text/plain": [
              "[('AAPL', 'alpha'),\n",
              " ('MSFT', 'beta'),\n",
              " ('WMT', 'chango'),\n",
              " ('FB', 'fi'),\n",
              " ('GOOGL', 'gamma')]"
            ]
          },
          "metadata": {},
          "execution_count": 26
        }
      ]
    },
    {
      "cell_type": "markdown",
      "metadata": {
        "id": "tRfkRZCA0YXm"
      },
      "source": [
        "By default the values are sorted by ascending order. We can change it to descending by adding an optional parameter \"reverse'."
      ]
    },
    {
      "cell_type": "code",
      "metadata": {
        "colab": {
          "base_uri": "https://localhost:8080/"
        },
        "id": "i6aDJn8p0jLu",
        "outputId": "5f7f133a-aa70-4c46-9f38-a87ebf7453b6"
      },
      "source": [
        "price_list = [('AAPL', 144.09), ('GOOGL', 911.71), ('MSFT', 69), ('FB', 150), ('WMT', 75.32)]\n",
        "sorted(price_list, key = lambda x: x[1], reverse = True)"
      ],
      "execution_count": null,
      "outputs": [
        {
          "output_type": "execute_result",
          "data": {
            "text/plain": [
              "[('GOOGL', 911.71),\n",
              " ('FB', 150),\n",
              " ('AAPL', 144.09),\n",
              " ('WMT', 75.32),\n",
              " ('MSFT', 69)]"
            ]
          },
          "metadata": {},
          "execution_count": 27
        }
      ]
    },
    {
      "cell_type": "code",
      "metadata": {
        "colab": {
          "base_uri": "https://localhost:8080/"
        },
        "id": "8LC-xSgA0oYr",
        "outputId": "00010757-b6eb-457e-aa9f-da9ddfe9b855"
      },
      "source": [
        "price_list = [('AAPL', 'alpha'), ('GOOGL', 'gamma'), ('MSFT', 'beta'), ('FB', 'fi'), ('WMT', 'chango')]\n",
        "sorted(price_list, key = lambda x: x[1], reverse = True)"
      ],
      "execution_count": null,
      "outputs": [
        {
          "output_type": "execute_result",
          "data": {
            "text/plain": [
              "[('GOOGL', 'gamma'),\n",
              " ('FB', 'fi'),\n",
              " ('WMT', 'chango'),\n",
              " ('MSFT', 'beta'),\n",
              " ('AAPL', 'alpha')]"
            ]
          },
          "metadata": {},
          "execution_count": 28
        }
      ]
    },
    {
      "cell_type": "markdown",
      "metadata": {
        "id": "Yoe_2lK600Xa"
      },
      "source": [
        "Lists also have a function list.sort(). This function takes the same \"key\" and \"reverse\" arguments as sorted(), but it doesn't return a new list."
      ]
    },
    {
      "cell_type": "code",
      "metadata": {
        "colab": {
          "base_uri": "https://localhost:8080/"
        },
        "id": "4_M21psD0_sZ",
        "outputId": "a34b9d45-9e24-4bf6-ac06-7ea1dd50e46d"
      },
      "source": [
        "price_list = [('AAPL', 144.09), ('GOOGL', 911.71), ('MSFT', 69), ('FB', 150), ('WMT', 75.32)]\n",
        "price_list.sort(key = lambda x: x[1])\n",
        "print (price_list)"
      ],
      "execution_count": null,
      "outputs": [
        {
          "output_type": "stream",
          "name": "stdout",
          "text": [
            "[('MSFT', 69), ('WMT', 75.32), ('AAPL', 144.09), ('FB', 150), ('GOOGL', 911.71)]\n"
          ]
        }
      ]
    },
    {
      "cell_type": "code",
      "metadata": {
        "colab": {
          "base_uri": "https://localhost:8080/"
        },
        "id": "sxulx1eL1Jrw",
        "outputId": "796f8b60-4f7d-4761-e892-d69ef00ef374"
      },
      "source": [
        "price_list = [('AAPL', 'alpha'), ('GOOGL', 'gamma'), ('MSFT', 'beta'), ('FB', 'fi'), ('WMT', 'chango')]\n",
        "price_list.sort(key = lambda x: x[1])\n",
        "print (price_list)"
      ],
      "execution_count": null,
      "outputs": [
        {
          "output_type": "stream",
          "name": "stdout",
          "text": [
            "[('AAPL', 'alpha'), ('MSFT', 'beta'), ('WMT', 'chango'), ('FB', 'fi'), ('GOOGL', 'gamma')]\n"
          ]
        }
      ]
    },
    {
      "cell_type": "markdown",
      "metadata": {
        "id": "hDnUkPYN1ngn"
      },
      "source": [
        "#####**Object-Oriented Programming**"
      ]
    },
    {
      "cell_type": "markdown",
      "metadata": {
        "id": "Ibnhlwsc1vS7"
      },
      "source": [
        "Python is an object-oriented programming language. It's important to understand the concept of \"objects\" because almost every kind of data from QuantConnect API is an object."
      ]
    },
    {
      "cell_type": "markdown",
      "metadata": {
        "id": "pNRzqvPN13l6"
      },
      "source": [
        "#####**Class**"
      ]
    },
    {
      "cell_type": "markdown",
      "metadata": {
        "id": "FfQ9aFcw2AId"
      },
      "source": [
        "A class is a type of data, just like a string, float, or list. When we create an object of that data type, we call it an instance of a class.\n",
        "\n",
        "In Python, everything is an object - everything is an instance of some class. The data stored inside an object are called attributes, and the functions which are associated with the object are called methods.\n",
        "\n",
        "For example, as mentioned above, a list is an object of the \"list\" class, and it has a method list.sort().\n",
        "\n",
        "We can create our own objects by defining a class. We would do this when it's helpful to group certain functions together. For example, we define a class named \"Stock\" here:"
      ]
    },
    {
      "cell_type": "code",
      "metadata": {
        "id": "T5vaWQ8X2KLJ"
      },
      "source": [
        "class Stock:\n",
        "    def __init__(self, ticker, open, close, volume):\n",
        "        self.ticker = ticker\n",
        "        self.open = open\n",
        "        self.close = close\n",
        "        self.volume = volume\n",
        "        self.rate_return = float(close)/open - 1\n",
        "\n",
        "    def update(self, open, close):\n",
        "        self.open = open\n",
        "        self.close = close\n",
        "        self.rate_return = float(self.close)/self.open - 1\n",
        "\n",
        "    def print_return(self):\n",
        "        print (self.rate_return)"
      ],
      "execution_count": null,
      "outputs": []
    },
    {
      "cell_type": "code",
      "metadata": {
        "id": "OJOHJHgz2mQp"
      },
      "source": [
        "class Guia:\n",
        "    def __init__(self,numero, cliente, fechasalida, fechaentrega):\n",
        "        self.numero = numero\n",
        "        self.cliente = cliente\n",
        "        self.fechasalida = fechasalida\n",
        "        self.fechaentrega = fechaentrega\n",
        "\n",
        "    def update(self, fechaentrega, cliente):\n",
        "        self.fechaentrega = fechaentrega\n",
        "        self.cliente =cliente\n",
        "\n",
        "    def print_numero(self):\n",
        "        print (self.numero)"
      ],
      "execution_count": null,
      "outputs": []
    },
    {
      "cell_type": "markdown",
      "metadata": {
        "id": "uUTufOmY3CQw"
      },
      "source": [
        "The \"Stock\" class has attributes \"ticker\", \"open\", \"close\", \"volume\" and \"rate_return\". Inside the class body, the first method is called __init__, which is a special method. When we create a new instance of the class, the __init__ method is immediately executed with all the parameters that we pass to the \"Stock\" object. The purpose of this method is to set up a new \"Stock\" object using data we have provided.\n",
        "\n",
        "Here we create two Stock objects named \"apple\" and \"google\"."
      ]
    },
    {
      "cell_type": "code",
      "metadata": {
        "id": "QhBmqwW04FJv"
      },
      "source": [
        "apple  = Stock('AAPL', 143.69, 144.09, 20109375)\n",
        "google = Stock('GOOGL', 898.7, 911.7, 1561616)"
      ],
      "execution_count": null,
      "outputs": []
    },
    {
      "cell_type": "code",
      "metadata": {
        "id": "Fqdyksf64H9T"
      },
      "source": [
        "guia_1 = Guia('01','express','15-10-2021','16-10-2021')\n",
        "guia_2 = Guia('00','express','20-10-2021','21-10-2021')"
      ],
      "execution_count": null,
      "outputs": []
    },
    {
      "cell_type": "markdown",
      "metadata": {
        "id": "xWjZFtka51vN"
      },
      "source": [
        "Stock objects also have two other methods: update() and print_return(). We can access the attribues of a Stock object and call its methods:"
      ]
    },
    {
      "cell_type": "code",
      "metadata": {
        "colab": {
          "base_uri": "https://localhost:8080/"
        },
        "id": "4ES4_jLE55cW",
        "outputId": "3aaf7167-603b-4cd5-b259-2a07f660a986"
      },
      "source": [
        "apple.ticker\n",
        "google.print_return()\n",
        "google.update(912.8,913.4)\n",
        "google.print_return()"
      ],
      "execution_count": null,
      "outputs": [
        {
          "output_type": "stream",
          "name": "stdout",
          "text": [
            "0.0006573181419806673\n",
            "0.0006573181419806673\n"
          ]
        }
      ]
    },
    {
      "cell_type": "code",
      "metadata": {
        "colab": {
          "base_uri": "https://localhost:8080/"
        },
        "id": "ZsI2gJMP6Aap",
        "outputId": "e14dfdd8-e75d-4604-a70f-ea8793625c0d"
      },
      "source": [
        "print(guia_1.numero)\n",
        "guia_1.print_numero()\n",
        "guia_2.update('mañana', 'cliente')\n",
        "print(guia_2.fechaentrega)\n"
      ],
      "execution_count": null,
      "outputs": [
        {
          "output_type": "stream",
          "name": "stdout",
          "text": [
            "01\n",
            "01\n",
            "mañana\n"
          ]
        }
      ]
    },
    {
      "cell_type": "markdown",
      "metadata": {
        "id": "iHRr4Qu37x_O"
      },
      "source": [
        "By calling the update() function, we updated the open and close prices of a stock. Please note that when we use the attributes or call the methods inside a class, we need to specify them as self.attribute or self.method(), otherwise Python will deem them as global variables and thus raise an error.\n",
        "\n",
        "We can add an attribute to an object anywhere:"
      ]
    },
    {
      "cell_type": "code",
      "metadata": {
        "colab": {
          "base_uri": "https://localhost:8080/",
          "height": 35
        },
        "id": "T8TIJkoj73A0",
        "outputId": "b54d4d12-dbd2-4905-93e2-66018e00878b"
      },
      "source": [
        "apple.ceo = 'Tim Cook'\n",
        "apple.ceo"
      ],
      "execution_count": null,
      "outputs": [
        {
          "output_type": "execute_result",
          "data": {
            "application/vnd.google.colaboratory.intrinsic+json": {
              "type": "string"
            },
            "text/plain": [
              "'Tim Cook'"
            ]
          },
          "metadata": {},
          "execution_count": 77
        }
      ]
    },
    {
      "cell_type": "code",
      "metadata": {
        "colab": {
          "base_uri": "https://localhost:8080/",
          "height": 35
        },
        "id": "9mT5vIl98JPq",
        "outputId": "800f2fd5-25db-4eea-8f6f-07cd70fb1e9d"
      },
      "source": [
        "guia_2.recibe ='camcardo'\n",
        "guia_2.recibe\n"
      ],
      "execution_count": null,
      "outputs": [
        {
          "output_type": "execute_result",
          "data": {
            "application/vnd.google.colaboratory.intrinsic+json": {
              "type": "string"
            },
            "text/plain": [
              "'camcardo'"
            ]
          },
          "metadata": {},
          "execution_count": 79
        }
      ]
    },
    {
      "cell_type": "markdown",
      "metadata": {
        "id": "p4KReEws8WOm"
      },
      "source": [
        "We can check what names (i.e. attributes and methods) are defined on an object using the dir() function:"
      ]
    },
    {
      "cell_type": "code",
      "metadata": {
        "colab": {
          "base_uri": "https://localhost:8080/"
        },
        "id": "Fi151eER8Yq1",
        "outputId": "79f5cdfa-6cdf-4759-ebb5-c23cbaae682e"
      },
      "source": [
        "dir(apple)"
      ],
      "execution_count": null,
      "outputs": [
        {
          "output_type": "execute_result",
          "data": {
            "text/plain": [
              "['__class__',\n",
              " '__delattr__',\n",
              " '__dict__',\n",
              " '__dir__',\n",
              " '__doc__',\n",
              " '__eq__',\n",
              " '__format__',\n",
              " '__ge__',\n",
              " '__getattribute__',\n",
              " '__gt__',\n",
              " '__hash__',\n",
              " '__init__',\n",
              " '__init_subclass__',\n",
              " '__le__',\n",
              " '__lt__',\n",
              " '__module__',\n",
              " '__ne__',\n",
              " '__new__',\n",
              " '__reduce__',\n",
              " '__reduce_ex__',\n",
              " '__repr__',\n",
              " '__setattr__',\n",
              " '__sizeof__',\n",
              " '__str__',\n",
              " '__subclasshook__',\n",
              " '__weakref__',\n",
              " 'ceo',\n",
              " 'close',\n",
              " 'open',\n",
              " 'print_return',\n",
              " 'rate_return',\n",
              " 'ticker',\n",
              " 'update',\n",
              " 'volume']"
            ]
          },
          "metadata": {},
          "execution_count": 80
        }
      ]
    },
    {
      "cell_type": "code",
      "metadata": {
        "colab": {
          "base_uri": "https://localhost:8080/"
        },
        "id": "hPl8KmXg8fYR",
        "outputId": "f8b1bbd7-29cd-4e21-dfef-123642155107"
      },
      "source": [
        "dir(guia_1)"
      ],
      "execution_count": null,
      "outputs": [
        {
          "output_type": "execute_result",
          "data": {
            "text/plain": [
              "['__class__',\n",
              " '__delattr__',\n",
              " '__dict__',\n",
              " '__dir__',\n",
              " '__doc__',\n",
              " '__eq__',\n",
              " '__format__',\n",
              " '__ge__',\n",
              " '__getattribute__',\n",
              " '__gt__',\n",
              " '__hash__',\n",
              " '__init__',\n",
              " '__init_subclass__',\n",
              " '__le__',\n",
              " '__lt__',\n",
              " '__module__',\n",
              " '__ne__',\n",
              " '__new__',\n",
              " '__reduce__',\n",
              " '__reduce_ex__',\n",
              " '__repr__',\n",
              " '__setattr__',\n",
              " '__sizeof__',\n",
              " '__str__',\n",
              " '__subclasshook__',\n",
              " '__weakref__',\n",
              " 'cliente',\n",
              " 'fechaentrega',\n",
              " 'fechasalida',\n",
              " 'numero',\n",
              " 'print_numero',\n",
              " 'update']"
            ]
          },
          "metadata": {},
          "execution_count": 81
        }
      ]
    },
    {
      "cell_type": "markdown",
      "metadata": {
        "id": "0yY9OYKM8lXU"
      },
      "source": [
        "#####**Inheritance**"
      ]
    },
    {
      "cell_type": "markdown",
      "metadata": {
        "id": "V0aRsEsi8uf3"
      },
      "source": [
        "Inheritance is a way of arranging classes in a hierarchy from the most general to the most specific. A \"child\" class is a more specific type of a \"parent\" class because a child class will inherit all the attribues and methods of its parent. For example, we define a class named \"Child\" which inherits \"Stock\":"
      ]
    },
    {
      "cell_type": "code",
      "metadata": {
        "id": "VupLkTXY9dpu"
      },
      "source": [
        "class Child(Stock):\n",
        "    def __init__(self, name):\n",
        "        self.name = name"
      ],
      "execution_count": null,
      "outputs": []
    },
    {
      "cell_type": "code",
      "metadata": {
        "id": "y9hjnxW09kDH"
      },
      "source": [
        "class Subguia(Guia):\n",
        "    def __init__(self, name):\n",
        "        self.name = name"
      ],
      "execution_count": null,
      "outputs": []
    },
    {
      "cell_type": "markdown",
      "metadata": {
        "id": "U9xlrH-O-Aas"
      },
      "source": [
        "Then we create an object:"
      ]
    },
    {
      "cell_type": "code",
      "metadata": {
        "colab": {
          "base_uri": "https://localhost:8080/"
        },
        "id": "o-99n9Ww-H9o",
        "outputId": "9cba3e3b-216a-4315-a8a5-822e298c31e5"
      },
      "source": [
        "aa = Child('AA')\n",
        "print (aa.name)\n",
        "aa.update(100, 102)\n",
        "print (aa.open)\n",
        "print (aa.close)\n",
        "aa.print_return()\n"
      ],
      "execution_count": null,
      "outputs": [
        {
          "output_type": "stream",
          "name": "stdout",
          "text": [
            "AA\n",
            "100\n",
            "102\n",
            "0.020000000000000018\n"
          ]
        }
      ]
    },
    {
      "cell_type": "code",
      "metadata": {
        "colab": {
          "base_uri": "https://localhost:8080/"
        },
        "id": "NrRWTqP6-o5c",
        "outputId": "7ad0cabe-077a-45f4-ebc9-3158d7bb95c4"
      },
      "source": [
        "sub1 =Subguia('AA')\n",
        "print(sub1.name)\n",
        "sub1.update('mañana', 'cliente')\n",
        "print(sub1.fechaentrega)"
      ],
      "execution_count": null,
      "outputs": [
        {
          "output_type": "stream",
          "name": "stdout",
          "text": [
            "AA\n",
            "mañana\n"
          ]
        }
      ]
    },
    {
      "cell_type": "markdown",
      "metadata": {
        "id": "KyoPHOIM_dx8"
      },
      "source": [
        "As seen above, the new class Child has inherited the methods from Stock.\n"
      ]
    },
    {
      "cell_type": "markdown",
      "metadata": {
        "id": "OPh_lwRW_fd2"
      },
      "source": [
        "####**Summary**"
      ]
    },
    {
      "cell_type": "markdown",
      "metadata": {
        "id": "T3DGiYsa_jSa"
      },
      "source": [
        "In this chapter we have introduced functions and classes. When we write a QuantConnect algorithm, we would define our algorithm as a class (QCAlgorithm). This means our algorithm inherited the QC API methods from QCAlgorithm class.\n",
        "\n",
        "In the next chapter, we will introduce NumPy and Pandas, which enable us to conduct scientific calculations in Python."
      ]
    },
    {
      "cell_type": "markdown",
      "metadata": {
        "id": "XFXeT3bz_rgi"
      },
      "source": [
        "### 04. NumPy and Basic Pandas"
      ]
    },
    {
      "cell_type": "markdown",
      "metadata": {
        "id": "Cxsga2m5AN1y"
      },
      "source": [
        "####**Introduction**"
      ]
    },
    {
      "cell_type": "markdown",
      "metadata": {
        "id": "O2J1Kv03ASe6"
      },
      "source": [
        "Now that we have introduced the fundamentals of Python, it's time to learn about NumPy and Pandas."
      ]
    },
    {
      "cell_type": "markdown",
      "metadata": {
        "id": "58jtMFYWAUHZ"
      },
      "source": [
        ""
      ]
    },
    {
      "cell_type": "markdown",
      "metadata": {
        "id": "gxnehsRVAVbs"
      },
      "source": [
        "####**NumPy**"
      ]
    },
    {
      "cell_type": "markdown",
      "metadata": {
        "id": "HPvUHxc5AZQO"
      },
      "source": [
        "NumPy is the core library for scientific computing in Python. It provides a high-performance multidimensional array object, and tools for working with these arrays. It also has strong integration with Pandas, which is another powerful tool for manipulating financial data.\n",
        "\n",
        "Python packages like NumPy and Pandas contain classes and methods which we can use by importing the package:"
      ]
    },
    {
      "cell_type": "code",
      "metadata": {
        "id": "7GeCFPyCAgIQ"
      },
      "source": [
        "import numpy as np"
      ],
      "execution_count": 53,
      "outputs": []
    },
    {
      "cell_type": "markdown",
      "metadata": {
        "id": "2fwhkNx7AiEG"
      },
      "source": [
        "#####Basic NumPy Arrays"
      ]
    },
    {
      "cell_type": "markdown",
      "metadata": {
        "id": "jWkQkNTgAkZp"
      },
      "source": [
        "A NumPy array is a grid of values, all of the same type, and is indexed by a tuple of nonnegative integers. Here we make an array by passing a list of Apple stock prices:"
      ]
    },
    {
      "cell_type": "code",
      "metadata": {
        "colab": {
          "base_uri": "https://localhost:8080/"
        },
        "id": "N4r7tRpZAoDQ",
        "outputId": "e7f8c523-8088-4e89-e77f-5bc74ca77202"
      },
      "source": [
        "price_list = [143.73, 145.83, 143.68, 144.02, 143.5, 142.62]\n",
        "price_array = np.array(price_list)\n",
        "print (price_array, type(price_array))\n",
        "\n"
      ],
      "execution_count": null,
      "outputs": [
        {
          "output_type": "stream",
          "name": "stdout",
          "text": [
            "[143.73 145.83 143.68 144.02 143.5  142.62] <class 'numpy.ndarray'>\n"
          ]
        }
      ]
    },
    {
      "cell_type": "code",
      "metadata": {
        "colab": {
          "base_uri": "https://localhost:8080/"
        },
        "id": "r7ARsAVjA5Lh",
        "outputId": "335c12a1-55d1-41c1-c20f-43dce17d2da4"
      },
      "source": [
        "name_list = ['cam', 'dario', 'Apu', 'bender', 'maria', 'prueba']\n",
        "price_array = np.array(name_list)\n",
        "print (price_array, type(price_array))"
      ],
      "execution_count": null,
      "outputs": [
        {
          "output_type": "stream",
          "name": "stdout",
          "text": [
            "['cam' 'dario' 'Apu' 'bender' 'maria' 'prueba'] <class 'numpy.ndarray'>\n"
          ]
        }
      ]
    },
    {
      "cell_type": "markdown",
      "metadata": {
        "id": "CrkYcV3ABSuF"
      },
      "source": [
        "Notice that the type of array is \"ndarray\" which is a multi-dimensional array. If we pass np.array() a list of lists, it will create a 2-dimensional array.\n",
        "\n"
      ]
    },
    {
      "cell_type": "code",
      "metadata": {
        "colab": {
          "base_uri": "https://localhost:8080/"
        },
        "id": "XFOJkhngBoqZ",
        "outputId": "1900a2ee-f51d-461e-cbb8-66e2357cf6bf"
      },
      "source": [
        "Ar = np.array([[1,3], [2,4]])\n",
        "print (Ar, type(Ar))"
      ],
      "execution_count": null,
      "outputs": [
        {
          "output_type": "stream",
          "name": "stdout",
          "text": [
            "[[1 3]\n",
            " [2 4]] <class 'numpy.ndarray'>\n"
          ]
        }
      ]
    },
    {
      "cell_type": "code",
      "metadata": {
        "colab": {
          "base_uri": "https://localhost:8080/"
        },
        "id": "eHEsu9HjBtD2",
        "outputId": "14e5cb64-17af-4b94-b3c8-afdbbb13f910"
      },
      "source": [
        "Ar2 = np.array([['cam','apu','dario'], ['bender','muzu','sara']])\n",
        "print (Ar2, type(Ar))"
      ],
      "execution_count": null,
      "outputs": [
        {
          "output_type": "stream",
          "name": "stdout",
          "text": [
            "[['cam' 'apu' 'dario']\n",
            " ['bender' 'muzu' 'sara']] <class 'numpy.ndarray'>\n"
          ]
        }
      ]
    },
    {
      "cell_type": "markdown",
      "metadata": {
        "id": "fyJY8QJtB-1b"
      },
      "source": [
        "We get the dimensions of an ndarray using the .shape attribute:"
      ]
    },
    {
      "cell_type": "code",
      "metadata": {
        "colab": {
          "base_uri": "https://localhost:8080/"
        },
        "id": "WecFK_jpCBD7",
        "outputId": "3d86624b-c361-4151-a15b-7f7c1d3a45cf"
      },
      "source": [
        "print (Ar.shape)"
      ],
      "execution_count": null,
      "outputs": [
        {
          "output_type": "stream",
          "name": "stdout",
          "text": [
            "(2, 2)\n"
          ]
        }
      ]
    },
    {
      "cell_type": "code",
      "metadata": {
        "colab": {
          "base_uri": "https://localhost:8080/"
        },
        "id": "q8sbzWTlA2gY",
        "outputId": "c5cd4964-a35b-4b0f-b9ec-c71ce15b49c1"
      },
      "source": [
        "print (Ar2.shape)"
      ],
      "execution_count": null,
      "outputs": [
        {
          "output_type": "stream",
          "name": "stdout",
          "text": [
            "(2, 3)\n"
          ]
        }
      ]
    },
    {
      "cell_type": "markdown",
      "metadata": {
        "id": "MVK3mJoBCQEo"
      },
      "source": [
        "If we create an 2-dimensional array (i.e. matrix), each row can be accessed by index:"
      ]
    },
    {
      "cell_type": "code",
      "metadata": {
        "colab": {
          "base_uri": "https://localhost:8080/"
        },
        "id": "TsLJrWflCTxG",
        "outputId": "cdad9509-c41a-4f58-cf03-80175c5f954f"
      },
      "source": [
        "print (Ar[0])\n",
        "print (Ar[1])\n"
      ],
      "execution_count": null,
      "outputs": [
        {
          "output_type": "stream",
          "name": "stdout",
          "text": [
            "[1 3]\n",
            "[2 4]\n"
          ]
        }
      ]
    },
    {
      "cell_type": "code",
      "metadata": {
        "colab": {
          "base_uri": "https://localhost:8080/"
        },
        "id": "1iTtnaifCbSJ",
        "outputId": "978131a1-db96-4c04-e282-ba240a3452e2"
      },
      "source": [
        "print (Ar2[1])\n",
        "print (Ar2[0])"
      ],
      "execution_count": null,
      "outputs": [
        {
          "output_type": "stream",
          "name": "stdout",
          "text": [
            "['bender' 'muzu' 'sara']\n",
            "['cam' 'apu' 'dario']\n"
          ]
        }
      ]
    },
    {
      "cell_type": "markdown",
      "metadata": {
        "id": "pCE4ACW7CqC4"
      },
      "source": [
        "If we want to access the matrix by column instead:"
      ]
    },
    {
      "cell_type": "code",
      "metadata": {
        "colab": {
          "base_uri": "https://localhost:8080/"
        },
        "id": "3w3cXKW_Crg1",
        "outputId": "30f2d014-7061-4aca-f395-2429c9c99887"
      },
      "source": [
        "print ('First column:', Ar[:,0])\n",
        "print ('Second column:', Ar[:,1])"
      ],
      "execution_count": null,
      "outputs": [
        {
          "output_type": "stream",
          "name": "stdout",
          "text": [
            "First column: [1 2]\n",
            "Second column: [3 4]\n"
          ]
        }
      ]
    },
    {
      "cell_type": "code",
      "metadata": {
        "colab": {
          "base_uri": "https://localhost:8080/"
        },
        "id": "PWzl4OdrC46M",
        "outputId": "01f354af-859a-43a3-f703-86651b272852"
      },
      "source": [
        "print ('First column:', Ar2[:,0])\n",
        "print ('Second column:', Ar2[:,1])"
      ],
      "execution_count": null,
      "outputs": [
        {
          "output_type": "stream",
          "name": "stdout",
          "text": [
            "First column: ['cam' 'bender']\n",
            "Second column: ['apu' 'muzu']\n"
          ]
        }
      ]
    },
    {
      "cell_type": "markdown",
      "metadata": {
        "id": "4RDLXEByCz_3"
      },
      "source": [
        "#####Array Functions"
      ]
    },
    {
      "cell_type": "markdown",
      "metadata": {
        "id": "OMDJOgi0DAYm"
      },
      "source": [
        "Some functions built in NumPy that allow us to perform calculations on arrays. For example, we can apply the natural logarithm to each element of an array:"
      ]
    },
    {
      "cell_type": "code",
      "metadata": {
        "colab": {
          "base_uri": "https://localhost:8080/"
        },
        "id": "xh9qFrIrDK_6",
        "outputId": "65ddcf71-73a3-4837-a123-a529d42e393d"
      },
      "source": [
        "np.log(price_array)\n"
      ],
      "execution_count": null,
      "outputs": [
        {
          "output_type": "execute_result",
          "data": {
            "text/plain": [
              "array([4.96793654, 4.98244156, 4.9675886 , 4.96995218, 4.96633504,\n",
              "       4.96018375])"
            ]
          },
          "metadata": {},
          "execution_count": 116
        }
      ]
    },
    {
      "cell_type": "code",
      "metadata": {
        "colab": {
          "base_uri": "https://localhost:8080/"
        },
        "id": "FmoQNinRDZrS",
        "outputId": "37c4898f-9474-45db-922b-04c5f091b67c"
      },
      "source": [
        "np.log(Ar)\n"
      ],
      "execution_count": null,
      "outputs": [
        {
          "output_type": "execute_result",
          "data": {
            "text/plain": [
              "array([[0.        , 1.09861229],\n",
              "       [0.69314718, 1.38629436]])"
            ]
          },
          "metadata": {},
          "execution_count": 117
        }
      ]
    },
    {
      "cell_type": "markdown",
      "metadata": {
        "id": "t1DecUcJDlOO"
      },
      "source": [
        "Other functions return a single value:"
      ]
    },
    {
      "cell_type": "code",
      "metadata": {
        "id": "A0lU0mNSDlnQ"
      },
      "source": [
        "Other functions return a single value:"
      ],
      "execution_count": null,
      "outputs": []
    },
    {
      "cell_type": "code",
      "metadata": {
        "colab": {
          "base_uri": "https://localhost:8080/"
        },
        "id": "ehp3044pDsDC",
        "outputId": "7d0d9743-b09b-40a8-c922-5e718533e78c"
      },
      "source": [
        "np.mean(price_array)\n",
        "print (np.std(price_array))\n",
        "print (np.sum(price_array))\n",
        "print (np.max(price_array))"
      ],
      "execution_count": null,
      "outputs": [
        {
          "output_type": "stream",
          "name": "stdout",
          "text": [
            "0.9673790478515796\n",
            "863.38\n",
            "145.83\n"
          ]
        }
      ]
    },
    {
      "cell_type": "code",
      "metadata": {
        "colab": {
          "base_uri": "https://localhost:8080/"
        },
        "id": "ieei4Y7wD3Tw",
        "outputId": "67eda37b-7a75-4c7d-fffb-67b1a9cb5319"
      },
      "source": [
        "np.mean(Ar)\n",
        "print (np.std(Ar))\n",
        "print (np.sum(Ar))\n",
        "print (np.max(Ar))"
      ],
      "execution_count": null,
      "outputs": [
        {
          "output_type": "stream",
          "name": "stdout",
          "text": [
            "1.118033988749895\n",
            "10\n",
            "4\n"
          ]
        }
      ]
    },
    {
      "cell_type": "markdown",
      "metadata": {
        "id": "KQg5F14RD-iQ"
      },
      "source": [
        "The functions above return the mean, standard deviation, total and maximum value of an array."
      ]
    },
    {
      "cell_type": "markdown",
      "metadata": {
        "id": "2xnC8nFkEB-z"
      },
      "source": [
        "####**Pandas**"
      ]
    },
    {
      "cell_type": "markdown",
      "metadata": {
        "id": "S-1RpW9pELtj"
      },
      "source": [
        "Pandas is one of the most powerful tools for dealing with financial data. First we need to import Pandas:"
      ]
    },
    {
      "cell_type": "code",
      "metadata": {
        "id": "Qz77Ylz2EMHZ"
      },
      "source": [
        "import pandas as pd"
      ],
      "execution_count": 37,
      "outputs": []
    },
    {
      "cell_type": "markdown",
      "metadata": {
        "id": "zPm-zx7zERZg"
      },
      "source": [
        "#####Series\n",
        "\n",
        "Series is a one-dimensional labeled array capable of holding any data type (integers, strings, float, Python object, etc.)\n",
        "\n",
        "We create a Series by calling pd.Series(data), where data can be a dictionary, an array or just a scalar value."
      ]
    },
    {
      "cell_type": "code",
      "metadata": {
        "colab": {
          "base_uri": "https://localhost:8080/"
        },
        "id": "_N7wx54GEZgC",
        "outputId": "9e3ee1bd-0f18-4539-ed87-a59f24a9af08"
      },
      "source": [
        "price = [143.73, 145.83, 143.68, 144.02, 143.5, 142.62]\n",
        "s = pd.Series(price)\n",
        "print (s)"
      ],
      "execution_count": 5,
      "outputs": [
        {
          "output_type": "stream",
          "name": "stdout",
          "text": [
            "0    143.73\n",
            "1    145.83\n",
            "2    143.68\n",
            "3    144.02\n",
            "4    143.50\n",
            "5    142.62\n",
            "dtype: float64\n"
          ]
        }
      ]
    },
    {
      "cell_type": "code",
      "metadata": {
        "colab": {
          "base_uri": "https://localhost:8080/"
        },
        "id": "0pnV6cvrEhHC",
        "outputId": "1e3b62ec-edc9-41d1-ad55-8247295e0655"
      },
      "source": [
        "price2 = [5, 10, 15, 20, 25, 30]\n",
        "s2 = pd.Series(price2)\n",
        "print (s2)"
      ],
      "execution_count": 6,
      "outputs": [
        {
          "output_type": "stream",
          "name": "stdout",
          "text": [
            "0     5\n",
            "1    10\n",
            "2    15\n",
            "3    20\n",
            "4    25\n",
            "5    30\n",
            "dtype: int64\n"
          ]
        }
      ]
    },
    {
      "cell_type": "markdown",
      "metadata": {
        "id": "gl02DXsYE2ca"
      },
      "source": [
        "We can customize the indices of a new Series:"
      ]
    },
    {
      "cell_type": "code",
      "metadata": {
        "colab": {
          "base_uri": "https://localhost:8080/"
        },
        "id": "XBWG8rO6FyHL",
        "outputId": "a14b08da-03e4-41e7-a759-cebf5000652b"
      },
      "source": [
        "s = pd.Series(price, index = ['a', 'b', 'c', 'd', 'e', 'f'])\n",
        "print (s)\n",
        "\n"
      ],
      "execution_count": 7,
      "outputs": [
        {
          "output_type": "stream",
          "name": "stdout",
          "text": [
            "a    143.73\n",
            "b    145.83\n",
            "c    143.68\n",
            "d    144.02\n",
            "e    143.50\n",
            "f    142.62\n",
            "dtype: float64\n"
          ]
        }
      ]
    },
    {
      "cell_type": "code",
      "metadata": {
        "colab": {
          "base_uri": "https://localhost:8080/"
        },
        "id": "bQZEJfIyF3xy",
        "outputId": "8b81fd57-9b19-4c35-c54d-8c7fcfa78f47"
      },
      "source": [
        "s2 = pd.Series(price2, index = ['a', 'b', 'c', 'd', 'e', 'f'])\n",
        "print (s2)\n"
      ],
      "execution_count": 8,
      "outputs": [
        {
          "output_type": "stream",
          "name": "stdout",
          "text": [
            "a     5\n",
            "b    10\n",
            "c    15\n",
            "d    20\n",
            "e    25\n",
            "f    30\n",
            "dtype: int64\n"
          ]
        }
      ]
    },
    {
      "cell_type": "markdown",
      "metadata": {
        "id": "T5ISVJzgGHJ5"
      },
      "source": [
        "Or we can change the indices of an existing Series:"
      ]
    },
    {
      "cell_type": "code",
      "metadata": {
        "colab": {
          "base_uri": "https://localhost:8080/"
        },
        "id": "qh2dl6PuGLSa",
        "outputId": "18192e28-c406-4144-e4e4-c6d2d43d503f"
      },
      "source": [
        "s.index = [6,5,4,3,2,1]\n",
        "print (s)\n",
        "\n"
      ],
      "execution_count": 9,
      "outputs": [
        {
          "output_type": "stream",
          "name": "stdout",
          "text": [
            "6    143.73\n",
            "5    145.83\n",
            "4    143.68\n",
            "3    144.02\n",
            "2    143.50\n",
            "1    142.62\n",
            "dtype: float64\n"
          ]
        }
      ]
    },
    {
      "cell_type": "code",
      "metadata": {
        "colab": {
          "base_uri": "https://localhost:8080/"
        },
        "id": "v3ZyxKGcGQlN",
        "outputId": "b7a487bb-7f59-48b7-cde9-64267d6cd1c3"
      },
      "source": [
        "s2.index = [6,5,4,3,2,1]\n",
        "print (s2)"
      ],
      "execution_count": 10,
      "outputs": [
        {
          "output_type": "stream",
          "name": "stdout",
          "text": [
            "6     5\n",
            "5    10\n",
            "4    15\n",
            "3    20\n",
            "2    25\n",
            "1    30\n",
            "dtype: int64\n"
          ]
        }
      ]
    },
    {
      "cell_type": "markdown",
      "metadata": {
        "id": "Qi59SaIyGWdM"
      },
      "source": [
        "Series is like a list since it can be sliced by index:"
      ]
    },
    {
      "cell_type": "code",
      "metadata": {
        "colab": {
          "base_uri": "https://localhost:8080/"
        },
        "id": "yR8b5bBTGdFf",
        "outputId": "ae51a4af-a8b9-425b-ae69-5298da1ab761"
      },
      "source": [
        "print (s[1:])\n",
        "print (s[:-2])"
      ],
      "execution_count": 11,
      "outputs": [
        {
          "output_type": "stream",
          "name": "stdout",
          "text": [
            "5    145.83\n",
            "4    143.68\n",
            "3    144.02\n",
            "2    143.50\n",
            "1    142.62\n",
            "dtype: float64\n",
            "6    143.73\n",
            "5    145.83\n",
            "4    143.68\n",
            "3    144.02\n",
            "dtype: float64\n"
          ]
        }
      ]
    },
    {
      "cell_type": "code",
      "metadata": {
        "colab": {
          "base_uri": "https://localhost:8080/"
        },
        "id": "6EGzKmLuGiIQ",
        "outputId": "86ad0d0a-533a-473f-b165-39fcca25b379"
      },
      "source": [
        "print (s2[1:])\n",
        "print (s2[:-2])"
      ],
      "execution_count": 12,
      "outputs": [
        {
          "output_type": "stream",
          "name": "stdout",
          "text": [
            "5    10\n",
            "4    15\n",
            "3    20\n",
            "2    25\n",
            "1    30\n",
            "dtype: int64\n",
            "6     5\n",
            "5    10\n",
            "4    15\n",
            "3    20\n",
            "dtype: int64\n"
          ]
        }
      ]
    },
    {
      "cell_type": "markdown",
      "metadata": {
        "id": "ZG9JAMq-GqHe"
      },
      "source": [
        "Series is also like a dictionary whose values can be set or fetched by index label:"
      ]
    },
    {
      "cell_type": "code",
      "metadata": {
        "colab": {
          "base_uri": "https://localhost:8080/"
        },
        "id": "vMm-yECcGtaZ",
        "outputId": "a6e2f199-f722-446b-fcb6-b1c84618f7e2"
      },
      "source": [
        "print (s[4])\n",
        "s[4] = 0\n",
        "print (s)"
      ],
      "execution_count": 13,
      "outputs": [
        {
          "output_type": "stream",
          "name": "stdout",
          "text": [
            "143.68\n",
            "6    143.73\n",
            "5    145.83\n",
            "4      0.00\n",
            "3    144.02\n",
            "2    143.50\n",
            "1    142.62\n",
            "dtype: float64\n"
          ]
        }
      ]
    },
    {
      "cell_type": "code",
      "metadata": {
        "colab": {
          "base_uri": "https://localhost:8080/"
        },
        "id": "pVix46ydGzh4",
        "outputId": "dbbbc922-ead5-47b1-8794-be78175e0182"
      },
      "source": [
        "print (s2[4])\n",
        "s2[4] = 0\n",
        "print (s2)"
      ],
      "execution_count": 14,
      "outputs": [
        {
          "output_type": "stream",
          "name": "stdout",
          "text": [
            "15\n",
            "6     5\n",
            "5    10\n",
            "4     0\n",
            "3    20\n",
            "2    25\n",
            "1    30\n",
            "dtype: int64\n"
          ]
        }
      ]
    },
    {
      "cell_type": "markdown",
      "metadata": {
        "id": "TrDFEf0kHCzr"
      },
      "source": [
        "Series can also have a name attribute, which will be used when we make up a Pandas DataFrame using several series."
      ]
    },
    {
      "cell_type": "code",
      "metadata": {
        "colab": {
          "base_uri": "https://localhost:8080/"
        },
        "id": "IG-pDHqIHIdS",
        "outputId": "1ada377e-695e-4e4c-8fa8-e2d4a937c67b"
      },
      "source": [
        "s = pd.Series(price, name = 'Apple Prices')\n",
        "print (s)\n",
        "print (s.name)"
      ],
      "execution_count": 15,
      "outputs": [
        {
          "output_type": "stream",
          "name": "stdout",
          "text": [
            "0    143.73\n",
            "1    145.83\n",
            "2    143.68\n",
            "3    144.02\n",
            "4    143.50\n",
            "5    142.62\n",
            "Name: Apple Prices, dtype: float64\n",
            "Apple Prices\n"
          ]
        }
      ]
    },
    {
      "cell_type": "code",
      "metadata": {
        "colab": {
          "base_uri": "https://localhost:8080/"
        },
        "id": "I48D35MpHRxP",
        "outputId": "797ae4a8-392d-40ff-fa20-e7a116c3f456"
      },
      "source": [
        "s2 = pd.Series(price2, name = 'knifes prices')\n",
        "print (s2)\n",
        "print (s2.name)"
      ],
      "execution_count": 16,
      "outputs": [
        {
          "output_type": "stream",
          "name": "stdout",
          "text": [
            "0     5\n",
            "1    10\n",
            "2    15\n",
            "3    20\n",
            "4    25\n",
            "5    30\n",
            "Name: knifes prices, dtype: int64\n",
            "knifes prices\n"
          ]
        }
      ]
    },
    {
      "cell_type": "markdown",
      "metadata": {
        "id": "2WJtnPdyHbP1"
      },
      "source": [
        "We can get the statistical summaries of a Series"
      ]
    },
    {
      "cell_type": "code",
      "metadata": {
        "colab": {
          "base_uri": "https://localhost:8080/"
        },
        "id": "soLeC02qHekI",
        "outputId": "d409e30b-b8a9-43e2-a01c-3953819df011"
      },
      "source": [
        "print (s.describe())"
      ],
      "execution_count": 17,
      "outputs": [
        {
          "output_type": "stream",
          "name": "stdout",
          "text": [
            "count      6.000000\n",
            "mean     143.896667\n",
            "std        1.059711\n",
            "min      142.620000\n",
            "25%      143.545000\n",
            "50%      143.705000\n",
            "75%      143.947500\n",
            "max      145.830000\n",
            "Name: Apple Prices, dtype: float64\n"
          ]
        }
      ]
    },
    {
      "cell_type": "code",
      "metadata": {
        "colab": {
          "base_uri": "https://localhost:8080/"
        },
        "id": "VlTbDdepHi6D",
        "outputId": "241d42cd-f818-4fad-8eb0-24b298f251de"
      },
      "source": [
        "print (s2.describe())"
      ],
      "execution_count": 18,
      "outputs": [
        {
          "output_type": "stream",
          "name": "stdout",
          "text": [
            "count     6.000000\n",
            "mean     17.500000\n",
            "std       9.354143\n",
            "min       5.000000\n",
            "25%      11.250000\n",
            "50%      17.500000\n",
            "75%      23.750000\n",
            "max      30.000000\n",
            "Name: knifes prices, dtype: float64\n"
          ]
        }
      ]
    },
    {
      "cell_type": "markdown",
      "metadata": {
        "id": "y6F6MS3oHxEE"
      },
      "source": [
        "#####Time Index\n",
        "\n",
        "Pandas has a built-in function specifically for creating date indices: pd.date_range(). We use it to create a new index for our Series:"
      ]
    },
    {
      "cell_type": "code",
      "metadata": {
        "colab": {
          "base_uri": "https://localhost:8080/"
        },
        "id": "LKpBXPT6H-q8",
        "outputId": "cafa5798-f7aa-4d81-e355-4730293aa8d7"
      },
      "source": [
        "time_index = pd.date_range('2017-01-01', periods = len(s), freq = 'D')\n",
        "print (time_index)\n",
        "s.index = time_index\n",
        "print (s)"
      ],
      "execution_count": 61,
      "outputs": [
        {
          "output_type": "stream",
          "name": "stdout",
          "text": [
            "DatetimeIndex(['2017-01-01', '2017-01-02', '2017-01-03', '2017-01-04',\n",
            "               '2017-01-05', '2017-01-06'],\n",
            "              dtype='datetime64[ns]', freq='D')\n",
            "2017-01-01    143.73\n",
            "2017-01-02    145.83\n",
            "2017-01-03    143.68\n",
            "2017-01-04    144.02\n",
            "2017-01-05    143.50\n",
            "2017-01-06    142.62\n",
            "Freq: D, Name: Apple Prices, dtype: float64\n"
          ]
        }
      ]
    },
    {
      "cell_type": "code",
      "metadata": {
        "colab": {
          "base_uri": "https://localhost:8080/"
        },
        "id": "KN1FHxT-IPdY",
        "outputId": "8eae98a9-cf33-4d92-988d-c9587c842f3f"
      },
      "source": [
        "time_index = pd.date_range('2017-01-01', periods = len(s2), freq = 'M')\n",
        "print (time_index)\n",
        "s2.index = time_index\n",
        "print (s2)"
      ],
      "execution_count": 39,
      "outputs": [
        {
          "output_type": "stream",
          "name": "stdout",
          "text": [
            "DatetimeIndex(['2017-01-31', '2017-02-28', '2017-03-31', '2017-04-30',\n",
            "               '2017-05-31', '2017-06-30'],\n",
            "              dtype='datetime64[ns]', freq='M')\n",
            "2017-01-31     5\n",
            "2017-02-28    10\n",
            "2017-03-31    15\n",
            "2017-04-30    20\n",
            "2017-05-31    25\n",
            "2017-06-30    30\n",
            "Freq: M, Name: knifes prices, dtype: int64\n"
          ]
        }
      ]
    },
    {
      "cell_type": "markdown",
      "metadata": {
        "id": "vCUgASi7ItwJ"
      },
      "source": [
        "Series are usually accessed using the iloc[] and loc[] methods. iloc[] is used to access elements by integer index, and loc[] is used to access the index of the series.\n",
        "\n",
        "iloc[] is necessary when the index of a series are integers, take our previous defined series as example:"
      ]
    },
    {
      "cell_type": "code",
      "metadata": {
        "colab": {
          "base_uri": "https://localhost:8080/"
        },
        "id": "5A_YaHBDIumR",
        "outputId": "4dc3b2e0-7e84-413e-b14b-d1df5dd5e9e5"
      },
      "source": [
        "s.index = [6,5,4,3,2,1]\n",
        "print (s)\n",
        "print (s[1])"
      ],
      "execution_count": 32,
      "outputs": [
        {
          "output_type": "stream",
          "name": "stdout",
          "text": [
            "6    143.73\n",
            "5    145.83\n",
            "4    143.68\n",
            "3    144.02\n",
            "2    143.50\n",
            "1    142.62\n",
            "Name: Apple Prices, dtype: float64\n",
            "142.62\n"
          ]
        }
      ]
    },
    {
      "cell_type": "code",
      "metadata": {
        "colab": {
          "base_uri": "https://localhost:8080/"
        },
        "id": "mCa7pqtaI1aD",
        "outputId": "58a706f6-3348-4ac1-f9ec-b148fa9a1dc3"
      },
      "source": [
        "s2.index = [6,5,4,3,2,1]\n",
        "print (s2)\n",
        "print (s2[2])"
      ],
      "execution_count": 25,
      "outputs": [
        {
          "output_type": "stream",
          "name": "stdout",
          "text": [
            "6     5\n",
            "5    10\n",
            "4    15\n",
            "3    20\n",
            "2    25\n",
            "1    30\n",
            "Name: knifes prices, dtype: int64\n",
            "25\n"
          ]
        }
      ]
    },
    {
      "cell_type": "code",
      "metadata": {
        "id": "9H-NUq24JCX_"
      },
      "source": [
        "##If we intended to take the second element of the series, we would make a mistake here, because the index are integers. In order to access to the element we want, we use iloc[] here:"
      ],
      "execution_count": 41,
      "outputs": []
    },
    {
      "cell_type": "code",
      "metadata": {
        "colab": {
          "base_uri": "https://localhost:8080/"
        },
        "id": "cE2i99h8JEgS",
        "outputId": "7f45307b-9551-463d-cb07-5373f7cf4381"
      },
      "source": [
        "print (s.iloc[1])"
      ],
      "execution_count": 42,
      "outputs": [
        {
          "output_type": "stream",
          "name": "stdout",
          "text": [
            "145.83\n"
          ]
        }
      ]
    },
    {
      "cell_type": "code",
      "metadata": {
        "colab": {
          "base_uri": "https://localhost:8080/"
        },
        "id": "re8ZyUt8JIot",
        "outputId": "3752f3cb-940a-43ee-a465-65ab48213c2f"
      },
      "source": [
        "print (s2.iloc[1])"
      ],
      "execution_count": 43,
      "outputs": [
        {
          "output_type": "stream",
          "name": "stdout",
          "text": [
            "10\n"
          ]
        }
      ]
    },
    {
      "cell_type": "markdown",
      "metadata": {
        "id": "17b789O3JPVc"
      },
      "source": [
        "While working with time series data, we often use time as the index. Pandas provides us with various methods to access the data by time index."
      ]
    },
    {
      "cell_type": "code",
      "metadata": {
        "colab": {
          "base_uri": "https://localhost:8080/"
        },
        "id": "8jlQRGq-JQCQ",
        "outputId": "f01d595e-28d9-4878-c311-eae95d37746f"
      },
      "source": [
        "s.index = time_index\n",
        "print (s['2017-01-03'])\n"
      ],
      "execution_count": 62,
      "outputs": [
        {
          "output_type": "stream",
          "name": "stdout",
          "text": [
            "143.68\n"
          ]
        }
      ]
    },
    {
      "cell_type": "code",
      "metadata": {
        "colab": {
          "base_uri": "https://localhost:8080/"
        },
        "id": "83xNiO-6Jplc",
        "outputId": "06d1c3a4-8abb-4167-bdd2-ac9fdd20b73f"
      },
      "source": [
        "#2017-02-28\n",
        "s2.index = time_index\n",
        "print (s2['2017-02-28'])\n"
      ],
      "execution_count": 47,
      "outputs": [
        {
          "output_type": "stream",
          "name": "stdout",
          "text": [
            "10\n"
          ]
        }
      ]
    },
    {
      "cell_type": "markdown",
      "metadata": {
        "id": "Bk2S9s3NJ-6E"
      },
      "source": [
        "We can even access to a range of dates:"
      ]
    },
    {
      "cell_type": "code",
      "metadata": {
        "colab": {
          "base_uri": "https://localhost:8080/"
        },
        "id": "WMQV8V8DKBRf",
        "outputId": "6c3750a2-258a-4a5f-e88d-6c98ecd9d9d6"
      },
      "source": [
        "print (s['2017-01-02':'2017-01-05'])"
      ],
      "execution_count": 48,
      "outputs": [
        {
          "output_type": "stream",
          "name": "stdout",
          "text": [
            "Series([], Freq: M, Name: Apple Prices, dtype: float64)\n"
          ]
        }
      ]
    },
    {
      "cell_type": "code",
      "metadata": {
        "colab": {
          "base_uri": "https://localhost:8080/"
        },
        "id": "0NrnF1ImKGR8",
        "outputId": "6001b856-ff8d-4184-c3f4-e52179c22c1d"
      },
      "source": [
        "print (s2['2017-01-02':'2017-05-05'])"
      ],
      "execution_count": 49,
      "outputs": [
        {
          "output_type": "stream",
          "name": "stdout",
          "text": [
            "2017-01-31     5\n",
            "2017-02-28    10\n",
            "2017-03-31    15\n",
            "2017-04-30    20\n",
            "Freq: M, Name: knifes prices, dtype: int64\n"
          ]
        }
      ]
    },
    {
      "cell_type": "markdown",
      "metadata": {
        "id": "0wOlRBQfKNfx"
      },
      "source": [
        "Series[] provides us a very flexible way to index data. We can add any condition in the square brackets:"
      ]
    },
    {
      "cell_type": "code",
      "metadata": {
        "colab": {
          "base_uri": "https://localhost:8080/"
        },
        "id": "rOd4EelBKgn6",
        "outputId": "6337f153-82e5-4149-ac6a-dd0e9fb637d7"
      },
      "source": [
        "print (s[s < np.mean(s)])\n",
        "print (s[(s > np.mean(s)) & (s < np.mean(s) + 1.64*np.std(s))])"
      ],
      "execution_count": 55,
      "outputs": [
        {
          "output_type": "stream",
          "name": "stdout",
          "text": [
            "2017-01-31    143.73\n",
            "2017-03-31    143.68\n",
            "2017-05-31    143.50\n",
            "2017-06-30    142.62\n",
            "Name: Apple Prices, dtype: float64\n",
            "2017-04-30    144.02\n",
            "Freq: M, Name: Apple Prices, dtype: float64\n"
          ]
        }
      ]
    },
    {
      "cell_type": "code",
      "metadata": {
        "colab": {
          "base_uri": "https://localhost:8080/"
        },
        "id": "clNvxQV2KuKB",
        "outputId": "b93230b1-cc8a-467c-dd84-e3bdff91c05e"
      },
      "source": [
        "print (s2[s2 < np.mean(s2)])\n",
        "print (s2[(s2 > np.mean(s2)) & (s < np.mean(s2) + 1.64*np.std(s2))])"
      ],
      "execution_count": 56,
      "outputs": [
        {
          "output_type": "stream",
          "name": "stdout",
          "text": [
            "2017-01-31     5\n",
            "2017-02-28    10\n",
            "2017-03-31    15\n",
            "Freq: M, Name: knifes prices, dtype: int64\n",
            "Series([], Freq: M, Name: knifes prices, dtype: int64)\n"
          ]
        }
      ]
    },
    {
      "cell_type": "markdown",
      "metadata": {
        "id": "-qjzNsiCK9OU"
      },
      "source": [
        "As demonstrated, we can use logical operators like & (and), | (or) and ~ (not) to group multiple conditions."
      ]
    },
    {
      "cell_type": "markdown",
      "metadata": {
        "id": "q1WImHvoK-N8"
      },
      "source": [
        "####**Sumary**"
      ]
    },
    {
      "cell_type": "markdown",
      "metadata": {
        "id": "FVEs0BS8LDuP"
      },
      "source": [
        "Here we have introduced NumPy and Pandas for scientific computing in Python. In the next chapter, we will dive into Pandas to learn resampling and manipulating Pandas DataFrame, which are commonly used in financial data analysis."
      ]
    },
    {
      "cell_type": "markdown",
      "metadata": {
        "id": "hl1jSsx4oG5l"
      },
      "source": [
        "### 05.Pandas-Resampling and DataFrame"
      ]
    },
    {
      "cell_type": "markdown",
      "metadata": {
        "id": "Qo1yLOJPoT-V"
      },
      "source": [
        "####**Introduction**"
      ]
    },
    {
      "cell_type": "markdown",
      "metadata": {
        "id": "t1f-pSwroXHV"
      },
      "source": [
        "In the last chapter we had a glimpse of Pandas. In this chapter we will learn about resampling methods and the DataFrame object, which is a powerful tool for financial data analysis."
      ]
    },
    {
      "cell_type": "markdown",
      "metadata": {
        "id": "3Gd2jGYPohWk"
      },
      "source": [
        "####**Fetching Data**\n",
        "\n",
        "Here we use the QuantBook API to retrieve data."
      ]
    },
    {
      "cell_type": "code",
      "metadata": {
        "colab": {
          "base_uri": "https://localhost:8080/"
        },
        "id": "W84MNrjHouig",
        "outputId": "aab9fb88-5255-4d39-bad5-30dbf550770e"
      },
      "source": [
        "\n",
        "!pip install yfinance"
      ],
      "execution_count": 2,
      "outputs": [
        {
          "output_type": "stream",
          "name": "stdout",
          "text": [
            "Collecting yfinance\n",
            "  Downloading yfinance-0.1.63.tar.gz (26 kB)\n",
            "Requirement already satisfied: pandas>=0.24 in /usr/local/lib/python3.7/dist-packages (from yfinance) (1.1.5)\n",
            "Requirement already satisfied: numpy>=1.15 in /usr/local/lib/python3.7/dist-packages (from yfinance) (1.19.5)\n",
            "Requirement already satisfied: requests>=2.20 in /usr/local/lib/python3.7/dist-packages (from yfinance) (2.23.0)\n",
            "Requirement already satisfied: multitasking>=0.0.7 in /usr/local/lib/python3.7/dist-packages (from yfinance) (0.0.9)\n",
            "Collecting lxml>=4.5.1\n",
            "  Downloading lxml-4.6.3-cp37-cp37m-manylinux2014_x86_64.whl (6.3 MB)\n",
            "\u001b[K     |████████████████████████████████| 6.3 MB 6.6 MB/s \n",
            "\u001b[?25hRequirement already satisfied: pytz>=2017.2 in /usr/local/lib/python3.7/dist-packages (from pandas>=0.24->yfinance) (2018.9)\n",
            "Requirement already satisfied: python-dateutil>=2.7.3 in /usr/local/lib/python3.7/dist-packages (from pandas>=0.24->yfinance) (2.8.2)\n",
            "Requirement already satisfied: six>=1.5 in /usr/local/lib/python3.7/dist-packages (from python-dateutil>=2.7.3->pandas>=0.24->yfinance) (1.15.0)\n",
            "Requirement already satisfied: idna<3,>=2.5 in /usr/local/lib/python3.7/dist-packages (from requests>=2.20->yfinance) (2.10)\n",
            "Requirement already satisfied: certifi>=2017.4.17 in /usr/local/lib/python3.7/dist-packages (from requests>=2.20->yfinance) (2021.5.30)\n",
            "Requirement already satisfied: urllib3!=1.25.0,!=1.25.1,<1.26,>=1.21.1 in /usr/local/lib/python3.7/dist-packages (from requests>=2.20->yfinance) (1.24.3)\n",
            "Requirement already satisfied: chardet<4,>=3.0.2 in /usr/local/lib/python3.7/dist-packages (from requests>=2.20->yfinance) (3.0.4)\n",
            "Building wheels for collected packages: yfinance\n",
            "  Building wheel for yfinance (setup.py) ... \u001b[?25l\u001b[?25hdone\n",
            "  Created wheel for yfinance: filename=yfinance-0.1.63-py2.py3-none-any.whl size=23918 sha256=bf9c454d0ebb27b3163f0244361fc3d5602753455f52907bfc05a05302cde077\n",
            "  Stored in directory: /root/.cache/pip/wheels/fe/87/8b/7ec24486e001d3926537f5f7801f57a74d181be25b11157983\n",
            "Successfully built yfinance\n",
            "Installing collected packages: lxml, yfinance\n",
            "  Attempting uninstall: lxml\n",
            "    Found existing installation: lxml 4.2.6\n",
            "    Uninstalling lxml-4.2.6:\n",
            "      Successfully uninstalled lxml-4.2.6\n",
            "Successfully installed lxml-4.6.3 yfinance-0.1.63\n"
          ]
        }
      ]
    },
    {
      "cell_type": "code",
      "metadata": {
        "colab": {
          "base_uri": "https://localhost:8080/",
          "height": 487
        },
        "id": "aU7Ko8YtpMfi",
        "outputId": "9d235063-b0dc-4720-c538-b92789a128cb"
      },
      "source": [
        "\n",
        "import yfinance as yf\n",
        "\n",
        "aapl = yf.Ticker(\"AAPL\")\n",
        "\n",
        "# get stock info\n",
        "print(aapl.info)\n",
        "\n",
        "# get historical market data\n",
        "aapl_table = aapl.history(start=\"2016-01-01\",  end=\"2017-12-31\")\n",
        "aapl_table"
      ],
      "execution_count": 3,
      "outputs": [
        {
          "output_type": "stream",
          "name": "stdout",
          "text": [
            "{'zip': '95014', 'sector': 'Technology', 'fullTimeEmployees': 147000, 'longBusinessSummary': 'Apple Inc. designs, manufactures, and markets smartphones, personal computers, tablets, wearables, and accessories worldwide. It also sells various related services. The company offers iPhone, a line of smartphones; Mac, a line of personal computers; iPad, a line of multi-purpose tablets; and wearables, home, and accessories comprising AirPods, Apple TV, Apple Watch, Beats products, HomePod, iPod touch, and other Apple-branded and third-party accessories. It also provides AppleCare support services; cloud services store services; and operates various platforms, including the App Store, that allow customers to discover and download applications and digital content, such as books, music, video, games, and podcasts. In addition, the company offers various services, such as Apple Arcade, a game subscription service; Apple Music, which offers users a curated listening experience with on-demand radio stations; Apple News+, a subscription news and magazine service; Apple TV+, which offers exclusive original content; Apple Card, a co-branded credit card; and Apple Pay, a cashless payment service, as well as licenses its intellectual property. The company serves consumers, and small and mid-sized businesses; and the education, enterprise, and government markets. It sells and delivers third-party applications for its products through the App Store. The company also sells its products through its retail and online stores, and direct sales force; and third-party cellular network carriers, wholesalers, retailers, and resellers. Apple Inc. was founded in 1977 and is headquartered in Cupertino, California.', 'city': 'Cupertino', 'phone': '408-996-1010', 'state': 'CA', 'country': 'United States', 'companyOfficers': [], 'website': 'http://www.apple.com', 'maxAge': 1, 'address1': 'One Apple Park Way', 'industry': 'Consumer Electronics', 'ebitdaMargins': 0.31955, 'profitMargins': 0.25004, 'grossMargins': 0.41005, 'operatingCashflow': 104414003200, 'revenueGrowth': 0.364, 'operatingMargins': 0.28788, 'ebitda': 110934999040, 'targetLowPrice': 132, 'recommendationKey': 'buy', 'grossProfits': 104956000000, 'freeCashflow': 80625876992, 'targetMedianPrice': 169.64, 'currentPrice': 144.84, 'earningsGrowth': 1, 'currentRatio': 1.062, 'returnOnAssets': 0.19302, 'numberOfAnalystOpinions': 42, 'targetMeanPrice': 167.92, 'debtToEquity': 210.782, 'returnOnEquity': 1.27125, 'targetHighPrice': 190, 'totalCash': 61696000000, 'totalDebt': 135491002368, 'totalRevenue': 347155005440, 'totalCashPerShare': 3.732, 'financialCurrency': 'USD', 'revenuePerShare': 20.61, 'quickRatio': 0.887, 'recommendationMean': 1.9, 'exchange': 'NMS', 'shortName': 'Apple Inc.', 'longName': 'Apple Inc.', 'exchangeTimezoneName': 'America/New_York', 'exchangeTimezoneShortName': 'EDT', 'isEsgPopulated': False, 'gmtOffSetMilliseconds': '-14400000', 'quoteType': 'EQUITY', 'symbol': 'AAPL', 'messageBoardId': 'finmb_24937', 'market': 'us_market', 'annualHoldingsTurnover': None, 'enterpriseToRevenue': 7.109, 'beta3Year': None, 'enterpriseToEbitda': 22.247, '52WeekChange': 0.24883604, 'morningStarRiskRating': None, 'forwardEps': 5.68, 'revenueQuarterlyGrowth': None, 'sharesOutstanding': 16530199552, 'fundInceptionDate': None, 'annualReportExpenseRatio': None, 'totalAssets': None, 'bookValue': 3.882, 'sharesShort': 101107412, 'sharesPercentSharesOut': 0.0061000003, 'fundFamily': None, 'lastFiscalYearEnd': 1601078400, 'heldPercentInstitutions': 0.58701, 'netIncomeToCommon': 86801997824, 'trailingEps': 5.108, 'lastDividendValue': 0.22, 'SandP52WeekChange': 0.3047781, 'priceToBook': 37.310665, 'heldPercentInsiders': 0.00072999997, 'nextFiscalYearEnd': 1664150400, 'yield': None, 'mostRecentQuarter': 1624665600, 'shortRatio': 1.18, 'sharesShortPreviousMonthDate': 1630368000, 'floatShares': 16512974627, 'beta': 1.222222, 'enterpriseValue': 2468024156160, 'priceHint': 2, 'threeYearAverageReturn': None, 'lastSplitDate': 1598832000, 'lastSplitFactor': '4:1', 'legalType': None, 'lastDividendDate': 1628208000, 'morningStarOverallRating': None, 'earningsQuarterlyGrowth': 0.932, 'priceToSalesTrailing12Months': 6.896729, 'dateShortInterest': 1632960000, 'pegRatio': 1.38, 'ytdReturn': None, 'forwardPE': 25.5, 'lastCapGain': None, 'shortPercentOfFloat': 0.0061000003, 'sharesShortPriorMonth': 96838699, 'impliedSharesOutstanding': None, 'category': None, 'fiveYearAverageReturn': None, 'previousClose': 143.76, 'regularMarketOpen': 143.77, 'twoHundredDayAverage': 138.64877, 'trailingAnnualDividendYield': 0.0058082915, 'payoutRatio': 0.16309999, 'volume24Hr': None, 'regularMarketDayHigh': 144.895, 'navPrice': None, 'averageDailyVolume10Day': 67784928, 'regularMarketPreviousClose': 143.76, 'fiftyDayAverage': 146.59706, 'trailingAnnualDividendRate': 0.835, 'open': 143.77, 'toCurrency': None, 'averageVolume10days': 67784928, 'expireDate': None, 'algorithm': None, 'dividendRate': 0.88, 'exDividendDate': 1628208000, 'circulatingSupply': None, 'startDate': None, 'regularMarketDayLow': 143.515, 'currency': 'USD', 'trailingPE': 28.35552, 'regularMarketVolume': 65076405, 'lastMarket': None, 'maxSupply': None, 'openInterest': None, 'marketCap': 2394234028032, 'volumeAllCurrencies': None, 'strikePrice': None, 'averageVolume': 77415270, 'dayLow': 143.515, 'ask': 144.97, 'askSize': 1400, 'volume': 65076405, 'fiftyTwoWeekHigh': 157.26, 'fromCurrency': None, 'fiveYearAvgDividendYield': 1.24, 'fiftyTwoWeekLow': 107.32, 'bid': 144.86, 'tradeable': False, 'dividendYield': 0.0061000003, 'bidSize': 1800, 'dayHigh': 144.895, 'regularMarketPrice': 144.84, 'logo_url': 'https://logo.clearbit.com/apple.com'}\n"
          ]
        },
        {
          "output_type": "execute_result",
          "data": {
            "text/html": [
              "<div>\n",
              "<style scoped>\n",
              "    .dataframe tbody tr th:only-of-type {\n",
              "        vertical-align: middle;\n",
              "    }\n",
              "\n",
              "    .dataframe tbody tr th {\n",
              "        vertical-align: top;\n",
              "    }\n",
              "\n",
              "    .dataframe thead th {\n",
              "        text-align: right;\n",
              "    }\n",
              "</style>\n",
              "<table border=\"1\" class=\"dataframe\">\n",
              "  <thead>\n",
              "    <tr style=\"text-align: right;\">\n",
              "      <th></th>\n",
              "      <th>Open</th>\n",
              "      <th>High</th>\n",
              "      <th>Low</th>\n",
              "      <th>Close</th>\n",
              "      <th>Volume</th>\n",
              "      <th>Dividends</th>\n",
              "      <th>Stock Splits</th>\n",
              "    </tr>\n",
              "    <tr>\n",
              "      <th>Date</th>\n",
              "      <th></th>\n",
              "      <th></th>\n",
              "      <th></th>\n",
              "      <th></th>\n",
              "      <th></th>\n",
              "      <th></th>\n",
              "      <th></th>\n",
              "    </tr>\n",
              "  </thead>\n",
              "  <tbody>\n",
              "    <tr>\n",
              "      <th>2016-01-04</th>\n",
              "      <td>23.655164</td>\n",
              "      <td>24.291441</td>\n",
              "      <td>23.514538</td>\n",
              "      <td>24.286829</td>\n",
              "      <td>270597600</td>\n",
              "      <td>0.0</td>\n",
              "      <td>0</td>\n",
              "    </tr>\n",
              "    <tr>\n",
              "      <th>2016-01-05</th>\n",
              "      <td>24.379041</td>\n",
              "      <td>24.402094</td>\n",
              "      <td>23.609056</td>\n",
              "      <td>23.678215</td>\n",
              "      <td>223164000</td>\n",
              "      <td>0.0</td>\n",
              "      <td>0</td>\n",
              "    </tr>\n",
              "    <tr>\n",
              "      <th>2016-01-06</th>\n",
              "      <td>23.182573</td>\n",
              "      <td>23.599842</td>\n",
              "      <td>23.023505</td>\n",
              "      <td>23.214848</td>\n",
              "      <td>273829600</td>\n",
              "      <td>0.0</td>\n",
              "      <td>0</td>\n",
              "    </tr>\n",
              "    <tr>\n",
              "      <th>2016-01-07</th>\n",
              "      <td>22.749164</td>\n",
              "      <td>23.083439</td>\n",
              "      <td>22.230461</td>\n",
              "      <td>22.235071</td>\n",
              "      <td>324377600</td>\n",
              "      <td>0.0</td>\n",
              "      <td>0</td>\n",
              "    </tr>\n",
              "    <tr>\n",
              "      <th>2016-01-08</th>\n",
              "      <td>22.719189</td>\n",
              "      <td>22.848288</td>\n",
              "      <td>22.306532</td>\n",
              "      <td>22.352638</td>\n",
              "      <td>283192000</td>\n",
              "      <td>0.0</td>\n",
              "      <td>0</td>\n",
              "    </tr>\n",
              "    <tr>\n",
              "      <th>...</th>\n",
              "      <td>...</td>\n",
              "      <td>...</td>\n",
              "      <td>...</td>\n",
              "      <td>...</td>\n",
              "      <td>...</td>\n",
              "      <td>...</td>\n",
              "      <td>...</td>\n",
              "    </tr>\n",
              "    <tr>\n",
              "      <th>2017-12-22</th>\n",
              "      <td>41.827741</td>\n",
              "      <td>42.004938</td>\n",
              "      <td>41.784641</td>\n",
              "      <td>41.906761</td>\n",
              "      <td>65397600</td>\n",
              "      <td>0.0</td>\n",
              "      <td>0</td>\n",
              "    </tr>\n",
              "    <tr>\n",
              "      <th>2017-12-26</th>\n",
              "      <td>40.898675</td>\n",
              "      <td>41.059108</td>\n",
              "      <td>40.630484</td>\n",
              "      <td>40.843601</td>\n",
              "      <td>132742000</td>\n",
              "      <td>0.0</td>\n",
              "      <td>0</td>\n",
              "    </tr>\n",
              "    <tr>\n",
              "      <th>2017-12-27</th>\n",
              "      <td>40.731061</td>\n",
              "      <td>40.893888</td>\n",
              "      <td>40.637675</td>\n",
              "      <td>40.850788</td>\n",
              "      <td>85992800</td>\n",
              "      <td>0.0</td>\n",
              "      <td>0</td>\n",
              "    </tr>\n",
              "    <tr>\n",
              "      <th>2017-12-28</th>\n",
              "      <td>40.946564</td>\n",
              "      <td>41.150101</td>\n",
              "      <td>40.822048</td>\n",
              "      <td>40.965721</td>\n",
              "      <td>65920800</td>\n",
              "      <td>0.0</td>\n",
              "      <td>0</td>\n",
              "    </tr>\n",
              "    <tr>\n",
              "      <th>2017-12-29</th>\n",
              "      <td>40.831625</td>\n",
              "      <td>40.848385</td>\n",
              "      <td>40.520335</td>\n",
              "      <td>40.522728</td>\n",
              "      <td>103999600</td>\n",
              "      <td>0.0</td>\n",
              "      <td>0</td>\n",
              "    </tr>\n",
              "  </tbody>\n",
              "</table>\n",
              "<p>503 rows × 7 columns</p>\n",
              "</div>"
            ],
            "text/plain": [
              "                 Open       High        Low  ...     Volume  Dividends  Stock Splits\n",
              "Date                                         ...                                    \n",
              "2016-01-04  23.655164  24.291441  23.514538  ...  270597600        0.0             0\n",
              "2016-01-05  24.379041  24.402094  23.609056  ...  223164000        0.0             0\n",
              "2016-01-06  23.182573  23.599842  23.023505  ...  273829600        0.0             0\n",
              "2016-01-07  22.749164  23.083439  22.230461  ...  324377600        0.0             0\n",
              "2016-01-08  22.719189  22.848288  22.306532  ...  283192000        0.0             0\n",
              "...               ...        ...        ...  ...        ...        ...           ...\n",
              "2017-12-22  41.827741  42.004938  41.784641  ...   65397600        0.0             0\n",
              "2017-12-26  40.898675  41.059108  40.630484  ...  132742000        0.0             0\n",
              "2017-12-27  40.731061  40.893888  40.637675  ...   85992800        0.0             0\n",
              "2017-12-28  40.946564  41.150101  40.822048  ...   65920800        0.0             0\n",
              "2017-12-29  40.831625  40.848385  40.520335  ...  103999600        0.0             0\n",
              "\n",
              "[503 rows x 7 columns]"
            ]
          },
          "metadata": {},
          "execution_count": 3
        }
      ]
    },
    {
      "cell_type": "code",
      "metadata": {
        "colab": {
          "base_uri": "https://localhost:8080/",
          "height": 487
        },
        "id": "_tCIPeAArpvP",
        "outputId": "8be05ff1-f749-450d-838b-5dbf4a6a8e7c"
      },
      "source": [
        "FRUIT = yf.Ticker(\"cam\")\n",
        "\n",
        "# get stock info\n",
        "print(FRUIT.info)\n",
        "\n",
        "# get historical market data\n",
        "FRUIT_TABLE = aapl.history(start=\"2017-01-01\",  end=\"2018-12-31\")\n",
        "FRUIT_TABLE"
      ],
      "execution_count": 67,
      "outputs": [
        {
          "output_type": "stream",
          "name": "stdout",
          "text": [
            "{'exchange': 'YHD', 'shortName': '1307688', 'exchangeTimezoneName': 'America/New_York', 'exchangeTimezoneShortName': 'EDT', 'isEsgPopulated': False, 'gmtOffSetMilliseconds': '-14400000', 'quoteType': 'MUTUALFUND', 'symbol': 'CAM', 'market': 'us_market', 'quoteSourceName': 'Delayed Quote', 'regularMarketOpen': None, 'averageDailyVolume3Month': None, 'regularMarketTime': 1561759658, 'volume24Hr': None, 'regularMarketDayHigh': None, 'averageDailyVolume10Day': None, 'longName': None, 'regularMarketChange': None, 'regularMarketPreviousClose': None, 'preMarketPrice': None, 'exchangeDataDelayedBy': 0, 'toCurrency': None, 'postMarketChange': None, 'postMarketPrice': None, 'exchangeName': 'YHD', 'preMarketChange': None, 'circulatingSupply': None, 'regularMarketDayLow': None, 'priceHint': 2, 'regularMarketPrice': None, 'regularMarketVolume': None, 'lastMarket': None, 'regularMarketSource': 'DELAYED', 'openInterest': None, 'marketState': 'CLOSED', 'underlyingSymbol': None, 'marketCap': None, 'volumeAllCurrencies': None, 'strikePrice': None, 'maxAge': 1, 'fromCurrency': None, 'logo_url': ''}\n"
          ]
        },
        {
          "output_type": "execute_result",
          "data": {
            "text/html": [
              "<div>\n",
              "<style scoped>\n",
              "    .dataframe tbody tr th:only-of-type {\n",
              "        vertical-align: middle;\n",
              "    }\n",
              "\n",
              "    .dataframe tbody tr th {\n",
              "        vertical-align: top;\n",
              "    }\n",
              "\n",
              "    .dataframe thead th {\n",
              "        text-align: right;\n",
              "    }\n",
              "</style>\n",
              "<table border=\"1\" class=\"dataframe\">\n",
              "  <thead>\n",
              "    <tr style=\"text-align: right;\">\n",
              "      <th></th>\n",
              "      <th>Open</th>\n",
              "      <th>High</th>\n",
              "      <th>Low</th>\n",
              "      <th>Close</th>\n",
              "      <th>Volume</th>\n",
              "      <th>Dividends</th>\n",
              "      <th>Stock Splits</th>\n",
              "    </tr>\n",
              "    <tr>\n",
              "      <th>Date</th>\n",
              "      <th></th>\n",
              "      <th></th>\n",
              "      <th></th>\n",
              "      <th></th>\n",
              "      <th></th>\n",
              "      <th></th>\n",
              "      <th></th>\n",
              "    </tr>\n",
              "  </thead>\n",
              "  <tbody>\n",
              "    <tr>\n",
              "      <th>2017-01-03</th>\n",
              "      <td>27.289876</td>\n",
              "      <td>27.414778</td>\n",
              "      <td>27.044786</td>\n",
              "      <td>27.372358</td>\n",
              "      <td>115127600</td>\n",
              "      <td>0.0</td>\n",
              "      <td>0</td>\n",
              "    </tr>\n",
              "    <tr>\n",
              "      <th>2017-01-04</th>\n",
              "      <td>27.301664</td>\n",
              "      <td>27.457203</td>\n",
              "      <td>27.278098</td>\n",
              "      <td>27.341726</td>\n",
              "      <td>84472400</td>\n",
              "      <td>0.0</td>\n",
              "      <td>0</td>\n",
              "    </tr>\n",
              "    <tr>\n",
              "      <th>2017-01-05</th>\n",
              "      <td>27.318156</td>\n",
              "      <td>27.539680</td>\n",
              "      <td>27.292233</td>\n",
              "      <td>27.480764</td>\n",
              "      <td>88774400</td>\n",
              "      <td>0.0</td>\n",
              "      <td>0</td>\n",
              "    </tr>\n",
              "    <tr>\n",
              "      <th>2017-01-06</th>\n",
              "      <td>27.520825</td>\n",
              "      <td>27.846043</td>\n",
              "      <td>27.447770</td>\n",
              "      <td>27.787127</td>\n",
              "      <td>127007600</td>\n",
              "      <td>0.0</td>\n",
              "      <td>0</td>\n",
              "    </tr>\n",
              "    <tr>\n",
              "      <th>2017-01-09</th>\n",
              "      <td>27.796554</td>\n",
              "      <td>28.145338</td>\n",
              "      <td>27.794199</td>\n",
              "      <td>28.041645</td>\n",
              "      <td>134247600</td>\n",
              "      <td>0.0</td>\n",
              "      <td>0</td>\n",
              "    </tr>\n",
              "    <tr>\n",
              "      <th>...</th>\n",
              "      <td>...</td>\n",
              "      <td>...</td>\n",
              "      <td>...</td>\n",
              "      <td>...</td>\n",
              "      <td>...</td>\n",
              "      <td>...</td>\n",
              "      <td>...</td>\n",
              "    </tr>\n",
              "    <tr>\n",
              "      <th>2018-12-21</th>\n",
              "      <td>38.124593</td>\n",
              "      <td>38.440557</td>\n",
              "      <td>36.367353</td>\n",
              "      <td>36.634705</td>\n",
              "      <td>382978400</td>\n",
              "      <td>0.0</td>\n",
              "      <td>0</td>\n",
              "    </tr>\n",
              "    <tr>\n",
              "      <th>2018-12-24</th>\n",
              "      <td>36.007643</td>\n",
              "      <td>36.834010</td>\n",
              "      <td>35.628488</td>\n",
              "      <td>35.686821</td>\n",
              "      <td>148676800</td>\n",
              "      <td>0.0</td>\n",
              "      <td>0</td>\n",
              "    </tr>\n",
              "    <tr>\n",
              "      <th>2018-12-26</th>\n",
              "      <td>36.044104</td>\n",
              "      <td>38.214526</td>\n",
              "      <td>35.660087</td>\n",
              "      <td>38.199944</td>\n",
              "      <td>234330000</td>\n",
              "      <td>0.0</td>\n",
              "      <td>0</td>\n",
              "    </tr>\n",
              "    <tr>\n",
              "      <th>2018-12-27</th>\n",
              "      <td>37.876690</td>\n",
              "      <td>38.102727</td>\n",
              "      <td>36.474302</td>\n",
              "      <td>37.952034</td>\n",
              "      <td>212468400</td>\n",
              "      <td>0.0</td>\n",
              "      <td>0</td>\n",
              "    </tr>\n",
              "    <tr>\n",
              "      <th>2018-12-28</th>\n",
              "      <td>38.280146</td>\n",
              "      <td>38.528057</td>\n",
              "      <td>37.563154</td>\n",
              "      <td>37.971474</td>\n",
              "      <td>169165600</td>\n",
              "      <td>0.0</td>\n",
              "      <td>0</td>\n",
              "    </tr>\n",
              "  </tbody>\n",
              "</table>\n",
              "<p>501 rows × 7 columns</p>\n",
              "</div>"
            ],
            "text/plain": [
              "                 Open       High        Low  ...     Volume  Dividends  Stock Splits\n",
              "Date                                         ...                                    \n",
              "2017-01-03  27.289876  27.414778  27.044786  ...  115127600        0.0             0\n",
              "2017-01-04  27.301664  27.457203  27.278098  ...   84472400        0.0             0\n",
              "2017-01-05  27.318156  27.539680  27.292233  ...   88774400        0.0             0\n",
              "2017-01-06  27.520825  27.846043  27.447770  ...  127007600        0.0             0\n",
              "2017-01-09  27.796554  28.145338  27.794199  ...  134247600        0.0             0\n",
              "...               ...        ...        ...  ...        ...        ...           ...\n",
              "2018-12-21  38.124593  38.440557  36.367353  ...  382978400        0.0             0\n",
              "2018-12-24  36.007643  36.834010  35.628488  ...  148676800        0.0             0\n",
              "2018-12-26  36.044104  38.214526  35.660087  ...  234330000        0.0             0\n",
              "2018-12-27  37.876690  38.102727  36.474302  ...  212468400        0.0             0\n",
              "2018-12-28  38.280146  38.528057  37.563154  ...  169165600        0.0             0\n",
              "\n",
              "[501 rows x 7 columns]"
            ]
          },
          "metadata": {},
          "execution_count": 67
        }
      ]
    },
    {
      "cell_type": "markdown",
      "metadata": {
        "id": "ogY4lxcJvRvd"
      },
      "source": [
        "We will create a Series named \"aapl\" whose values are Apple's daily closing prices, which are of course indexed by dates:"
      ]
    },
    {
      "cell_type": "code",
      "metadata": {
        "colab": {
          "base_uri": "https://localhost:8080/"
        },
        "id": "iwUNBlXsvSYR",
        "outputId": "05f1f39a-2e00-451b-ad7f-119011742150"
      },
      "source": [
        "aapl = aapl_table['Close']['2017']\n",
        "print(aapl)"
      ],
      "execution_count": 69,
      "outputs": [
        {
          "output_type": "stream",
          "name": "stdout",
          "text": [
            "Date\n",
            "2017-01-03    27.372362\n",
            "2017-01-04    27.341726\n",
            "2017-01-05    27.480766\n",
            "2017-01-06    27.787132\n",
            "2017-01-09    28.041645\n",
            "                ...    \n",
            "2017-12-22    41.906761\n",
            "2017-12-26    40.843601\n",
            "2017-12-27    40.850788\n",
            "2017-12-28    40.965721\n",
            "2017-12-29    40.522728\n",
            "Name: Close, Length: 251, dtype: float64\n"
          ]
        }
      ]
    },
    {
      "cell_type": "code",
      "metadata": {
        "colab": {
          "base_uri": "https://localhost:8080/"
        },
        "id": "DFyOiI1GvirB",
        "outputId": "3f1b0382-4551-4ee7-f492-f5349ebab374"
      },
      "source": [
        "fruit = FRUIT_TABLE['Close']['2018']\n",
        "print(fruit)"
      ],
      "execution_count": 73,
      "outputs": [
        {
          "output_type": "stream",
          "name": "stdout",
          "text": [
            "Date\n",
            "2018-01-02    41.248276\n",
            "2018-01-03    41.241089\n",
            "2018-01-04    41.432655\n",
            "2018-01-05    41.904381\n",
            "2018-01-08    41.748730\n",
            "                ...    \n",
            "2018-12-21    36.634705\n",
            "2018-12-24    35.686821\n",
            "2018-12-26    38.199944\n",
            "2018-12-27    37.952034\n",
            "2018-12-28    37.971474\n",
            "Name: Close, Length: 250, dtype: float64\n"
          ]
        }
      ]
    },
    {
      "cell_type": "markdown",
      "metadata": {
        "id": "NbrB4tchv_Vi"
      },
      "source": [
        "\n",
        "Recall that we can fetch a specific data point using series['yyyy-mm-dd']. We can also fetch the data in a specific month using series['yyyy-mm']."
      ]
    },
    {
      "cell_type": "code",
      "metadata": {
        "colab": {
          "base_uri": "https://localhost:8080/"
        },
        "id": "GRcUH2RKwFRU",
        "outputId": "8c69385c-019f-481d-a2b6-6041886aa469"
      },
      "source": [
        "\n",
        "print(aapl['2017-3'])"
      ],
      "execution_count": 74,
      "outputs": [
        {
          "output_type": "stream",
          "name": "stdout",
          "text": [
            "Date\n",
            "2017-03-01    33.086288\n",
            "2017-03-02    32.889843\n",
            "2017-03-03    33.083923\n",
            "2017-03-06    32.979774\n",
            "2017-03-07    33.022385\n",
            "2017-03-08    32.899303\n",
            "2017-03-09    32.823563\n",
            "2017-03-10    32.932442\n",
            "2017-03-13    32.946640\n",
            "2017-03-14    32.896938\n",
            "2017-03-15    33.244862\n",
            "2017-03-16    33.299313\n",
            "2017-03-17    33.133625\n",
            "2017-03-20    33.481556\n",
            "2017-03-21    33.098122\n",
            "2017-03-22    33.472084\n",
            "2017-03-23    33.353741\n",
            "2017-03-24    33.287468\n",
            "2017-03-27    33.344269\n",
            "2017-03-28    34.035393\n",
            "2017-03-29    34.111134\n",
            "2017-03-30    34.066158\n",
            "2017-03-31    34.002262\n",
            "Name: Close, dtype: float64\n"
          ]
        }
      ]
    },
    {
      "cell_type": "code",
      "metadata": {
        "id": "c1tD09kBwIIm"
      },
      "source": [
        "print(aapl['2017-3'])"
      ],
      "execution_count": null,
      "outputs": []
    },
    {
      "cell_type": "code",
      "metadata": {
        "colab": {
          "base_uri": "https://localhost:8080/"
        },
        "id": "mvskqp6YwNPN",
        "outputId": "7377dd46-4755-4eca-d15e-7854cc618c77"
      },
      "source": [
        "print(fruit['2018-05'])"
      ],
      "execution_count": 75,
      "outputs": [
        {
          "output_type": "stream",
          "name": "stdout",
          "text": [
            "Date\n",
            "2018-05-01    40.656689\n",
            "2018-05-02    42.452709\n",
            "2018-05-03    42.529636\n",
            "2018-05-04    44.198231\n",
            "2018-05-07    44.518002\n",
            "2018-05-08    44.731979\n",
            "2018-05-09    45.046940\n",
            "2018-05-10    45.691296\n",
            "2018-05-11    45.517513\n",
            "2018-05-14    45.411316\n",
            "2018-05-15    44.998608\n",
            "2018-05-16    45.418564\n",
            "2018-05-17    45.131351\n",
            "2018-05-18    44.967224\n",
            "2018-05-21    45.285820\n",
            "2018-05-22    45.172386\n",
            "2018-05-23    45.462002\n",
            "2018-05-24    45.411316\n",
            "2018-05-25    45.515110\n",
            "2018-05-29    45.350975\n",
            "2018-05-30    45.254433\n",
            "2018-05-31    45.102379\n",
            "Name: Close, dtype: float64\n"
          ]
        }
      ]
    },
    {
      "cell_type": "code",
      "metadata": {
        "colab": {
          "base_uri": "https://localhost:8080/"
        },
        "id": "4farEDBpwZlf",
        "outputId": "b9abc434-186c-4e64-ea95-0d14c101cf54"
      },
      "source": [
        "\n",
        "aapl['2017-2':'2017-4']"
      ],
      "execution_count": 76,
      "outputs": [
        {
          "output_type": "execute_result",
          "data": {
            "text/plain": [
              "Date\n",
              "2017-02-01    30.341724\n",
              "2017-02-02    30.289883\n",
              "2017-02-03    30.419498\n",
              "2017-02-06    30.704647\n",
              "2017-02-07    30.996866\n",
              "                ...    \n",
              "2017-04-24    33.997520\n",
              "2017-04-25    34.208172\n",
              "2017-04-26    34.006989\n",
              "2017-04-27    34.033031\n",
              "2017-04-28    33.999889\n",
              "Name: Close, Length: 61, dtype: float64"
            ]
          },
          "metadata": {},
          "execution_count": 76
        }
      ]
    },
    {
      "cell_type": "code",
      "metadata": {
        "colab": {
          "base_uri": "https://localhost:8080/"
        },
        "id": "RIMSmsC6wbVW",
        "outputId": "f56e1b31-4386-4913-dc11-ca13fb15a6a1"
      },
      "source": [
        "fruit['2018-01':'2018-03']"
      ],
      "execution_count": 82,
      "outputs": [
        {
          "output_type": "execute_result",
          "data": {
            "text/plain": [
              "Date\n",
              "2018-01-02    41.248276\n",
              "2018-01-03    41.241089\n",
              "2018-01-04    41.432655\n",
              "2018-01-05    41.904381\n",
              "2018-01-08    41.748730\n",
              "                ...    \n",
              "2018-03-23    39.656498\n",
              "2018-03-26    41.539074\n",
              "2018-03-27    40.473972\n",
              "2018-03-28    40.026768\n",
              "2018-03-29    40.339321\n",
              "Name: Close, Length: 61, dtype: float64"
            ]
          },
          "metadata": {},
          "execution_count": 82
        }
      ]
    },
    {
      "cell_type": "markdown",
      "metadata": {
        "id": "LbFzKi6mw5G9"
      },
      "source": [
        "\n",
        ".head(N) and .tail(N) are methods for quickly accessing the first or last N elements."
      ]
    },
    {
      "cell_type": "code",
      "metadata": {
        "colab": {
          "base_uri": "https://localhost:8080/"
        },
        "id": "X2oA3a6jxamz",
        "outputId": "869955dd-f4bd-496d-9dad-37dfce9c0a8e"
      },
      "source": [
        "\n",
        "print(aapl.head(5))\n",
        "print(aapl.tail(10))"
      ],
      "execution_count": 83,
      "outputs": [
        {
          "output_type": "stream",
          "name": "stdout",
          "text": [
            "Date\n",
            "2017-01-03    27.372362\n",
            "2017-01-04    27.341726\n",
            "2017-01-05    27.480766\n",
            "2017-01-06    27.787132\n",
            "2017-01-09    28.041645\n",
            "Name: Close, dtype: float64\n",
            "Date\n",
            "2017-12-15    41.657749\n",
            "2017-12-18    42.244396\n",
            "2017-12-19    41.794231\n",
            "2017-12-20    41.748737\n",
            "2017-12-21    41.906761\n",
            "2017-12-22    41.906761\n",
            "2017-12-26    40.843601\n",
            "2017-12-27    40.850788\n",
            "2017-12-28    40.965721\n",
            "2017-12-29    40.522728\n",
            "Name: Close, dtype: float64\n"
          ]
        }
      ]
    },
    {
      "cell_type": "code",
      "metadata": {
        "colab": {
          "base_uri": "https://localhost:8080/"
        },
        "id": "OrossYcLxc8U",
        "outputId": "2d958c0a-6300-4b73-a0d1-9d6f55c9baca"
      },
      "source": [
        "print(fruit.head(3))\n",
        "print(fruit.tail(2))"
      ],
      "execution_count": 84,
      "outputs": [
        {
          "output_type": "stream",
          "name": "stdout",
          "text": [
            "Date\n",
            "2018-01-02    41.248276\n",
            "2018-01-03    41.241089\n",
            "2018-01-04    41.432655\n",
            "Name: Close, dtype: float64\n",
            "Date\n",
            "2018-12-27    37.952034\n",
            "2018-12-28    37.971474\n",
            "Name: Close, dtype: float64\n"
          ]
        }
      ]
    },
    {
      "cell_type": "markdown",
      "metadata": {
        "id": "nzQIsXGyx1k1"
      },
      "source": [
        "####**Resampling**\n",
        "\n",
        "series.resample(freq) is a class called \"DatetimeIndexResampler\" which groups data in a Series object into regular time intervals. The argument \"freq\" determines the length of each interval.\n",
        "\n",
        "series.resample.mean() is a complete statement that groups data into intervals, and then compute the mean of each interval. For example, if we want to aggregate the daily data into monthly data by mean:"
      ]
    },
    {
      "cell_type": "code",
      "metadata": {
        "colab": {
          "base_uri": "https://localhost:8080/"
        },
        "id": "apIsvSuryXjp",
        "outputId": "182e5f63-cbdb-476f-b143-758a1d4c8806"
      },
      "source": [
        "\n",
        "by_month = aapl.resample('M').mean()\n",
        "print(by_month)"
      ],
      "execution_count": 85,
      "outputs": [
        {
          "output_type": "stream",
          "name": "stdout",
          "text": [
            "Date\n",
            "2017-01-31    28.178331\n",
            "2017-02-28    31.606275\n",
            "2017-03-31    33.282221\n",
            "2017-04-30    33.819263\n",
            "2017-05-31    36.125684\n",
            "2017-06-30    35.133982\n",
            "2017-07-31    35.245240\n",
            "2017-08-31    37.897229\n",
            "2017-09-30    37.604737\n",
            "2017-10-31    37.654550\n",
            "2017-11-30    41.233916\n",
            "2017-12-31    41.160036\n",
            "Freq: M, Name: Close, dtype: float64\n"
          ]
        }
      ]
    },
    {
      "cell_type": "code",
      "metadata": {
        "colab": {
          "base_uri": "https://localhost:8080/"
        },
        "id": "iBI2JbGPy1nD",
        "outputId": "70bd0fe4-c2d5-43e8-fc20-a6d81ca3992e"
      },
      "source": [
        "by_month2 = fruit.resample('Y').mean()\n",
        "print(by_month2)"
      ],
      "execution_count": 90,
      "outputs": [
        {
          "output_type": "stream",
          "name": "stdout",
          "text": [
            "Date\n",
            "2018-12-31    45.670879\n",
            "Freq: A-DEC, Name: Close, dtype: float64\n"
          ]
        }
      ]
    },
    {
      "cell_type": "markdown",
      "metadata": {
        "id": "C3gkJyHDzPa6"
      },
      "source": [
        "\n",
        "We can also aggregate the data by week:"
      ]
    },
    {
      "cell_type": "code",
      "metadata": {
        "colab": {
          "base_uri": "https://localhost:8080/"
        },
        "id": "z5O0OS-Tz-7K",
        "outputId": "1d017d98-c257-4f6f-ddcd-47f00f208173"
      },
      "source": [
        "\n",
        "by_week = aapl.resample('W').mean()\n",
        "print(by_week.head())"
      ],
      "execution_count": 91,
      "outputs": [
        {
          "output_type": "stream",
          "name": "stdout",
          "text": [
            "Date\n",
            "2017-01-08    27.495497\n",
            "2017-01-15    28.097733\n",
            "2017-01-22    28.266116\n",
            "2017-01-29    28.553979\n",
            "2017-02-05    29.662543\n",
            "Freq: W-SUN, Name: Close, dtype: float64\n"
          ]
        }
      ]
    },
    {
      "cell_type": "code",
      "metadata": {
        "colab": {
          "base_uri": "https://localhost:8080/"
        },
        "id": "Dm4ysmKM0Enf",
        "outputId": "8057220b-6ea4-4b11-9134-fc7214437796"
      },
      "source": [
        "by_week2 = fruit.resample('W').mean()\n",
        "print(by_week2.head(7))"
      ],
      "execution_count": 96,
      "outputs": [
        {
          "output_type": "stream",
          "name": "stdout",
          "text": [
            "Date\n",
            "2018-01-07    41.456600\n",
            "2018-01-14    41.920662\n",
            "2018-01-21    42.683204\n",
            "2018-01-28    41.707069\n",
            "2018-02-04    39.779947\n",
            "2018-02-11    37.893901\n",
            "2018-02-18    40.384525\n",
            "Freq: W-SUN, Name: Close, dtype: float64\n"
          ]
        }
      ]
    },
    {
      "cell_type": "markdown",
      "metadata": {
        "id": "XR8AL_570kjR"
      },
      "source": [
        "\n",
        "We can also aggregate the data by month with max:"
      ]
    },
    {
      "cell_type": "code",
      "metadata": {
        "colab": {
          "base_uri": "https://localhost:8080/"
        },
        "id": "HEj9FZS80n3W",
        "outputId": "6b2e7506-6787-4315-84ea-0ba8a9514129"
      },
      "source": [
        "aapl.resample('M').max()"
      ],
      "execution_count": 97,
      "outputs": [
        {
          "output_type": "execute_result",
          "data": {
            "text/plain": [
              "Date\n",
              "2017-01-31    28.739210\n",
              "2017-02-28    32.451973\n",
              "2017-03-31    34.111134\n",
              "2017-04-30    34.264980\n",
              "2017-05-31    37.099129\n",
              "2017-06-30    36.944645\n",
              "2017-07-31    36.471703\n",
              "2017-08-31    39.129723\n",
              "2017-09-30    39.141655\n",
              "2017-10-31    40.332245\n",
              "2017-11-30    42.050140\n",
              "2017-12-31    42.244396\n",
              "Freq: M, Name: Close, dtype: float64"
            ]
          },
          "metadata": {},
          "execution_count": 97
        }
      ]
    },
    {
      "cell_type": "code",
      "metadata": {
        "colab": {
          "base_uri": "https://localhost:8080/"
        },
        "id": "vQuT-9O90qVj",
        "outputId": "b2588309-2c6c-47ef-d6cd-35ff1d8991cb"
      },
      "source": [
        "fruit.resample('M').max()"
      ],
      "execution_count": 98,
      "outputs": [
        {
          "output_type": "execute_result",
          "data": {
            "text/plain": [
              "Date\n",
              "2018-01-31    42.924454\n",
              "2018-02-28    43.029739\n",
              "2018-03-31    43.690918\n",
              "2018-04-30    42.854221\n",
              "2018-05-31    45.691296\n",
              "2018-06-30    46.818424\n",
              "2018-07-31    47.021168\n",
              "2018-08-31    55.132774\n",
              "2018-09-30    55.309578\n",
              "2018-10-31    56.208160\n",
              "2018-11-30    53.822453\n",
              "2018-12-31    44.920235\n",
              "Freq: M, Name: Close, dtype: float64"
            ]
          },
          "metadata": {},
          "execution_count": 98
        }
      ]
    },
    {
      "cell_type": "markdown",
      "metadata": {
        "id": "NntaboBM1A-5"
      },
      "source": [
        "\n",
        "\n",
        "We can choose almost any frequency by using the format 'nf', where 'n' is an integer and 'f' is M for month, W for week and D for day."
      ]
    },
    {
      "cell_type": "code",
      "metadata": {
        "colab": {
          "base_uri": "https://localhost:8080/"
        },
        "id": "UuK1h_Gr1HuP",
        "outputId": "8e82b00c-2fbe-46d5-c57c-4f0456261be1"
      },
      "source": [
        "three_day = aapl.resample('3D').mean()\n",
        "two_week = aapl.resample('2W').mean()\n",
        "two_month = aapl.resample('2M').mean()\n",
        "\n",
        "\n",
        "print(three_day)\n",
        "print(two_week)\n",
        "print(two_month )"
      ],
      "execution_count": 99,
      "outputs": [
        {
          "output_type": "stream",
          "name": "stdout",
          "text": [
            "Date\n",
            "2017-01-03    27.398285\n",
            "2017-01-06    27.787132\n",
            "2017-01-09    28.110774\n",
            "2017-01-12    28.078172\n",
            "2017-01-15    28.279665\n",
            "                ...    \n",
            "2017-12-17    42.019314\n",
            "2017-12-20    41.854087\n",
            "2017-12-23          NaN\n",
            "2017-12-26    40.886703\n",
            "2017-12-29    40.522728\n",
            "Freq: 3D, Name: Close, Length: 121, dtype: float64\n",
            "Date\n",
            "2017-01-08    27.495497\n",
            "2017-01-22    28.172570\n",
            "2017-02-05    29.108261\n",
            "2017-02-19    31.516814\n",
            "2017-03-05    32.595560\n",
            "2017-03-19    33.017884\n",
            "2017-04-02    33.625219\n",
            "2017-04-16    33.849728\n",
            "2017-04-30    33.791844\n",
            "2017-05-14    35.697632\n",
            "2017-05-28    36.496179\n",
            "2017-06-11    36.515004\n",
            "2017-06-25    34.529044\n",
            "2017-07-09    34.265133\n",
            "2017-07-23    35.278870\n",
            "2017-08-06    36.272775\n",
            "2017-08-20    37.904120\n",
            "2017-09-03    38.458792\n",
            "2017-09-17    38.282706\n",
            "2017-10-01    36.840873\n",
            "2017-10-15    37.071595\n",
            "2017-10-29    37.757320\n",
            "2017-11-12    41.032238\n",
            "2017-11-26    41.204376\n",
            "2017-12-10    40.867067\n",
            "2017-12-24    41.620864\n",
            "2018-01-07    40.795710\n",
            "Freq: 2W-SUN, Name: Close, dtype: float64\n",
            "Date\n",
            "2017-01-31    28.178331\n",
            "2017-03-31    32.524055\n",
            "2017-05-31    35.056855\n",
            "2017-07-31    35.186962\n",
            "2017-09-30    37.761186\n",
            "2017-11-30    39.402612\n",
            "2018-01-31    41.160036\n",
            "Freq: 2M, Name: Close, dtype: float64\n"
          ]
        }
      ]
    },
    {
      "cell_type": "code",
      "metadata": {
        "colab": {
          "base_uri": "https://localhost:8080/"
        },
        "id": "RDO0GN591MIL",
        "outputId": "48c2556d-5bb3-4bba-883b-ba5b335f02e9"
      },
      "source": [
        "three_day2 = fruit.resample('3D').mean()\n",
        "two_week2 = fruit.resample('2W').mean()\n",
        "two_month2 = fruit.resample('2M').mean()\n",
        "\n",
        "\n",
        "print(three_day2)\n",
        "print(two_week2)\n",
        "print(two_month2 )"
      ],
      "execution_count": 100,
      "outputs": [
        {
          "output_type": "stream",
          "name": "stdout",
          "text": [
            "Date\n",
            "2018-01-02    41.307340\n",
            "2018-01-05    41.904381\n",
            "2018-01-08    41.742350\n",
            "2018-01-11    42.188129\n",
            "2018-01-14    42.189323\n",
            "                ...    \n",
            "2018-12-16    40.104231\n",
            "2018-12-19    37.952029\n",
            "2018-12-22    35.686821\n",
            "2018-12-25    38.075989\n",
            "2018-12-28    37.971474\n",
            "Freq: 3D, Name: Close, Length: 121, dtype: float64\n",
            "Date\n",
            "2018-01-07    41.456600\n",
            "2018-01-21    42.259569\n",
            "2018-02-04    40.743508\n",
            "2018-02-18    39.139213\n",
            "2018-03-04    42.144955\n",
            "2018-03-18    42.850377\n",
            "2018-04-01    40.898992\n",
            "2018-04-15    41.172894\n",
            "2018-04-29    40.603560\n",
            "2018-05-13    43.507644\n",
            "2018-05-27    45.277370\n",
            "2018-06-10    46.039917\n",
            "2018-06-24    45.499654\n",
            "2018-07-08    44.673570\n",
            "2018-07-22    46.032815\n",
            "2018-08-05    47.347003\n",
            "2018-08-19    50.782589\n",
            "2018-09-02    53.054184\n",
            "2018-09-16    54.176342\n",
            "2018-09-30    53.436623\n",
            "2018-10-14    54.361357\n",
            "2018-10-28    53.057090\n",
            "2018-11-11    50.955030\n",
            "2018-11-25    45.100360\n",
            "2018-12-09    43.010143\n",
            "2018-12-23    39.913921\n",
            "2019-01-06    37.452568\n",
            "Freq: 2W-SUN, Name: Close, dtype: float64\n",
            "Date\n",
            "2018-01-31    41.666180\n",
            "2018-03-31    41.147481\n",
            "2018-05-31    42.821453\n",
            "2018-07-31    45.729048\n",
            "2018-09-30    52.600223\n",
            "2018-11-30    50.123821\n",
            "2019-01-31    40.012814\n",
            "Freq: 2M, Name: Close, dtype: float64\n"
          ]
        }
      ]
    },
    {
      "cell_type": "markdown",
      "metadata": {
        "id": "Jzp2wurL1nUI"
      },
      "source": [
        "Besides the mean() method, other methods can also be used with the resampler:"
      ]
    },
    {
      "cell_type": "code",
      "metadata": {
        "colab": {
          "base_uri": "https://localhost:8080/"
        },
        "id": "8NL3_Vud1nz_",
        "outputId": "fb46c759-f0a2-47bd-e9f0-b056fbbf71cb"
      },
      "source": [
        "std = aapl.resample('W').std()\n",
        "max = aapl.resample('W').max()\n",
        "min = aapl.resample('W').min()\n",
        "\n",
        "\n",
        "print(std)\n",
        "print(max)\n",
        "print(min)"
      ],
      "execution_count": 101,
      "outputs": [
        {
          "output_type": "stream",
          "name": "stdout",
          "text": [
            "Date\n",
            "2017-01-08    0.203368\n",
            "2017-01-15    0.072529\n",
            "2017-01-22    0.025552\n",
            "2017-01-29    0.245288\n",
            "2017-02-05    0.943261\n",
            "2017-02-12    0.252002\n",
            "2017-02-19    0.231394\n",
            "2017-02-26    0.059346\n",
            "2017-03-05    0.340092\n",
            "2017-03-12    0.076286\n",
            "2017-03-19    0.177836\n",
            "2017-03-26    0.157264\n",
            "2017-04-02    0.319809\n",
            "2017-04-09    0.128690\n",
            "2017-04-16    0.212476\n",
            "2017-04-23    0.174670\n",
            "2017-04-30    0.090024\n",
            "2017-05-07    0.235640\n",
            "2017-05-14    0.352978\n",
            "2017-05-21    0.536089\n",
            "2017-05-28    0.060389\n",
            "2017-06-04    0.281221\n",
            "2017-06-11    0.620034\n",
            "2017-06-18    0.382562\n",
            "2017-06-25    0.128894\n",
            "2017-07-02    0.264110\n",
            "2017-07-09    0.158888\n",
            "2017-07-16    0.404279\n",
            "2017-07-23    0.124991\n",
            "2017-07-30    0.384444\n",
            "2017-08-06    0.924388\n",
            "2017-08-13    0.467466\n",
            "2017-08-20    0.435252\n",
            "2017-08-27    0.275767\n",
            "2017-09-03    0.251726\n",
            "2017-09-10    0.381641\n",
            "2017-09-17    0.294138\n",
            "2017-09-24    0.735189\n",
            "2017-10-01    0.354842\n",
            "2017-10-08    0.204851\n",
            "2017-10-15    0.118732\n",
            "2017-10-22    0.516997\n",
            "2017-10-29    0.680453\n",
            "2017-11-05    0.560684\n",
            "2017-11-12    0.190974\n",
            "2017-11-19    0.436200\n",
            "2017-11-26    0.563046\n",
            "2017-12-03    0.427443\n",
            "2017-12-10    0.073129\n",
            "2017-12-17    0.205270\n",
            "2017-12-24    0.194121\n",
            "2017-12-31    0.190394\n",
            "Freq: W-SUN, Name: Close, dtype: float64\n",
            "Date\n",
            "2017-01-08    27.787132\n",
            "2017-01-15    28.220749\n",
            "2017-01-22    28.279665\n",
            "2017-01-29    28.739210\n",
            "2017-02-05    30.419498\n",
            "2017-02-12    31.341911\n",
            "2017-02-19    32.122971\n",
            "2017-02-26    32.451973\n",
            "2017-03-05    33.086288\n",
            "2017-03-12    33.022385\n",
            "2017-03-19    33.299313\n",
            "2017-03-26    33.481556\n",
            "2017-04-02    34.111134\n",
            "2017-04-09    34.264980\n",
            "2017-04-16    33.886284\n",
            "2017-04-23    33.713497\n",
            "2017-04-30    34.208172\n",
            "2017-05-07    35.256699\n",
            "2017-05-14    37.099129\n",
            "2017-05-21    37.004063\n",
            "2017-05-28    36.597660\n",
            "2017-06-04    36.944645\n",
            "2017-06-11    36.925629\n",
            "2017-06-18    34.838963\n",
            "2017-06-25    34.779533\n",
            "2017-07-02    34.658337\n",
            "2017-07-09    34.266182\n",
            "2017-07-16    35.421223\n",
            "2017-07-23    35.891804\n",
            "2017-07-30    36.471703\n",
            "2017-08-06    37.346294\n",
            "2017-08-13    38.277935\n",
            "2017-08-20    38.557102\n",
            "2017-08-27    38.170570\n",
            "2017-09-03    39.141655\n",
            "2017-09-10    38.671619\n",
            "2017-09-17    38.533230\n",
            "2017-09-24    37.872326\n",
            "2017-10-01    36.798637\n",
            "2017-10-08    37.075405\n",
            "2017-10-15    37.457165\n",
            "2017-10-22    38.287479\n",
            "2017-10-29    38.903053\n",
            "2017-11-05    41.157791\n",
            "2017-11-12    42.050140\n",
            "2017-11-19    41.657749\n",
            "2017-11-26    41.897194\n",
            "2017-12-03    41.686474\n",
            "2017-12-10    40.659218\n",
            "2017-12-17    41.657749\n",
            "2017-12-24    42.244396\n",
            "2017-12-31    40.965721\n",
            "Freq: W-SUN, Name: Close, dtype: float64\n",
            "Date\n",
            "2017-01-08    27.341726\n",
            "2017-01-15    28.041645\n",
            "2017-01-22    28.227823\n",
            "2017-01-29    28.272596\n",
            "2017-02-05    28.597811\n",
            "2017-02-12    30.704647\n",
            "2017-02-19    31.547823\n",
            "2017-02-26    32.314693\n",
            "2017-03-05    32.409370\n",
            "2017-03-12    32.823563\n",
            "2017-03-19    32.896938\n",
            "2017-03-26    33.098122\n",
            "2017-04-02    33.344269\n",
            "2017-04-09    33.926514\n",
            "2017-04-16    33.384510\n",
            "2017-04-23    33.296940\n",
            "2017-04-30    33.997520\n",
            "2017-05-07    34.681553\n",
            "2017-05-14    36.215267\n",
            "2017-05-21    35.708813\n",
            "2017-05-28    36.443184\n",
            "2017-06-04    36.305340\n",
            "2017-06-11    35.406967\n",
            "2017-06-18    33.812263\n",
            "2017-06-25    34.463440\n",
            "2017-07-02    34.147350\n",
            "2017-07-09    33.921577\n",
            "2017-07-16    34.475334\n",
            "2017-07-23    35.544807\n",
            "2017-07-30    35.530552\n",
            "2017-08-06    35.347553\n",
            "2017-08-13    37.058716\n",
            "2017-08-20    37.578854\n",
            "2017-08-27    37.509659\n",
            "2017-09-03    38.526073\n",
            "2017-09-10    37.848461\n",
            "2017-09-17    37.764954\n",
            "2017-09-24    36.240330\n",
            "2017-10-01    35.920612\n",
            "2017-10-08    36.619698\n",
            "2017-10-15    37.182781\n",
            "2017-10-22    37.216179\n",
            "2017-10-29    37.261517\n",
            "2017-11-05    39.778706\n",
            "2017-11-12    41.575325\n",
            "2017-11-19    40.486820\n",
            "2017-11-26    40.702320\n",
            "2017-12-03    40.582600\n",
            "2017-12-10    40.470051\n",
            "2017-12-17    41.114170\n",
            "2017-12-24    41.748737\n",
            "2017-12-31    40.522728\n",
            "Freq: W-SUN, Name: Close, dtype: float64\n"
          ]
        }
      ]
    },
    {
      "cell_type": "code",
      "metadata": {
        "colab": {
          "base_uri": "https://localhost:8080/"
        },
        "id": "-LsMy6rW1rlr",
        "outputId": "004650ab-017a-4808-cb65-19fb86c77e79"
      },
      "source": [
        "std2 = fruit.resample('W').std()\n",
        "max2 = fruit.resample('W').max()\n",
        "min2 = fruit.resample('W').min()\n",
        "\n",
        "\n",
        "print(std2)\n",
        "print(max2)\n",
        "print(min2)"
      ],
      "execution_count": 102,
      "outputs": [
        {
          "output_type": "stream",
          "name": "stdout",
          "text": [
            "Date\n",
            "2018-01-07    0.311408\n",
            "2018-01-14    0.288309\n",
            "2018-01-21    0.339497\n",
            "2018-01-28    0.684515\n",
            "2018-02-04    0.758771\n",
            "2018-02-11    0.744485\n",
            "2018-02-18    1.116746\n",
            "2018-02-25    0.465709\n",
            "2018-03-04    0.400881\n",
            "2018-03-11    0.431227\n",
            "2018-03-18    0.362399\n",
            "2018-03-25    1.060447\n",
            "2018-04-01    0.656806\n",
            "2018-04-08    0.610086\n",
            "2018-04-15    0.439080\n",
            "2018-04-22    1.237682\n",
            "2018-04-29    0.272099\n",
            "2018-05-06    1.748040\n",
            "2018-05-13    0.500229\n",
            "2018-05-20    0.218413\n",
            "2018-05-27    0.139071\n",
            "2018-06-03    0.354979\n",
            "2018-06-10    0.248002\n",
            "2018-06-17    0.301032\n",
            "2018-06-24    0.361401\n",
            "2018-07-01    0.311581\n",
            "2018-07-08    0.438547\n",
            "2018-07-15    0.330698\n",
            "2018-07-22    0.137876\n",
            "2018-07-29    0.395857\n",
            "2018-08-05    2.142130\n",
            "2018-08-12    0.218423\n",
            "2018-08-19    0.863347\n",
            "2018-08-26    0.110557\n",
            "2018-09-02    0.949391\n",
            "2018-09-09    0.791675\n",
            "2018-09-16    0.747889\n",
            "2018-09-23    0.226396\n",
            "2018-09-30    0.585074\n",
            "2018-10-07    0.688864\n",
            "2018-10-14    1.254905\n",
            "2018-10-21    0.619547\n",
            "2018-10-28    0.764157\n",
            "2018-11-04    1.401454\n",
            "2018-11-11    0.865059\n",
            "2018-11-18    0.706504\n",
            "2018-11-25    1.381396\n",
            "2018-12-02    0.730032\n",
            "2018-12-09    1.637513\n",
            "2018-12-16    0.492018\n",
            "2018-12-23    1.481742\n",
            "2018-12-30    1.182534\n",
            "Freq: W-SUN, Name: Close, dtype: float64\n",
            "Date\n",
            "2018-01-07    41.904381\n",
            "2018-01-14    42.404831\n",
            "2018-01-21    42.924454\n",
            "2018-01-28    42.392864\n",
            "2018-02-04    40.218624\n",
            "2018-02-11    39.038128\n",
            "2018-02-18    41.591965\n",
            "2018-02-25    42.195446\n",
            "2018-03-04    43.029739\n",
            "2018-03-11    43.272575\n",
            "2018-03-18    43.690918\n",
            "2018-03-25    42.147350\n",
            "2018-04-01    41.539074\n",
            "2018-04-08    41.546284\n",
            "2018-04-15    42.010300\n",
            "2018-04-22    42.854221\n",
            "2018-04-29    39.728638\n",
            "2018-05-06    44.198231\n",
            "2018-05-13    45.691296\n",
            "2018-05-20    45.418564\n",
            "2018-05-27    45.515110\n",
            "2018-06-03    45.915749\n",
            "2018-06-10    46.818424\n",
            "2018-06-17    46.408131\n",
            "2018-06-24    45.553715\n",
            "2018-07-01    44.771725\n",
            "2018-07-08    45.367878\n",
            "2018-07-15    46.178841\n",
            "2018-07-22    46.311588\n",
            "2018-07-29    47.021168\n",
            "2018-08-05    50.199841\n",
            "2018-08-12    50.460510\n",
            "2018-08-19    52.698631\n",
            "2018-08-26    52.354698\n",
            "2018-09-02    55.132774\n",
            "2018-09-09    55.309578\n",
            "2018-09-16    54.837280\n",
            "2018-09-23    53.292027\n",
            "2018-09-30    54.675011\n",
            "2018-10-07    56.208160\n",
            "2018-10-14    54.948696\n",
            "2018-10-21    53.805500\n",
            "2018-10-28    53.945976\n",
            "2018-11-04    53.822453\n",
            "2018-11-11    50.850620\n",
            "2018-11-18    47.192741\n",
            "2018-11-25    45.173004\n",
            "2018-12-02    43.977207\n",
            "2018-12-09    44.920235\n",
            "2018-12-16    41.549149\n",
            "2018-12-23    40.363071\n",
            "2018-12-30    38.199944\n",
            "Freq: W-SUN, Name: Close, dtype: float64\n",
            "Date\n",
            "2018-01-07    41.241089\n",
            "2018-01-14    41.734375\n",
            "2018-01-21    42.189323\n",
            "2018-01-28    40.972900\n",
            "2018-02-04    38.432297\n",
            "2018-02-11    37.151226\n",
            "2018-02-18    39.120346\n",
            "2018-02-25    41.130344\n",
            "2018-03-04    42.075230\n",
            "2018-03-11    42.082447\n",
            "2018-03-18    42.801331\n",
            "2018-03-25    39.656498\n",
            "2018-04-01    40.026768\n",
            "2018-04-08    40.074848\n",
            "2018-04-15    40.885101\n",
            "2018-04-22    39.844040\n",
            "2018-04-29    39.026581\n",
            "2018-05-06    39.733444\n",
            "2018-05-13    44.518002\n",
            "2018-05-20    44.967224\n",
            "2018-05-27    45.172386\n",
            "2018-06-03    45.102379\n",
            "2018-06-10    46.268135\n",
            "2018-06-17    45.577854\n",
            "2018-06-24    44.631733\n",
            "2018-07-01    43.967999\n",
            "2018-07-08    44.390377\n",
            "2018-07-15    45.346153\n",
            "2018-07-22    45.954372\n",
            "2018-07-29    46.094357\n",
            "2018-08-05    45.836121\n",
            "2018-08-12    49.987446\n",
            "2018-08-19    50.589039\n",
            "2018-08-26    52.083427\n",
            "2018-09-02    52.785835\n",
            "2018-09-09    53.599628\n",
            "2018-09-16    52.880291\n",
            "2018-09-23    52.718002\n",
            "2018-09-30    53.386490\n",
            "2018-10-07    54.323814\n",
            "2018-10-14    51.940533\n",
            "2018-10-21    52.320786\n",
            "2018-10-28    52.095539\n",
            "2018-11-04    50.252377\n",
            "2018-11-11    48.825790\n",
            "2018-11-18    45.401470\n",
            "2018-11-25    41.874832\n",
            "2018-12-02    42.348782\n",
            "2018-12-09    40.951252\n",
            "2018-12-16    40.219681\n",
            "2018-12-23    36.634705\n",
            "2018-12-30    35.686821\n",
            "Freq: W-SUN, Name: Close, dtype: float64\n"
          ]
        }
      ]
    },
    {
      "cell_type": "markdown",
      "metadata": {
        "id": "V0OEDlAG128t"
      },
      "source": [
        "Often we want to calculate monthly returns of a stock, based on prices on the last day of each month. To fetch those prices, we use the series.resample.agg() method:"
      ]
    },
    {
      "cell_type": "code",
      "metadata": {
        "colab": {
          "base_uri": "https://localhost:8080/"
        },
        "id": "vBTT4bzy1-9-",
        "outputId": "2b49c1e3-6216-40fd-c471-dfb424fea347"
      },
      "source": [
        "last_day = aapl.resample('M').agg(lambda x: x[-1])\n",
        "print(last_day)"
      ],
      "execution_count": 103,
      "outputs": [
        {
          "output_type": "stream",
          "name": "stdout",
          "text": [
            "Date\n",
            "2017-01-31    28.597811\n",
            "2017-02-28    32.423565\n",
            "2017-03-31    34.002262\n",
            "2017-04-30    33.999889\n",
            "2017-05-31    36.305340\n",
            "2017-06-30    34.228165\n",
            "2017-07-31    35.347553\n",
            "2017-08-31    39.129723\n",
            "2017-09-30    36.772396\n",
            "2017-10-31    40.332245\n",
            "2017-11-30    41.150105\n",
            "2017-12-31    40.522728\n",
            "Freq: M, Name: Close, dtype: float64\n"
          ]
        }
      ]
    },
    {
      "cell_type": "code",
      "metadata": {
        "colab": {
          "base_uri": "https://localhost:8080/"
        },
        "id": "bV0lkoxk2Bx2",
        "outputId": "256a61f5-ba58-4a84-b042-028ca59f2499"
      },
      "source": [
        "last_day2 = fruit.resample('M').agg(lambda x: x[-1])\n",
        "print(last_day2)"
      ],
      "execution_count": 118,
      "outputs": [
        {
          "output_type": "stream",
          "name": "stdout",
          "text": [
            "Date\n",
            "2018-01-31    40.091713\n",
            "2018-02-28    42.825367\n",
            "2018-03-31    40.339321\n",
            "2018-04-30    39.733444\n",
            "2018-05-31    45.102379\n",
            "2018-06-30    44.677597\n",
            "2018-07-31    45.927826\n",
            "2018-08-31    55.132774\n",
            "2018-09-30    54.675011\n",
            "2018-10-31    53.008648\n",
            "2018-11-30    43.403614\n",
            "2018-12-31    37.971474\n",
            "Freq: M, Name: Close, dtype: float64\n"
          ]
        }
      ]
    },
    {
      "cell_type": "markdown",
      "metadata": {
        "id": "DwDFnDGQ2KmC"
      },
      "source": [
        "\n",
        "Or directly calculate the monthly rates of return using the data for the first day and the last day:"
      ]
    },
    {
      "cell_type": "code",
      "metadata": {
        "colab": {
          "base_uri": "https://localhost:8080/"
        },
        "id": "kzqNzKJM2MdV",
        "outputId": "67afff2f-3e1d-42fb-d3cc-7378bf9f4509"
      },
      "source": [
        "monthly_return = aapl.resample('M').agg(lambda x: x[-1]/x[0] - 1)\n",
        "print(monthly_return)"
      ],
      "execution_count": 105,
      "outputs": [
        {
          "output_type": "stream",
          "name": "stdout",
          "text": [
            "Date\n",
            "2017-01-31    0.044770\n",
            "2017-02-28    0.068613\n",
            "2017-03-31    0.027684\n",
            "2017-04-30   -0.000348\n",
            "2017-05-31    0.046463\n",
            "2017-06-30   -0.059799\n",
            "2017-07-31    0.036446\n",
            "2017-08-31    0.097261\n",
            "2017-09-30   -0.060530\n",
            "2017-10-31    0.099018\n",
            "2017-11-30    0.033422\n",
            "2017-12-31   -0.010640\n",
            "Freq: M, Name: Close, dtype: float64\n"
          ]
        }
      ]
    },
    {
      "cell_type": "code",
      "metadata": {
        "colab": {
          "base_uri": "https://localhost:8080/"
        },
        "id": "J1Jofdle2PcX",
        "outputId": "4e2247e7-11b0-415a-9353-583fbfeeaf5b"
      },
      "source": [
        "monthly_return2 = fruit.resample('M').agg(lambda x: x[-1]/x[0] - 1)\n",
        "print(monthly_return2)"
      ],
      "execution_count": 106,
      "outputs": [
        {
          "output_type": "stream",
          "name": "stdout",
          "text": [
            "Date\n",
            "2018-01-31   -0.028039\n",
            "2018-02-28    0.065957\n",
            "2018-03-31   -0.041257\n",
            "2018-04-30   -0.008519\n",
            "2018-05-31    0.109347\n",
            "2018-06-30   -0.026966\n",
            "2018-07-31    0.016615\n",
            "2018-08-31    0.133639\n",
            "2018-09-30   -0.011473\n",
            "2018-10-31   -0.036962\n",
            "2018-11-30   -0.193578\n",
            "2018-12-31   -0.154691\n",
            "Freq: M, Name: Close, dtype: float64\n"
          ]
        }
      ]
    },
    {
      "cell_type": "markdown",
      "metadata": {
        "id": "THWiAjP-2dNQ"
      },
      "source": [
        "\n",
        "Series object also provides us some convenient methods to do some quick calculation."
      ]
    },
    {
      "cell_type": "code",
      "metadata": {
        "colab": {
          "base_uri": "https://localhost:8080/"
        },
        "id": "RFk7gSLE2dpU",
        "outputId": "2a2b8491-f65f-48b4-a82c-4a745bd3bf75"
      },
      "source": [
        "print(monthly_return.mean())\n",
        "print(monthly_return.std())\n",
        "print(monthly_return.max())"
      ],
      "execution_count": 107,
      "outputs": [
        {
          "output_type": "stream",
          "name": "stdout",
          "text": [
            "0.026863288803664998\n",
            "0.05225845149290721\n",
            "0.09901817765273635\n"
          ]
        }
      ]
    },
    {
      "cell_type": "code",
      "metadata": {
        "colab": {
          "base_uri": "https://localhost:8080/"
        },
        "id": "pQmdsVrS2g6N",
        "outputId": "d9806667-49f6-4c91-c872-24f5607cacb4"
      },
      "source": [
        "print(monthly_return2.mean())\n",
        "print(monthly_return2.std())\n",
        "print(monthly_return2.max())"
      ],
      "execution_count": 108,
      "outputs": [
        {
          "output_type": "stream",
          "name": "stdout",
          "text": [
            "-0.014660587808817571\n",
            "0.09441255958257326\n",
            "0.13363933992121546\n"
          ]
        }
      ]
    },
    {
      "cell_type": "markdown",
      "metadata": {
        "id": "rkKubdNf2pe-"
      },
      "source": [
        "\n",
        "Another two methods frequently used on Series are .diff() and .pct_change(). The former calculates the difference between consecutive elements, and the latter calculates the percentage change."
      ]
    },
    {
      "cell_type": "code",
      "metadata": {
        "colab": {
          "base_uri": "https://localhost:8080/"
        },
        "id": "VC4UMp4r2tMA",
        "outputId": "1e144a62-9676-41c1-bbb1-d5eaaca585c5"
      },
      "source": [
        "\n",
        "print(last_day.diff())\n",
        "print(last_day.pct_change())"
      ],
      "execution_count": 109,
      "outputs": [
        {
          "output_type": "stream",
          "name": "stdout",
          "text": [
            "Date\n",
            "2017-01-31         NaN\n",
            "2017-02-28    3.825754\n",
            "2017-03-31    1.578697\n",
            "2017-04-30   -0.002373\n",
            "2017-05-31    2.305450\n",
            "2017-06-30   -2.077175\n",
            "2017-07-31    1.119389\n",
            "2017-08-31    3.782169\n",
            "2017-09-30   -2.357327\n",
            "2017-10-31    3.559849\n",
            "2017-11-30    0.817860\n",
            "2017-12-31   -0.627377\n",
            "Freq: M, Name: Close, dtype: float64\n",
            "Date\n",
            "2017-01-31         NaN\n",
            "2017-02-28    0.133778\n",
            "2017-03-31    0.048690\n",
            "2017-04-30   -0.000070\n",
            "2017-05-31    0.067808\n",
            "2017-06-30   -0.057214\n",
            "2017-07-31    0.032704\n",
            "2017-08-31    0.106999\n",
            "2017-09-30   -0.060244\n",
            "2017-10-31    0.096808\n",
            "2017-11-30    0.020278\n",
            "2017-12-31   -0.015246\n",
            "Freq: M, Name: Close, dtype: float64\n"
          ]
        }
      ]
    },
    {
      "cell_type": "code",
      "metadata": {
        "colab": {
          "base_uri": "https://localhost:8080/"
        },
        "id": "j_-M5KvO21YW",
        "outputId": "32a0bdc5-4737-4d2c-b987-52ac2e9c832d"
      },
      "source": [
        "print(last_day2.diff())\n",
        "print(last_day2.pct_change())"
      ],
      "execution_count": 119,
      "outputs": [
        {
          "output_type": "stream",
          "name": "stdout",
          "text": [
            "Date\n",
            "2018-01-31         NaN\n",
            "2018-02-28    2.733654\n",
            "2018-03-31   -2.486046\n",
            "2018-04-30   -0.605877\n",
            "2018-05-31    5.368935\n",
            "2018-06-30   -0.424782\n",
            "2018-07-31    1.250229\n",
            "2018-08-31    9.204948\n",
            "2018-09-30   -0.457764\n",
            "2018-10-31   -1.666363\n",
            "2018-11-30   -9.605034\n",
            "2018-12-31   -5.432140\n",
            "Freq: M, Name: Close, dtype: float64\n",
            "Date\n",
            "2018-01-31         NaN\n",
            "2018-02-28    0.068185\n",
            "2018-03-31   -0.058051\n",
            "2018-04-30   -0.015020\n",
            "2018-05-31    0.135124\n",
            "2018-06-30   -0.009418\n",
            "2018-07-31    0.027983\n",
            "2018-08-31    0.200422\n",
            "2018-09-30   -0.008303\n",
            "2018-10-31   -0.030478\n",
            "2018-11-30   -0.181197\n",
            "2018-12-31   -0.125154\n",
            "Freq: M, Name: Close, dtype: float64\n"
          ]
        }
      ]
    },
    {
      "cell_type": "markdown",
      "metadata": {
        "id": "tpbJS5W626Qj"
      },
      "source": [
        "\n",
        "Notice that we induced a NaN value while calculating percentage changes i.e. returns.\n",
        "\n",
        "When dealing with NaN values, we usually either removing the data point or fill it with a specific value. Here we fill it with 0:"
      ]
    },
    {
      "cell_type": "code",
      "metadata": {
        "colab": {
          "base_uri": "https://localhost:8080/"
        },
        "id": "pyudypcU2-RR",
        "outputId": "4801f4d0-23f3-4f0a-a9af-7dd56eb49347"
      },
      "source": [
        "\n",
        "daily_return = last_day.pct_change()\n",
        "print(daily_return.fillna(0))"
      ],
      "execution_count": 111,
      "outputs": [
        {
          "output_type": "stream",
          "name": "stdout",
          "text": [
            "Date\n",
            "2017-01-31    0.000000\n",
            "2017-02-28    0.133778\n",
            "2017-03-31    0.048690\n",
            "2017-04-30   -0.000070\n",
            "2017-05-31    0.067808\n",
            "2017-06-30   -0.057214\n",
            "2017-07-31    0.032704\n",
            "2017-08-31    0.106999\n",
            "2017-09-30   -0.060244\n",
            "2017-10-31    0.096808\n",
            "2017-11-30    0.020278\n",
            "2017-12-31   -0.015246\n",
            "Freq: M, Name: Close, dtype: float64\n"
          ]
        }
      ]
    },
    {
      "cell_type": "code",
      "metadata": {
        "colab": {
          "base_uri": "https://localhost:8080/"
        },
        "id": "LjRg-s0F3ATf",
        "outputId": "38db6923-0c6c-4661-ec67-e8ed0c1f4301"
      },
      "source": [
        "\n",
        "daily_return2 = last_day2.pct_change()\n",
        "print(daily_return2.fillna(0))"
      ],
      "execution_count": 120,
      "outputs": [
        {
          "output_type": "stream",
          "name": "stdout",
          "text": [
            "Date\n",
            "2018-01-31    0.000000\n",
            "2018-02-28    0.068185\n",
            "2018-03-31   -0.058051\n",
            "2018-04-30   -0.015020\n",
            "2018-05-31    0.135124\n",
            "2018-06-30   -0.009418\n",
            "2018-07-31    0.027983\n",
            "2018-08-31    0.200422\n",
            "2018-09-30   -0.008303\n",
            "2018-10-31   -0.030478\n",
            "2018-11-30   -0.181197\n",
            "2018-12-31   -0.125154\n",
            "Freq: M, Name: Close, dtype: float64\n"
          ]
        }
      ]
    },
    {
      "cell_type": "markdown",
      "metadata": {
        "id": "cibb616P3MYm"
      },
      "source": [
        "Alternatively, we can fill a NaN with the next fitted value. This is called 'backward fill', or 'bfill' in short:"
      ]
    },
    {
      "cell_type": "code",
      "metadata": {
        "colab": {
          "base_uri": "https://localhost:8080/"
        },
        "id": "slAKtfXo3gNa",
        "outputId": "26b07850-cb8c-43b3-fea1-e145b4f464a2"
      },
      "source": [
        "daily_return = last_day.pct_change()\n",
        "print(daily_return.fillna(method = 'bfill'))"
      ],
      "execution_count": 113,
      "outputs": [
        {
          "output_type": "stream",
          "name": "stdout",
          "text": [
            "Date\n",
            "2017-01-31    0.133778\n",
            "2017-02-28    0.133778\n",
            "2017-03-31    0.048690\n",
            "2017-04-30   -0.000070\n",
            "2017-05-31    0.067808\n",
            "2017-06-30   -0.057214\n",
            "2017-07-31    0.032704\n",
            "2017-08-31    0.106999\n",
            "2017-09-30   -0.060244\n",
            "2017-10-31    0.096808\n",
            "2017-11-30    0.020278\n",
            "2017-12-31   -0.015246\n",
            "Freq: M, Name: Close, dtype: float64\n"
          ]
        }
      ]
    },
    {
      "cell_type": "code",
      "metadata": {
        "colab": {
          "base_uri": "https://localhost:8080/"
        },
        "id": "QKbnIS3g3ia6",
        "outputId": "63a794e8-7747-468a-a55e-eef07eaf3bcd"
      },
      "source": [
        "daily_return2 = last_day2.pct_change()\n",
        "print(daily_return2.fillna(method = 'bfill'))"
      ],
      "execution_count": 121,
      "outputs": [
        {
          "output_type": "stream",
          "name": "stdout",
          "text": [
            "Date\n",
            "2018-01-31    0.068185\n",
            "2018-02-28    0.068185\n",
            "2018-03-31   -0.058051\n",
            "2018-04-30   -0.015020\n",
            "2018-05-31    0.135124\n",
            "2018-06-30   -0.009418\n",
            "2018-07-31    0.027983\n",
            "2018-08-31    0.200422\n",
            "2018-09-30   -0.008303\n",
            "2018-10-31   -0.030478\n",
            "2018-11-30   -0.181197\n",
            "2018-12-31   -0.125154\n",
            "Freq: M, Name: Close, dtype: float64\n"
          ]
        }
      ]
    },
    {
      "cell_type": "markdown",
      "metadata": {
        "id": "gCCqnhTb3tk2"
      },
      "source": [
        "\n",
        "As expected, since there is a 'backward fill' method, there must be a 'forward fill' method, or 'ffill' in short. However we can't use it here because the NaN is the first value.\n",
        "\n",
        "We can also simply remove NaN values by .dropna()"
      ]
    },
    {
      "cell_type": "code",
      "metadata": {
        "colab": {
          "base_uri": "https://localhost:8080/"
        },
        "id": "VM90Zf9u3uMS",
        "outputId": "ae671ffc-e867-4c9c-e104-2929d17dde51"
      },
      "source": [
        "daily_return = last_day.pct_change()\n",
        "daily_return.dropna()"
      ],
      "execution_count": 115,
      "outputs": [
        {
          "output_type": "execute_result",
          "data": {
            "text/plain": [
              "Date\n",
              "2017-02-28    0.133778\n",
              "2017-03-31    0.048690\n",
              "2017-04-30   -0.000070\n",
              "2017-05-31    0.067808\n",
              "2017-06-30   -0.057214\n",
              "2017-07-31    0.032704\n",
              "2017-08-31    0.106999\n",
              "2017-09-30   -0.060244\n",
              "2017-10-31    0.096808\n",
              "2017-11-30    0.020278\n",
              "2017-12-31   -0.015246\n",
              "Freq: M, Name: Close, dtype: float64"
            ]
          },
          "metadata": {},
          "execution_count": 115
        }
      ]
    },
    {
      "cell_type": "code",
      "metadata": {
        "colab": {
          "base_uri": "https://localhost:8080/"
        },
        "id": "JV0C6eig4CZw",
        "outputId": "58eb7bc3-64b8-47ca-857c-0b4385aedbe1"
      },
      "source": [
        "daily_return2 = last_day2.pct_change()\n",
        "daily_return2.dropna()"
      ],
      "execution_count": 122,
      "outputs": [
        {
          "output_type": "execute_result",
          "data": {
            "text/plain": [
              "Date\n",
              "2018-02-28    0.068185\n",
              "2018-03-31   -0.058051\n",
              "2018-04-30   -0.015020\n",
              "2018-05-31    0.135124\n",
              "2018-06-30   -0.009418\n",
              "2018-07-31    0.027983\n",
              "2018-08-31    0.200422\n",
              "2018-09-30   -0.008303\n",
              "2018-10-31   -0.030478\n",
              "2018-11-30   -0.181197\n",
              "2018-12-31   -0.125154\n",
              "Freq: M, Name: Close, dtype: float64"
            ]
          },
          "metadata": {},
          "execution_count": 122
        }
      ]
    },
    {
      "cell_type": "markdown",
      "metadata": {
        "id": "UdGEPjK651Td"
      },
      "source": [
        "####**DataFrame**\n",
        "\n",
        "The **DataFrame** is the most commonly used data structure in Pandas. It is essentially a table, just like an Excel spreadsheet.\n",
        "\n",
        "More precisely, a DataFrame is a collection of Series objects, each of which may contain different data types. A DataFrame can be created from various data types: dictionary, 2-D numpy.ndarray, a Series or another DataFrame."
      ]
    },
    {
      "cell_type": "markdown",
      "metadata": {
        "id": "2U280XKD6Du2"
      },
      "source": [
        "####**Create DataFrames**\n",
        "\n",
        "The most common method of creating a DataFrame is passing a dictionary:"
      ]
    },
    {
      "cell_type": "code",
      "metadata": {
        "colab": {
          "base_uri": "https://localhost:8080/"
        },
        "id": "-3xBvAO27E2t",
        "outputId": "c59716da-9959-4bda-d922-a8b695d6e3c8"
      },
      "source": [
        "import pandas as pd\n",
        "\n",
        "dict = {'AAPL': [143.5, 144.09, 142.73, 144.18, 143.77],'GOOG':[898.7, 911.71, 906.69, 918.59, 926.99],\n",
        "        'IBM':[155.58, 153.67, 152.36, 152.94, 153.49]}\n",
        "data_index = pd.date_range('2017-07-03',periods = 5, freq = 'D')\n",
        "df = pd.DataFrame(dict, index = data_index)\n",
        "print(df)"
      ],
      "execution_count": 125,
      "outputs": [
        {
          "output_type": "stream",
          "name": "stdout",
          "text": [
            "              AAPL    GOOG     IBM\n",
            "2017-07-03  143.50  898.70  155.58\n",
            "2017-07-04  144.09  911.71  153.67\n",
            "2017-07-05  142.73  906.69  152.36\n",
            "2017-07-06  144.18  918.59  152.94\n",
            "2017-07-07  143.77  926.99  153.49\n"
          ]
        }
      ]
    },
    {
      "cell_type": "code",
      "metadata": {
        "colab": {
          "base_uri": "https://localhost:8080/"
        },
        "id": "CccB0Mml7TfX",
        "outputId": "5dc16dd0-f457-4cb0-b6d9-17b761c4d5ab"
      },
      "source": [
        "dict2 = {'Cam': [0, 5, 10, 15, 20],'tk':[10, 20, 30, 40, 50],\n",
        "        'Apu':[0, 30, 15, 75, 50]}\n",
        "data_index2 = pd.date_range('2018-07-03',periods = 5, freq = 'D')\n",
        "df2 = pd.DataFrame(dict2, index = data_index2)\n",
        "print(df2)"
      ],
      "execution_count": 128,
      "outputs": [
        {
          "output_type": "stream",
          "name": "stdout",
          "text": [
            "            Cam  tk  Apu\n",
            "2018-07-03    0  10    0\n",
            "2018-07-04    5  20   30\n",
            "2018-07-05   10  30   15\n",
            "2018-07-06   15  40   75\n",
            "2018-07-07   20  50   50\n"
          ]
        }
      ]
    },
    {
      "cell_type": "markdown",
      "metadata": {
        "id": "3WrJ-DZm8HvW"
      },
      "source": [
        "####**Manipulating DataFrames**\n",
        "\n",
        "We can fetch values in a DataFrame by columns and index. Each column in a DataFrame is essentially a Pandas Series. We can fetch a column by square brackets: df['column_name']\n",
        "\n",
        "If a column name contains no spaces, then we can also use df.column_name to fetch a column:"
      ]
    },
    {
      "cell_type": "code",
      "metadata": {
        "colab": {
          "base_uri": "https://localhost:8080/"
        },
        "id": "VJgcCBYa8RkW",
        "outputId": "5ef11211-360b-4c06-d2f2-72d95b95e1e4"
      },
      "source": [
        "df = aapl_table\n",
        "print(df.Close.tail(5))\n",
        "print(df['Volume'].tail(5))"
      ],
      "execution_count": 132,
      "outputs": [
        {
          "output_type": "stream",
          "name": "stdout",
          "text": [
            "Date\n",
            "2017-12-22    41.906761\n",
            "2017-12-26    40.843601\n",
            "2017-12-27    40.850788\n",
            "2017-12-28    40.965721\n",
            "2017-12-29    40.522728\n",
            "Name: Close, dtype: float64\n",
            "Date\n",
            "2017-12-22     65397600\n",
            "2017-12-26    132742000\n",
            "2017-12-27     85992800\n",
            "2017-12-28     65920800\n",
            "2017-12-29    103999600\n",
            "Name: Volume, dtype: int64\n"
          ]
        }
      ]
    },
    {
      "cell_type": "code",
      "metadata": {
        "colab": {
          "base_uri": "https://localhost:8080/"
        },
        "id": "RJsSCIsM8cWf",
        "outputId": "d985b7ab-1341-4b47-e4ff-8870fe3397d3"
      },
      "source": [
        "df2 = FRUIT_TABLE\n",
        "print(df2.Close.tail(5))\n",
        "print(df2['Volume'].tail(5))"
      ],
      "execution_count": 131,
      "outputs": [
        {
          "output_type": "stream",
          "name": "stdout",
          "text": [
            "Date\n",
            "2018-12-21    36.634705\n",
            "2018-12-24    35.686821\n",
            "2018-12-26    38.199944\n",
            "2018-12-27    37.952034\n",
            "2018-12-28    37.971474\n",
            "Name: Close, dtype: float64\n",
            "Date\n",
            "2018-12-21    382978400\n",
            "2018-12-24    148676800\n",
            "2018-12-26    234330000\n",
            "2018-12-27    212468400\n",
            "2018-12-28    169165600\n",
            "Name: Volume, dtype: int64\n"
          ]
        }
      ]
    },
    {
      "cell_type": "markdown",
      "metadata": {
        "id": "WLtM80Ml8t8P"
      },
      "source": [
        "\n",
        "All the methods we applied to a Series index such as iloc[], loc[] and resampling methods, can also be applied to a DataFrame:"
      ]
    },
    {
      "cell_type": "code",
      "metadata": {
        "colab": {
          "base_uri": "https://localhost:8080/"
        },
        "id": "kIZiDjS_83_H",
        "outputId": "e450e19c-813a-48fe-f391-849057ced390"
      },
      "source": [
        "aapl_2016 = df['2016']\n",
        "aapl_month = aapl_2016.resample('M').agg(lambda x: x[-1])\n",
        "print(aapl_month)"
      ],
      "execution_count": 135,
      "outputs": [
        {
          "output_type": "stream",
          "name": "stdout",
          "text": [
            "                 Open       High        Low  ...     Volume  Dividends  Stock Splits\n",
            "Date                                         ...                                    \n",
            "2016-01-31  21.852380  22.440243  21.750945  ...  257666000        0.0             0\n",
            "2016-02-29  22.450759  22.768306  22.402084  ...  140865200        0.0             0\n",
            "2016-03-31  25.431520  25.473242  25.236819  ...  103553600        0.0             0\n",
            "2016-04-30  21.785531  21.954736  21.442489  ...  274126000        0.0             0\n",
            "2016-05-31  23.226401  23.412960  23.044508  ...  169228800        0.0             0\n",
            "2016-06-30  22.023108  22.333258  21.990461  ...  143345600        0.0             0\n",
            "2016-07-31  24.296778  24.380729  24.177847  ...  110934800        0.0             0\n",
            "2016-08-31  24.773058  24.986415  24.768367  ...  118649600        0.0             0\n",
            "2016-09-30  26.367386  26.580745  26.212643  ...  145516400        0.0             0\n",
            "2016-10-31  26.646394  26.782382  26.540886  ...  105677600        0.0             0\n",
            "2016-11-30  26.300092  26.441490  25.986658  ...  144649200        0.0             0\n",
            "2016-12-31  27.490193  27.619807  27.202683  ...  122345200        0.0             0\n",
            "\n",
            "[12 rows x 7 columns]\n"
          ]
        }
      ]
    },
    {
      "cell_type": "code",
      "metadata": {
        "colab": {
          "base_uri": "https://localhost:8080/"
        },
        "id": "1ITUodEv86_6",
        "outputId": "a3af7ba9-461a-4500-e0b6-126d038082d5"
      },
      "source": [
        "fruit_2017 = df2['2017']\n",
        "fruit_month = fruit_2017.resample('M').agg(lambda x: x[-1])\n",
        "print(aapl_month)"
      ],
      "execution_count": 136,
      "outputs": [
        {
          "output_type": "stream",
          "name": "stdout",
          "text": [
            "                 Open       High        Low  ...     Volume  Dividends  Stock Splits\n",
            "Date                                         ...                                    \n",
            "2016-01-31  21.852380  22.440243  21.750945  ...  257666000        0.0             0\n",
            "2016-02-29  22.450759  22.768306  22.402084  ...  140865200        0.0             0\n",
            "2016-03-31  25.431520  25.473242  25.236819  ...  103553600        0.0             0\n",
            "2016-04-30  21.785531  21.954736  21.442489  ...  274126000        0.0             0\n",
            "2016-05-31  23.226401  23.412960  23.044508  ...  169228800        0.0             0\n",
            "2016-06-30  22.023108  22.333258  21.990461  ...  143345600        0.0             0\n",
            "2016-07-31  24.296778  24.380729  24.177847  ...  110934800        0.0             0\n",
            "2016-08-31  24.773058  24.986415  24.768367  ...  118649600        0.0             0\n",
            "2016-09-30  26.367386  26.580745  26.212643  ...  145516400        0.0             0\n",
            "2016-10-31  26.646394  26.782382  26.540886  ...  105677600        0.0             0\n",
            "2016-11-30  26.300092  26.441490  25.986658  ...  144649200        0.0             0\n",
            "2016-12-31  27.490193  27.619807  27.202683  ...  122345200        0.0             0\n",
            "\n",
            "[12 rows x 7 columns]\n"
          ]
        }
      ]
    },
    {
      "cell_type": "markdown",
      "metadata": {
        "id": "jFwP8adO9HuK"
      },
      "source": [
        "\n",
        "We may select certain columns of a DataFrame using their names:"
      ]
    },
    {
      "cell_type": "code",
      "metadata": {
        "colab": {
          "base_uri": "https://localhost:8080/"
        },
        "id": "eWTAfSu99QAm",
        "outputId": "29ca80d5-d88e-4773-dc7d-f42784a2614b"
      },
      "source": [
        "aapl_bar = aapl_month[['Open', 'High', 'Low', 'Close']]\n",
        "print(aapl_bar)"
      ],
      "execution_count": 137,
      "outputs": [
        {
          "output_type": "stream",
          "name": "stdout",
          "text": [
            "                 Open       High        Low      Close\n",
            "Date                                                  \n",
            "2016-01-31  21.852380  22.440243  21.750945  22.440243\n",
            "2016-02-29  22.450759  22.768306  22.402084  22.411356\n",
            "2016-03-31  25.431520  25.473242  25.236819  25.262316\n",
            "2016-04-30  21.785531  21.954736  21.442489  21.727585\n",
            "2016-05-31  23.226401  23.412960  23.044508  23.287033\n",
            "2016-06-30  22.023108  22.333258  21.990461  22.293615\n",
            "2016-07-31  24.296778  24.380729  24.177847  24.301441\n",
            "2016-08-31  24.773058  24.986415  24.768367  24.876219\n",
            "2016-09-30  26.367386  26.580745  26.212643  26.505718\n",
            "2016-10-31  26.646394  26.782382  26.540886  26.620604\n",
            "2016-11-30  26.300092  26.441490  25.986658  26.045574\n",
            "2016-12-31  27.490193  27.619807  27.202683  27.294592\n"
          ]
        }
      ]
    },
    {
      "cell_type": "code",
      "metadata": {
        "colab": {
          "base_uri": "https://localhost:8080/"
        },
        "id": "N0BNHESP9SVU",
        "outputId": "e76b3176-e458-4567-c520-0ef0360dedf0"
      },
      "source": [
        "fruit_bar = fruit_month[['Open', 'High', 'Low', 'Close']]\n",
        "print(fruit_bar)"
      ],
      "execution_count": 138,
      "outputs": [
        {
          "output_type": "stream",
          "name": "stdout",
          "text": [
            "                 Open       High        Low      Close\n",
            "Date                                                  \n",
            "2017-01-31  28.550681  28.607239  28.425779  28.597813\n",
            "2017-02-28  32.444870  32.530077  32.354928  32.423569\n",
            "2017-03-31  34.016451  34.146629  33.848403  34.002251\n",
            "2017-04-30  34.104035  34.153741  33.909955  33.999893\n",
            "2017-05-31  36.592905  36.640437  36.215023  36.305332\n",
            "2017-06-30  34.330365  34.451576  34.171132  34.228172\n",
            "2017-07-31  35.625618  35.727815  35.204958  35.347553\n",
            "2017-08-31  39.043824  39.253790  39.005648  39.129719\n",
            "2017-09-30  36.555277  36.774784  36.266574  36.772396\n",
            "2017-10-31  40.060250  40.477792  39.831199  40.332249\n",
            "2017-11-30  40.810073  41.219541  40.333563  41.150101\n",
            "2017-12-31  40.831633  40.848393  40.520342  40.522736\n"
          ]
        }
      ]
    },
    {
      "cell_type": "markdown",
      "metadata": {
        "id": "6To8J2-D9ese"
      },
      "source": [
        "\n",
        "We can even specify both rows and columns using loc[]. The row indices and column names are separated by a comma:"
      ]
    },
    {
      "cell_type": "code",
      "metadata": {
        "colab": {
          "base_uri": "https://localhost:8080/"
        },
        "id": "wp7NGSXf9gew",
        "outputId": "9a69bb51-a5c7-469d-afd7-d4766028c3f6"
      },
      "source": [
        "print(aapl_month.loc['2016-03':'2016-06',['Open', 'High', 'Low', 'Close']])"
      ],
      "execution_count": 139,
      "outputs": [
        {
          "output_type": "stream",
          "name": "stdout",
          "text": [
            "                 Open       High        Low      Close\n",
            "Date                                                  \n",
            "2016-03-31  25.431520  25.473242  25.236819  25.262316\n",
            "2016-04-30  21.785531  21.954736  21.442489  21.727585\n",
            "2016-05-31  23.226401  23.412960  23.044508  23.287033\n",
            "2016-06-30  22.023108  22.333258  21.990461  22.293615\n"
          ]
        }
      ]
    },
    {
      "cell_type": "code",
      "metadata": {
        "colab": {
          "base_uri": "https://localhost:8080/"
        },
        "id": "9cPpsTIK9jsw",
        "outputId": "263c7795-1898-48af-dba2-08a6ef710930"
      },
      "source": [
        "print(fruit_month.loc['2017-03':'2017-06',['Open', 'High', 'Low', 'Close']])"
      ],
      "execution_count": 141,
      "outputs": [
        {
          "output_type": "stream",
          "name": "stdout",
          "text": [
            "                 Open       High        Low      Close\n",
            "Date                                                  \n",
            "2017-03-31  34.016451  34.146629  33.848403  34.002251\n",
            "2017-04-30  34.104035  34.153741  33.909955  33.999893\n",
            "2017-05-31  36.592905  36.640437  36.215023  36.305332\n",
            "2017-06-30  34.330365  34.451576  34.171132  34.228172\n"
          ]
        }
      ]
    },
    {
      "cell_type": "markdown",
      "metadata": {
        "id": "3iAG9EvP9sIw"
      },
      "source": [
        "The subset methods in DataFrame is quite useful. By writing logical statements in square brackets, we can make customized subsets:"
      ]
    },
    {
      "cell_type": "code",
      "metadata": {
        "colab": {
          "base_uri": "https://localhost:8080/"
        },
        "id": "rifb4_Wi9u1h",
        "outputId": "69f830a5-58f4-4063-a9d0-9dc8ef7abccc"
      },
      "source": [
        "import numpy as np\n",
        "\n",
        "above = aapl_bar[aapl_bar.Close > np.mean(aapl_bar.Close)]\n",
        "print(above)"
      ],
      "execution_count": 142,
      "outputs": [
        {
          "output_type": "stream",
          "name": "stdout",
          "text": [
            "                 Open       High        Low      Close\n",
            "Date                                                  \n",
            "2016-03-31  25.431520  25.473242  25.236819  25.262316\n",
            "2016-08-31  24.773058  24.986415  24.768367  24.876219\n",
            "2016-09-30  26.367386  26.580745  26.212643  26.505718\n",
            "2016-10-31  26.646394  26.782382  26.540886  26.620604\n",
            "2016-11-30  26.300092  26.441490  25.986658  26.045574\n",
            "2016-12-31  27.490193  27.619807  27.202683  27.294592\n"
          ]
        }
      ]
    },
    {
      "cell_type": "code",
      "metadata": {
        "colab": {
          "base_uri": "https://localhost:8080/"
        },
        "id": "VISiO87J9wko",
        "outputId": "b52a9338-8e09-4296-cda9-2b775221dc0f"
      },
      "source": [
        "above2 = fruit_bar[fruit_bar.Close > np.mean(fruit_bar.Close)]\n",
        "print(above2)"
      ],
      "execution_count": 143,
      "outputs": [
        {
          "output_type": "stream",
          "name": "stdout",
          "text": [
            "                 Open       High        Low      Close\n",
            "Date                                                  \n",
            "2017-05-31  36.592905  36.640437  36.215023  36.305332\n",
            "2017-08-31  39.043824  39.253790  39.005648  39.129719\n",
            "2017-09-30  36.555277  36.774784  36.266574  36.772396\n",
            "2017-10-31  40.060250  40.477792  39.831199  40.332249\n",
            "2017-11-30  40.810073  41.219541  40.333563  41.150101\n",
            "2017-12-31  40.831633  40.848393  40.520342  40.522736\n"
          ]
        }
      ]
    },
    {
      "cell_type": "markdown",
      "metadata": {
        "id": "pSvTuuBt-GHL"
      },
      "source": [
        "####**Data Validation**\n",
        "As mentioned, all methods that apply to a Series can also be applied to a DataFrame. Here we add a new column to an existing DataFrame:"
      ]
    },
    {
      "cell_type": "code",
      "metadata": {
        "colab": {
          "base_uri": "https://localhost:8080/"
        },
        "id": "s6ozpwga-NHm",
        "outputId": "6433a540-b763-4feb-9aae-e0050848edee"
      },
      "source": [
        "\n",
        "aapl_bar['rate_return'] = aapl_bar.Close.pct_change()\n",
        "print(aapl_bar)"
      ],
      "execution_count": 144,
      "outputs": [
        {
          "output_type": "stream",
          "name": "stdout",
          "text": [
            "                 Open       High        Low      Close  rate_return\n",
            "Date                                                               \n",
            "2016-01-31  21.852380  22.440243  21.750945  22.440243          NaN\n",
            "2016-02-29  22.450759  22.768306  22.402084  22.411356    -0.001287\n",
            "2016-03-31  25.431520  25.473242  25.236819  25.262316     0.127210\n",
            "2016-04-30  21.785531  21.954736  21.442489  21.727585    -0.139921\n",
            "2016-05-31  23.226401  23.412960  23.044508  23.287033     0.071773\n",
            "2016-06-30  22.023108  22.333258  21.990461  22.293615    -0.042660\n",
            "2016-07-31  24.296778  24.380729  24.177847  24.301441     0.090063\n",
            "2016-08-31  24.773058  24.986415  24.768367  24.876219     0.023652\n",
            "2016-09-30  26.367386  26.580745  26.212643  26.505718     0.065504\n",
            "2016-10-31  26.646394  26.782382  26.540886  26.620604     0.004334\n",
            "2016-11-30  26.300092  26.441490  25.986658  26.045574    -0.021601\n",
            "2016-12-31  27.490193  27.619807  27.202683  27.294592     0.047955\n"
          ]
        },
        {
          "output_type": "stream",
          "name": "stderr",
          "text": [
            "/usr/local/lib/python3.7/dist-packages/ipykernel_launcher.py:2: SettingWithCopyWarning: \n",
            "A value is trying to be set on a copy of a slice from a DataFrame.\n",
            "Try using .loc[row_indexer,col_indexer] = value instead\n",
            "\n",
            "See the caveats in the documentation: https://pandas.pydata.org/pandas-docs/stable/user_guide/indexing.html#returning-a-view-versus-a-copy\n",
            "  \n"
          ]
        }
      ]
    },
    {
      "cell_type": "code",
      "metadata": {
        "colab": {
          "base_uri": "https://localhost:8080/"
        },
        "id": "mwnWY2j3-QEj",
        "outputId": "40bc8eda-78c9-463d-ab15-188c9c75d0eb"
      },
      "source": [
        "fruit_bar['rate_return'] = aapl_bar.Close.pct_change()\n",
        "print(fruit_bar)"
      ],
      "execution_count": 145,
      "outputs": [
        {
          "output_type": "stream",
          "name": "stdout",
          "text": [
            "                 Open       High        Low      Close  rate_return\n",
            "Date                                                               \n",
            "2017-01-31  28.550681  28.607239  28.425779  28.597813          NaN\n",
            "2017-02-28  32.444870  32.530077  32.354928  32.423569          NaN\n",
            "2017-03-31  34.016451  34.146629  33.848403  34.002251          NaN\n",
            "2017-04-30  34.104035  34.153741  33.909955  33.999893          NaN\n",
            "2017-05-31  36.592905  36.640437  36.215023  36.305332          NaN\n",
            "2017-06-30  34.330365  34.451576  34.171132  34.228172          NaN\n",
            "2017-07-31  35.625618  35.727815  35.204958  35.347553          NaN\n",
            "2017-08-31  39.043824  39.253790  39.005648  39.129719          NaN\n",
            "2017-09-30  36.555277  36.774784  36.266574  36.772396          NaN\n",
            "2017-10-31  40.060250  40.477792  39.831199  40.332249          NaN\n",
            "2017-11-30  40.810073  41.219541  40.333563  41.150101          NaN\n",
            "2017-12-31  40.831633  40.848393  40.520342  40.522736          NaN\n"
          ]
        },
        {
          "output_type": "stream",
          "name": "stderr",
          "text": [
            "/usr/local/lib/python3.7/dist-packages/ipykernel_launcher.py:1: SettingWithCopyWarning: \n",
            "A value is trying to be set on a copy of a slice from a DataFrame.\n",
            "Try using .loc[row_indexer,col_indexer] = value instead\n",
            "\n",
            "See the caveats in the documentation: https://pandas.pydata.org/pandas-docs/stable/user_guide/indexing.html#returning-a-view-versus-a-copy\n",
            "  \"\"\"Entry point for launching an IPython kernel.\n"
          ]
        }
      ]
    },
    {
      "cell_type": "markdown",
      "metadata": {
        "id": "fXsveVaZ-cni"
      },
      "source": [
        "\n",
        "Here the calculation introduced a NaN value. If the DataFrame is large, we would not be able to observe it. isnull() provides a convenient way to check abnormal values."
      ]
    },
    {
      "cell_type": "code",
      "metadata": {
        "colab": {
          "base_uri": "https://localhost:8080/"
        },
        "id": "FW3CuT83-g2R",
        "outputId": "218f84da-344b-447c-c11d-ac8063dd4e15"
      },
      "source": [
        "missing = aapl_bar.isnull()\n",
        "print(missing)\n",
        "print('---------------------------------------------')\n",
        "print(missing.describe())"
      ],
      "execution_count": 146,
      "outputs": [
        {
          "output_type": "stream",
          "name": "stdout",
          "text": [
            "             Open   High    Low  Close  rate_return\n",
            "Date                                               \n",
            "2016-01-31  False  False  False  False         True\n",
            "2016-02-29  False  False  False  False        False\n",
            "2016-03-31  False  False  False  False        False\n",
            "2016-04-30  False  False  False  False        False\n",
            "2016-05-31  False  False  False  False        False\n",
            "2016-06-30  False  False  False  False        False\n",
            "2016-07-31  False  False  False  False        False\n",
            "2016-08-31  False  False  False  False        False\n",
            "2016-09-30  False  False  False  False        False\n",
            "2016-10-31  False  False  False  False        False\n",
            "2016-11-30  False  False  False  False        False\n",
            "2016-12-31  False  False  False  False        False\n",
            "---------------------------------------------\n",
            "         Open   High    Low  Close rate_return\n",
            "count      12     12     12     12          12\n",
            "unique      1      1      1      1           2\n",
            "top     False  False  False  False       False\n",
            "freq       12     12     12     12          11\n"
          ]
        }
      ]
    },
    {
      "cell_type": "code",
      "metadata": {
        "colab": {
          "base_uri": "https://localhost:8080/"
        },
        "id": "b59BTQvz-jE2",
        "outputId": "d677fcc8-5c1f-47cf-9b85-ced678839d6c"
      },
      "source": [
        "missing2 = fruit_bar.isnull()\n",
        "print(missing2)\n",
        "print('---------------------------------------------')\n",
        "print(missing2.describe())"
      ],
      "execution_count": 147,
      "outputs": [
        {
          "output_type": "stream",
          "name": "stdout",
          "text": [
            "             Open   High    Low  Close  rate_return\n",
            "Date                                               \n",
            "2017-01-31  False  False  False  False         True\n",
            "2017-02-28  False  False  False  False         True\n",
            "2017-03-31  False  False  False  False         True\n",
            "2017-04-30  False  False  False  False         True\n",
            "2017-05-31  False  False  False  False         True\n",
            "2017-06-30  False  False  False  False         True\n",
            "2017-07-31  False  False  False  False         True\n",
            "2017-08-31  False  False  False  False         True\n",
            "2017-09-30  False  False  False  False         True\n",
            "2017-10-31  False  False  False  False         True\n",
            "2017-11-30  False  False  False  False         True\n",
            "2017-12-31  False  False  False  False         True\n",
            "---------------------------------------------\n",
            "         Open   High    Low  Close rate_return\n",
            "count      12     12     12     12          12\n",
            "unique      1      1      1      1           1\n",
            "top     False  False  False  False        True\n",
            "freq       12     12     12     12          12\n"
          ]
        }
      ]
    },
    {
      "cell_type": "markdown",
      "metadata": {
        "id": "am_d2ICG-u7j"
      },
      "source": [
        "The row labelled \"unique\" indicates the number of unique values in each column. Since the \"rate_return\" column has 2 unique values, it has at least one missing value.\n",
        "\n",
        "We can deduce the number of missing values by comparing \"count\" with \"freq\". There are 12 counts and 11 False values, so there is one True value which corresponds to the missing value.\n",
        "\n",
        "We can also find the rows with missing values easily:"
      ]
    },
    {
      "cell_type": "code",
      "metadata": {
        "colab": {
          "base_uri": "https://localhost:8080/"
        },
        "id": "Kvmu8VjU-9JG",
        "outputId": "d319692c-0071-48d7-bb59-08477b9ff99a"
      },
      "source": [
        "\n",
        "print(missing[missing.rate_return == True])"
      ],
      "execution_count": 148,
      "outputs": [
        {
          "output_type": "stream",
          "name": "stdout",
          "text": [
            "             Open   High    Low  Close  rate_return\n",
            "Date                                               \n",
            "2016-01-31  False  False  False  False         True\n"
          ]
        }
      ]
    },
    {
      "cell_type": "code",
      "metadata": {
        "colab": {
          "base_uri": "https://localhost:8080/"
        },
        "id": "c4y7NrHj--0S",
        "outputId": "2d02cd6a-02fc-4562-c4f0-dc396940e2ad"
      },
      "source": [
        "\n",
        "print(missing2[missing2.rate_return == True])"
      ],
      "execution_count": 149,
      "outputs": [
        {
          "output_type": "stream",
          "name": "stdout",
          "text": [
            "             Open   High    Low  Close  rate_return\n",
            "Date                                               \n",
            "2017-01-31  False  False  False  False         True\n",
            "2017-02-28  False  False  False  False         True\n",
            "2017-03-31  False  False  False  False         True\n",
            "2017-04-30  False  False  False  False         True\n",
            "2017-05-31  False  False  False  False         True\n",
            "2017-06-30  False  False  False  False         True\n",
            "2017-07-31  False  False  False  False         True\n",
            "2017-08-31  False  False  False  False         True\n",
            "2017-09-30  False  False  False  False         True\n",
            "2017-10-31  False  False  False  False         True\n",
            "2017-11-30  False  False  False  False         True\n",
            "2017-12-31  False  False  False  False         True\n"
          ]
        }
      ]
    },
    {
      "cell_type": "markdown",
      "metadata": {
        "id": "q9IhD8_h_IO0"
      },
      "source": [
        "\n",
        "Usually when dealing with missing data, we either delete the whole row or fill it with some value. As we introduced in the Series chapter, the same method dropna() and fillna() can be applied to a DataFrame."
      ]
    },
    {
      "cell_type": "code",
      "metadata": {
        "colab": {
          "base_uri": "https://localhost:8080/"
        },
        "id": "-x2eECHq_Kht",
        "outputId": "c25436d2-6d44-4462-a375-0b053057b360"
      },
      "source": [
        "\n",
        "drop = aapl_bar.dropna()\n",
        "print(drop)\n",
        "print('\\n--------------------------------------------------\\n')\n",
        "fill = aapl_bar.fillna(0)\n",
        "print(fill)"
      ],
      "execution_count": 150,
      "outputs": [
        {
          "output_type": "stream",
          "name": "stdout",
          "text": [
            "                 Open       High        Low      Close  rate_return\n",
            "Date                                                               \n",
            "2016-02-29  22.450759  22.768306  22.402084  22.411356    -0.001287\n",
            "2016-03-31  25.431520  25.473242  25.236819  25.262316     0.127210\n",
            "2016-04-30  21.785531  21.954736  21.442489  21.727585    -0.139921\n",
            "2016-05-31  23.226401  23.412960  23.044508  23.287033     0.071773\n",
            "2016-06-30  22.023108  22.333258  21.990461  22.293615    -0.042660\n",
            "2016-07-31  24.296778  24.380729  24.177847  24.301441     0.090063\n",
            "2016-08-31  24.773058  24.986415  24.768367  24.876219     0.023652\n",
            "2016-09-30  26.367386  26.580745  26.212643  26.505718     0.065504\n",
            "2016-10-31  26.646394  26.782382  26.540886  26.620604     0.004334\n",
            "2016-11-30  26.300092  26.441490  25.986658  26.045574    -0.021601\n",
            "2016-12-31  27.490193  27.619807  27.202683  27.294592     0.047955\n",
            "\n",
            "--------------------------------------------------\n",
            "\n",
            "                 Open       High        Low      Close  rate_return\n",
            "Date                                                               \n",
            "2016-01-31  21.852380  22.440243  21.750945  22.440243     0.000000\n",
            "2016-02-29  22.450759  22.768306  22.402084  22.411356    -0.001287\n",
            "2016-03-31  25.431520  25.473242  25.236819  25.262316     0.127210\n",
            "2016-04-30  21.785531  21.954736  21.442489  21.727585    -0.139921\n",
            "2016-05-31  23.226401  23.412960  23.044508  23.287033     0.071773\n",
            "2016-06-30  22.023108  22.333258  21.990461  22.293615    -0.042660\n",
            "2016-07-31  24.296778  24.380729  24.177847  24.301441     0.090063\n",
            "2016-08-31  24.773058  24.986415  24.768367  24.876219     0.023652\n",
            "2016-09-30  26.367386  26.580745  26.212643  26.505718     0.065504\n",
            "2016-10-31  26.646394  26.782382  26.540886  26.620604     0.004334\n",
            "2016-11-30  26.300092  26.441490  25.986658  26.045574    -0.021601\n",
            "2016-12-31  27.490193  27.619807  27.202683  27.294592     0.047955\n"
          ]
        }
      ]
    },
    {
      "cell_type": "code",
      "metadata": {
        "colab": {
          "base_uri": "https://localhost:8080/"
        },
        "id": "rsQy9oVt_MOd",
        "outputId": "285d28a1-5e6d-4cba-eff1-8d2bd2ded3a9"
      },
      "source": [
        "drop2 = fruit_bar.dropna()\n",
        "print(drop2)\n",
        "print('\\n--------------------------------------------------\\n')\n",
        "fill2 = fruit_bar.fillna(0)\n",
        "print(fill)"
      ],
      "execution_count": 151,
      "outputs": [
        {
          "output_type": "stream",
          "name": "stdout",
          "text": [
            "Empty DataFrame\n",
            "Columns: [Open, High, Low, Close, rate_return]\n",
            "Index: []\n",
            "\n",
            "--------------------------------------------------\n",
            "\n",
            "                 Open       High        Low      Close  rate_return\n",
            "Date                                                               \n",
            "2016-01-31  21.852380  22.440243  21.750945  22.440243     0.000000\n",
            "2016-02-29  22.450759  22.768306  22.402084  22.411356    -0.001287\n",
            "2016-03-31  25.431520  25.473242  25.236819  25.262316     0.127210\n",
            "2016-04-30  21.785531  21.954736  21.442489  21.727585    -0.139921\n",
            "2016-05-31  23.226401  23.412960  23.044508  23.287033     0.071773\n",
            "2016-06-30  22.023108  22.333258  21.990461  22.293615    -0.042660\n",
            "2016-07-31  24.296778  24.380729  24.177847  24.301441     0.090063\n",
            "2016-08-31  24.773058  24.986415  24.768367  24.876219     0.023652\n",
            "2016-09-30  26.367386  26.580745  26.212643  26.505718     0.065504\n",
            "2016-10-31  26.646394  26.782382  26.540886  26.620604     0.004334\n",
            "2016-11-30  26.300092  26.441490  25.986658  26.045574    -0.021601\n",
            "2016-12-31  27.490193  27.619807  27.202683  27.294592     0.047955\n"
          ]
        }
      ]
    },
    {
      "cell_type": "markdown",
      "metadata": {
        "id": "9jLgjgrp_gTh"
      },
      "source": [
        "####**DataFrame Concat**\n",
        "\n",
        "We have seen how to extract a Series from a dataFrame. Now we need to consider how to merge a Series or a DataFrame into another one.\n",
        "\n",
        "In Pandas, the function concat() allows us to merge multiple Series into a DataFrame:"
      ]
    },
    {
      "cell_type": "code",
      "metadata": {
        "colab": {
          "base_uri": "https://localhost:8080/"
        },
        "id": "9nZGYntc_xWB",
        "outputId": "56801060-c030-4ee3-a0ff-6b826ff2c5f1"
      },
      "source": [
        "s1 = pd.Series([143.5, 144.09, 142.73, 144.18, 143.77], name = 'AAPL')\n",
        "s2 = pd.Series([898.7, 911.71, 906.69, 918.59, 926.99], name = 'GOOG')\n",
        "data_frame = pd.concat([s1,s2], axis = 1)\n",
        "print(data_frame)"
      ],
      "execution_count": 152,
      "outputs": [
        {
          "output_type": "stream",
          "name": "stdout",
          "text": [
            "     AAPL    GOOG\n",
            "0  143.50  898.70\n",
            "1  144.09  911.71\n",
            "2  142.73  906.69\n",
            "3  144.18  918.59\n",
            "4  143.77  926.99\n"
          ]
        }
      ]
    },
    {
      "cell_type": "code",
      "metadata": {
        "colab": {
          "base_uri": "https://localhost:8080/"
        },
        "id": "_p-tSlJb_1zU",
        "outputId": "8492e3f0-266e-4bb2-a028-3f889d229899"
      },
      "source": [
        "s12 = pd.Series([0, 5, 10, 15, 20], name = 'Cam')\n",
        "s22 = pd.Series([10, 15, 20, 25, 30], name = 'GOOG')\n",
        "data_frame2 = pd.concat([s12,s22], axis = 1)\n",
        "print(data_frame2)"
      ],
      "execution_count": 154,
      "outputs": [
        {
          "output_type": "stream",
          "name": "stdout",
          "text": [
            "   Cam  GOOG\n",
            "0    0    10\n",
            "1    5    15\n",
            "2   10    20\n",
            "3   15    25\n",
            "4   20    30\n"
          ]
        }
      ]
    },
    {
      "cell_type": "markdown",
      "metadata": {
        "id": "2w1VFAffAQ8D"
      },
      "source": [
        "\n",
        "The \"axis = 1\" parameter will join two DataFrames by columns:"
      ]
    },
    {
      "cell_type": "code",
      "metadata": {
        "colab": {
          "base_uri": "https://localhost:8080/"
        },
        "id": "vy4domMtAUAE",
        "outputId": "1d74a12b-39f7-4eda-e71e-d9e4493d9105"
      },
      "source": [
        "log_price = np.log(aapl_bar.Close)\n",
        "log_price.name = 'log_price'\n",
        "print(log_price)\n",
        "print('\\n---------------------- separate line--------------------\\n')\n",
        "concat = pd.concat([aapl_bar, log_price], axis = 1)\n",
        "print(concat)"
      ],
      "execution_count": 155,
      "outputs": [
        {
          "output_type": "stream",
          "name": "stdout",
          "text": [
            "Date\n",
            "2016-01-31    3.110856\n",
            "2016-02-29    3.109568\n",
            "2016-03-31    3.229314\n",
            "2016-04-30    3.078583\n",
            "2016-05-31    3.147897\n",
            "2016-06-30    3.104300\n",
            "2016-07-31    3.190536\n",
            "2016-08-31    3.213912\n",
            "2016-09-30    3.277360\n",
            "2016-10-31    3.281685\n",
            "2016-11-30    3.259848\n",
            "2016-12-31    3.306689\n",
            "Freq: M, Name: log_price, dtype: float64\n",
            "\n",
            "---------------------- separate line--------------------\n",
            "\n",
            "                 Open       High        Low      Close  rate_return  log_price\n",
            "Date                                                                          \n",
            "2016-01-31  21.852380  22.440243  21.750945  22.440243          NaN   3.110856\n",
            "2016-02-29  22.450759  22.768306  22.402084  22.411356    -0.001287   3.109568\n",
            "2016-03-31  25.431520  25.473242  25.236819  25.262316     0.127210   3.229314\n",
            "2016-04-30  21.785531  21.954736  21.442489  21.727585    -0.139921   3.078583\n",
            "2016-05-31  23.226401  23.412960  23.044508  23.287033     0.071773   3.147897\n",
            "2016-06-30  22.023108  22.333258  21.990461  22.293615    -0.042660   3.104300\n",
            "2016-07-31  24.296778  24.380729  24.177847  24.301441     0.090063   3.190536\n",
            "2016-08-31  24.773058  24.986415  24.768367  24.876219     0.023652   3.213912\n",
            "2016-09-30  26.367386  26.580745  26.212643  26.505718     0.065504   3.277360\n",
            "2016-10-31  26.646394  26.782382  26.540886  26.620604     0.004334   3.281685\n",
            "2016-11-30  26.300092  26.441490  25.986658  26.045574    -0.021601   3.259848\n",
            "2016-12-31  27.490193  27.619807  27.202683  27.294592     0.047955   3.306689\n"
          ]
        }
      ]
    },
    {
      "cell_type": "code",
      "metadata": {
        "colab": {
          "base_uri": "https://localhost:8080/"
        },
        "id": "42A6m3d3Afyl",
        "outputId": "e95db697-aa0e-4d7e-c6b1-f7a4b5cf9d04"
      },
      "source": [
        "log_price2 = np.log(fruit_bar.Close)\n",
        "log_price2.name = 'log_price2'\n",
        "print(log_price2)\n",
        "print('\\n---------------------- separate line--------------------\\n')\n",
        "concat2 = pd.concat([fruit_bar, log_price2], axis = 1)\n",
        "print(concat2)"
      ],
      "execution_count": 156,
      "outputs": [
        {
          "output_type": "stream",
          "name": "stdout",
          "text": [
            "Date\n",
            "2017-01-31    3.353330\n",
            "2017-02-28    3.478886\n",
            "2017-03-31    3.526427\n",
            "2017-04-30    3.526357\n",
            "2017-05-31    3.591965\n",
            "2017-06-30    3.533049\n",
            "2017-07-31    3.565229\n",
            "2017-08-31    3.666882\n",
            "2017-09-30    3.604747\n",
            "2017-10-31    3.697151\n",
            "2017-11-30    3.717226\n",
            "2017-12-31    3.701863\n",
            "Freq: M, Name: log_price2, dtype: float64\n",
            "\n",
            "---------------------- separate line--------------------\n",
            "\n",
            "                 Open       High        Low      Close  rate_return  log_price2\n",
            "Date                                                                           \n",
            "2017-01-31  28.550681  28.607239  28.425779  28.597813          NaN    3.353330\n",
            "2017-02-28  32.444870  32.530077  32.354928  32.423569          NaN    3.478886\n",
            "2017-03-31  34.016451  34.146629  33.848403  34.002251          NaN    3.526427\n",
            "2017-04-30  34.104035  34.153741  33.909955  33.999893          NaN    3.526357\n",
            "2017-05-31  36.592905  36.640437  36.215023  36.305332          NaN    3.591965\n",
            "2017-06-30  34.330365  34.451576  34.171132  34.228172          NaN    3.533049\n",
            "2017-07-31  35.625618  35.727815  35.204958  35.347553          NaN    3.565229\n",
            "2017-08-31  39.043824  39.253790  39.005648  39.129719          NaN    3.666882\n",
            "2017-09-30  36.555277  36.774784  36.266574  36.772396          NaN    3.604747\n",
            "2017-10-31  40.060250  40.477792  39.831199  40.332249          NaN    3.697151\n",
            "2017-11-30  40.810073  41.219541  40.333563  41.150101          NaN    3.717226\n",
            "2017-12-31  40.831633  40.848393  40.520342  40.522736          NaN    3.701863\n"
          ]
        }
      ]
    },
    {
      "cell_type": "markdown",
      "metadata": {
        "id": "Edg3abjUAvVC"
      },
      "source": [
        "\n",
        "We can also join two DataFrames by rows. Consider these two DataFrames:"
      ]
    },
    {
      "cell_type": "code",
      "metadata": {
        "colab": {
          "base_uri": "https://localhost:8080/"
        },
        "id": "P7HICEU3AylO",
        "outputId": "eab275aa-d94c-4cf0-d2dd-65aaddc13231"
      },
      "source": [
        "\n",
        "df_volume = aapl_table.loc['2016-10':'2017-04',['Volume', 'Stock Splits']].resample('M').agg(lambda x: x[-1])\n",
        "print(df_volume)\n",
        "print('\\n---------------------- separate line--------------------\\n')\n",
        "df_2017 = aapl_table.loc['2016-10':'2017-04',['Open', 'High', 'Low', 'Close']].resample('M').agg(lambda x: x[-1])\n",
        "print(df_2017)"
      ],
      "execution_count": 157,
      "outputs": [
        {
          "output_type": "stream",
          "name": "stdout",
          "text": [
            "               Volume  Stock Splits\n",
            "Date                               \n",
            "2016-10-31  105677600             0\n",
            "2016-11-30  144649200             0\n",
            "2016-12-31  122345200             0\n",
            "2017-01-31  196804000             0\n",
            "2017-02-28   93931600             0\n",
            "2017-03-31   78646800             0\n",
            "2017-04-30   83441600             0\n",
            "\n",
            "---------------------- separate line--------------------\n",
            "\n",
            "                 Open       High        Low      Close\n",
            "Date                                                  \n",
            "2016-10-31  26.646394  26.782382  26.540886  26.620604\n",
            "2016-11-30  26.300092  26.441490  25.986658  26.045574\n",
            "2016-12-31  27.490193  27.619807  27.202683  27.294592\n",
            "2017-01-31  28.550679  28.607238  28.425777  28.597811\n",
            "2017-02-28  32.444866  32.530073  32.354924  32.423565\n",
            "2017-03-31  34.016463  34.146641  33.848414  34.002262\n",
            "2017-04-30  34.104032  34.153737  33.909951  33.999889\n"
          ]
        }
      ]
    },
    {
      "cell_type": "code",
      "metadata": {
        "colab": {
          "base_uri": "https://localhost:8080/"
        },
        "id": "1rcI5-bfAzzi",
        "outputId": "a011fde4-47c4-4b8b-f2f1-0131e727127e"
      },
      "source": [
        "\n",
        "df_volume2 = FRUIT_TABLE.loc['2017-10':'2018-04',['Volume', 'Stock Splits']].resample('M').agg(lambda x: x[-1])\n",
        "print(df_volume2)\n",
        "print('\\n---------------------- separate line--------------------\\n')\n",
        "df_2018 = FRUIT_TABLE.loc['2017-10':'2018-04',['Open', 'High', 'Low', 'Close']].resample('M').agg(lambda x: x[-1])\n",
        "print(df_2018)"
      ],
      "execution_count": 159,
      "outputs": [
        {
          "output_type": "stream",
          "name": "stdout",
          "text": [
            "               Volume  Stock Splits\n",
            "Date                               \n",
            "2017-10-31  144187200             0\n",
            "2017-11-30  166108800             0\n",
            "2017-12-31  103999600             0\n",
            "2018-01-31  129915600             0\n",
            "2018-02-28  151128400             0\n",
            "2018-03-31  153594000             0\n",
            "2018-04-30  169709600             0\n",
            "\n",
            "---------------------- separate line--------------------\n",
            "\n",
            "                 Open       High        Low      Close\n",
            "Date                                                  \n",
            "2017-10-31  40.060250  40.477792  39.831199  40.332249\n",
            "2017-11-30  40.810073  41.219541  40.333563  41.150101\n",
            "2017-12-31  40.831633  40.848393  40.520342  40.522736\n",
            "2018-01-31  39.957620  40.333563  39.869023  40.091713\n",
            "2018-02-28  43.099457  43.426442  42.808539  42.825367\n",
            "2018-03-31  40.346534  41.293828  40.127742  40.339321\n",
            "2018-04-30  38.980901  40.214304  38.911174  39.733444\n"
          ]
        }
      ]
    },
    {
      "cell_type": "code",
      "metadata": {
        "colab": {
          "base_uri": "https://localhost:8080/"
        },
        "id": "B5U_SrvVBOm2",
        "outputId": "638c9834-f504-4b5a-ff45-4cb17be43689"
      },
      "source": [
        "\n",
        "concat = pd.concat([aapl_bar, df_volume], axis = 1)\n",
        "print(concat)"
      ],
      "execution_count": 160,
      "outputs": [
        {
          "output_type": "stream",
          "name": "stdout",
          "text": [
            "                 Open       High  ...       Volume  Stock Splits\n",
            "Date                              ...                           \n",
            "2016-01-31  21.852380  22.440243  ...          NaN           NaN\n",
            "2016-02-29  22.450759  22.768306  ...          NaN           NaN\n",
            "2016-03-31  25.431520  25.473242  ...          NaN           NaN\n",
            "2016-04-30  21.785531  21.954736  ...          NaN           NaN\n",
            "2016-05-31  23.226401  23.412960  ...          NaN           NaN\n",
            "2016-06-30  22.023108  22.333258  ...          NaN           NaN\n",
            "2016-07-31  24.296778  24.380729  ...          NaN           NaN\n",
            "2016-08-31  24.773058  24.986415  ...          NaN           NaN\n",
            "2016-09-30  26.367386  26.580745  ...          NaN           NaN\n",
            "2016-10-31  26.646394  26.782382  ...  105677600.0           0.0\n",
            "2016-11-30  26.300092  26.441490  ...  144649200.0           0.0\n",
            "2016-12-31  27.490193  27.619807  ...  122345200.0           0.0\n",
            "2017-01-31        NaN        NaN  ...  196804000.0           0.0\n",
            "2017-02-28        NaN        NaN  ...   93931600.0           0.0\n",
            "2017-03-31        NaN        NaN  ...   78646800.0           0.0\n",
            "2017-04-30        NaN        NaN  ...   83441600.0           0.0\n",
            "\n",
            "[16 rows x 7 columns]\n"
          ]
        }
      ]
    },
    {
      "cell_type": "code",
      "metadata": {
        "colab": {
          "base_uri": "https://localhost:8080/"
        },
        "id": "jeENhfrLBRbz",
        "outputId": "c1bed3f6-d449-4f48-9f20-58b940c61605"
      },
      "source": [
        "\n",
        "concat2 = pd.concat([fruit_bar, df_volume2], axis = 1)\n",
        "print(concat2)"
      ],
      "execution_count": 161,
      "outputs": [
        {
          "output_type": "stream",
          "name": "stdout",
          "text": [
            "                 Open       High  ...       Volume  Stock Splits\n",
            "Date                              ...                           \n",
            "2017-01-31  28.550681  28.607239  ...          NaN           NaN\n",
            "2017-02-28  32.444870  32.530077  ...          NaN           NaN\n",
            "2017-03-31  34.016451  34.146629  ...          NaN           NaN\n",
            "2017-04-30  34.104035  34.153741  ...          NaN           NaN\n",
            "2017-05-31  36.592905  36.640437  ...          NaN           NaN\n",
            "2017-06-30  34.330365  34.451576  ...          NaN           NaN\n",
            "2017-07-31  35.625618  35.727815  ...          NaN           NaN\n",
            "2017-08-31  39.043824  39.253790  ...          NaN           NaN\n",
            "2017-09-30  36.555277  36.774784  ...          NaN           NaN\n",
            "2017-10-31  40.060250  40.477792  ...  144187200.0           0.0\n",
            "2017-11-30  40.810073  41.219541  ...  166108800.0           0.0\n",
            "2017-12-31  40.831633  40.848393  ...  103999600.0           0.0\n",
            "2018-01-31        NaN        NaN  ...  129915600.0           0.0\n",
            "2018-02-28        NaN        NaN  ...  151128400.0           0.0\n",
            "2018-03-31        NaN        NaN  ...  153594000.0           0.0\n",
            "2018-04-30        NaN        NaN  ...  169709600.0           0.0\n",
            "\n",
            "[16 rows x 7 columns]\n"
          ]
        }
      ]
    },
    {
      "cell_type": "markdown",
      "metadata": {
        "id": "sfRtZC_UBbxF"
      },
      "source": [
        "By default the DataFrame are joined with all of the data. This default options results in zero information loss. We can also merge them by intersection, this is called 'inner join"
      ]
    },
    {
      "cell_type": "code",
      "metadata": {
        "colab": {
          "base_uri": "https://localhost:8080/"
        },
        "id": "TDjJ3ZdfBd9X",
        "outputId": "94a81c00-5ea7-4994-91fc-bb9a02487783"
      },
      "source": [
        "\n",
        "concat = pd.concat([aapl_bar,df_volume],axis = 1, join = 'inner')\n",
        "print(concat)"
      ],
      "execution_count": 162,
      "outputs": [
        {
          "output_type": "stream",
          "name": "stdout",
          "text": [
            "                 Open       High  ...     Volume  Stock Splits\n",
            "Date                              ...                         \n",
            "2016-10-31  26.646394  26.782382  ...  105677600             0\n",
            "2016-11-30  26.300092  26.441490  ...  144649200             0\n",
            "2016-12-31  27.490193  27.619807  ...  122345200             0\n",
            "\n",
            "[3 rows x 7 columns]\n"
          ]
        }
      ]
    },
    {
      "cell_type": "code",
      "metadata": {
        "colab": {
          "base_uri": "https://localhost:8080/"
        },
        "id": "-J8GwT4LBJO1",
        "outputId": "8fceac5c-1b7e-474a-d67a-1d0ceb40c4b7"
      },
      "source": [
        "concat2 = pd.concat([fruit_bar,df_volume2],axis = 1, join = 'inner')\n",
        "print(concat2)"
      ],
      "execution_count": 164,
      "outputs": [
        {
          "output_type": "stream",
          "name": "stdout",
          "text": [
            "                 Open       High  ...     Volume  Stock Splits\n",
            "Date                              ...                         \n",
            "2017-10-31  40.060250  40.477792  ...  144187200             0\n",
            "2017-11-30  40.810073  41.219541  ...  166108800             0\n",
            "2017-12-31  40.831633  40.848393  ...  103999600             0\n",
            "\n",
            "[3 rows x 7 columns]\n"
          ]
        }
      ]
    },
    {
      "cell_type": "markdown",
      "metadata": {
        "id": "VIFUV3HUBuT0"
      },
      "source": [
        "\n",
        "\n",
        "Only the intersection part was left if use 'inner join' method. Now let's try to append a DataFrame to another one:\n"
      ]
    },
    {
      "cell_type": "code",
      "metadata": {
        "colab": {
          "base_uri": "https://localhost:8080/"
        },
        "id": "M5WmerxiB01P",
        "outputId": "2e7d234e-a847-4ebf-ddfe-758f70e4c7bb"
      },
      "source": [
        "append = aapl_bar.append(df_2017)\n",
        "print(append)"
      ],
      "execution_count": 165,
      "outputs": [
        {
          "output_type": "stream",
          "name": "stdout",
          "text": [
            "                 Open       High        Low      Close  rate_return\n",
            "Date                                                               \n",
            "2016-01-31  21.852380  22.440243  21.750945  22.440243          NaN\n",
            "2016-02-29  22.450759  22.768306  22.402084  22.411356    -0.001287\n",
            "2016-03-31  25.431520  25.473242  25.236819  25.262316     0.127210\n",
            "2016-04-30  21.785531  21.954736  21.442489  21.727585    -0.139921\n",
            "2016-05-31  23.226401  23.412960  23.044508  23.287033     0.071773\n",
            "2016-06-30  22.023108  22.333258  21.990461  22.293615    -0.042660\n",
            "2016-07-31  24.296778  24.380729  24.177847  24.301441     0.090063\n",
            "2016-08-31  24.773058  24.986415  24.768367  24.876219     0.023652\n",
            "2016-09-30  26.367386  26.580745  26.212643  26.505718     0.065504\n",
            "2016-10-31  26.646394  26.782382  26.540886  26.620604     0.004334\n",
            "2016-11-30  26.300092  26.441490  25.986658  26.045574    -0.021601\n",
            "2016-12-31  27.490193  27.619807  27.202683  27.294592     0.047955\n",
            "2016-10-31  26.646394  26.782382  26.540886  26.620604          NaN\n",
            "2016-11-30  26.300092  26.441490  25.986658  26.045574          NaN\n",
            "2016-12-31  27.490193  27.619807  27.202683  27.294592          NaN\n",
            "2017-01-31  28.550679  28.607238  28.425777  28.597811          NaN\n",
            "2017-02-28  32.444866  32.530073  32.354924  32.423565          NaN\n",
            "2017-03-31  34.016463  34.146641  33.848414  34.002262          NaN\n",
            "2017-04-30  34.104032  34.153737  33.909951  33.999889          NaN\n"
          ]
        }
      ]
    },
    {
      "cell_type": "code",
      "metadata": {
        "colab": {
          "base_uri": "https://localhost:8080/"
        },
        "id": "1QEyDLkrB3V6",
        "outputId": "25e6b6eb-f32c-4836-f401-1feaac0cc83e"
      },
      "source": [
        "append2 = fruit_bar.append(df_2018)\n",
        "print(append2)"
      ],
      "execution_count": 166,
      "outputs": [
        {
          "output_type": "stream",
          "name": "stdout",
          "text": [
            "                 Open       High        Low      Close  rate_return\n",
            "Date                                                               \n",
            "2017-01-31  28.550681  28.607239  28.425779  28.597813          NaN\n",
            "2017-02-28  32.444870  32.530077  32.354928  32.423569          NaN\n",
            "2017-03-31  34.016451  34.146629  33.848403  34.002251          NaN\n",
            "2017-04-30  34.104035  34.153741  33.909955  33.999893          NaN\n",
            "2017-05-31  36.592905  36.640437  36.215023  36.305332          NaN\n",
            "2017-06-30  34.330365  34.451576  34.171132  34.228172          NaN\n",
            "2017-07-31  35.625618  35.727815  35.204958  35.347553          NaN\n",
            "2017-08-31  39.043824  39.253790  39.005648  39.129719          NaN\n",
            "2017-09-30  36.555277  36.774784  36.266574  36.772396          NaN\n",
            "2017-10-31  40.060250  40.477792  39.831199  40.332249          NaN\n",
            "2017-11-30  40.810073  41.219541  40.333563  41.150101          NaN\n",
            "2017-12-31  40.831633  40.848393  40.520342  40.522736          NaN\n",
            "2017-10-31  40.060250  40.477792  39.831199  40.332249          NaN\n",
            "2017-11-30  40.810073  41.219541  40.333563  41.150101          NaN\n",
            "2017-12-31  40.831633  40.848393  40.520342  40.522736          NaN\n",
            "2018-01-31  39.957620  40.333563  39.869023  40.091713          NaN\n",
            "2018-02-28  43.099457  43.426442  42.808539  42.825367          NaN\n",
            "2018-03-31  40.346534  41.293828  40.127742  40.339321          NaN\n",
            "2018-04-30  38.980901  40.214304  38.911174  39.733444          NaN\n"
          ]
        }
      ]
    },
    {
      "cell_type": "markdown",
      "metadata": {
        "id": "zcecEV7WCA99"
      },
      "source": [
        "'Append' is essentially to concat two DataFrames by axis = 0, thus here is an alternative way to append:"
      ]
    },
    {
      "cell_type": "code",
      "metadata": {
        "colab": {
          "base_uri": "https://localhost:8080/"
        },
        "id": "QhGzEw0ECKee",
        "outputId": "9ce0b189-adb2-4160-bb2f-3a03433b8003"
      },
      "source": [
        "concat = pd.concat([aapl_bar, df_2017], axis = 0)\n",
        "print(concat)"
      ],
      "execution_count": 167,
      "outputs": [
        {
          "output_type": "stream",
          "name": "stdout",
          "text": [
            "                 Open       High        Low      Close  rate_return\n",
            "Date                                                               \n",
            "2016-01-31  21.852380  22.440243  21.750945  22.440243          NaN\n",
            "2016-02-29  22.450759  22.768306  22.402084  22.411356    -0.001287\n",
            "2016-03-31  25.431520  25.473242  25.236819  25.262316     0.127210\n",
            "2016-04-30  21.785531  21.954736  21.442489  21.727585    -0.139921\n",
            "2016-05-31  23.226401  23.412960  23.044508  23.287033     0.071773\n",
            "2016-06-30  22.023108  22.333258  21.990461  22.293615    -0.042660\n",
            "2016-07-31  24.296778  24.380729  24.177847  24.301441     0.090063\n",
            "2016-08-31  24.773058  24.986415  24.768367  24.876219     0.023652\n",
            "2016-09-30  26.367386  26.580745  26.212643  26.505718     0.065504\n",
            "2016-10-31  26.646394  26.782382  26.540886  26.620604     0.004334\n",
            "2016-11-30  26.300092  26.441490  25.986658  26.045574    -0.021601\n",
            "2016-12-31  27.490193  27.619807  27.202683  27.294592     0.047955\n",
            "2016-10-31  26.646394  26.782382  26.540886  26.620604          NaN\n",
            "2016-11-30  26.300092  26.441490  25.986658  26.045574          NaN\n",
            "2016-12-31  27.490193  27.619807  27.202683  27.294592          NaN\n",
            "2017-01-31  28.550679  28.607238  28.425777  28.597811          NaN\n",
            "2017-02-28  32.444866  32.530073  32.354924  32.423565          NaN\n",
            "2017-03-31  34.016463  34.146641  33.848414  34.002262          NaN\n",
            "2017-04-30  34.104032  34.153737  33.909951  33.999889          NaN\n"
          ]
        }
      ]
    },
    {
      "cell_type": "code",
      "metadata": {
        "colab": {
          "base_uri": "https://localhost:8080/"
        },
        "id": "chy0B8WNCL9Y",
        "outputId": "dd86abbe-f949-4982-f3d9-b6e5e6a0352e"
      },
      "source": [
        "concat2 = pd.concat([fruit_bar, df_2018], axis = 0)\n",
        "print(concat2)"
      ],
      "execution_count": 168,
      "outputs": [
        {
          "output_type": "stream",
          "name": "stdout",
          "text": [
            "                 Open       High        Low      Close  rate_return\n",
            "Date                                                               \n",
            "2017-01-31  28.550681  28.607239  28.425779  28.597813          NaN\n",
            "2017-02-28  32.444870  32.530077  32.354928  32.423569          NaN\n",
            "2017-03-31  34.016451  34.146629  33.848403  34.002251          NaN\n",
            "2017-04-30  34.104035  34.153741  33.909955  33.999893          NaN\n",
            "2017-05-31  36.592905  36.640437  36.215023  36.305332          NaN\n",
            "2017-06-30  34.330365  34.451576  34.171132  34.228172          NaN\n",
            "2017-07-31  35.625618  35.727815  35.204958  35.347553          NaN\n",
            "2017-08-31  39.043824  39.253790  39.005648  39.129719          NaN\n",
            "2017-09-30  36.555277  36.774784  36.266574  36.772396          NaN\n",
            "2017-10-31  40.060250  40.477792  39.831199  40.332249          NaN\n",
            "2017-11-30  40.810073  41.219541  40.333563  41.150101          NaN\n",
            "2017-12-31  40.831633  40.848393  40.520342  40.522736          NaN\n",
            "2017-10-31  40.060250  40.477792  39.831199  40.332249          NaN\n",
            "2017-11-30  40.810073  41.219541  40.333563  41.150101          NaN\n",
            "2017-12-31  40.831633  40.848393  40.520342  40.522736          NaN\n",
            "2018-01-31  39.957620  40.333563  39.869023  40.091713          NaN\n",
            "2018-02-28  43.099457  43.426442  42.808539  42.825367          NaN\n",
            "2018-03-31  40.346534  41.293828  40.127742  40.339321          NaN\n",
            "2018-04-30  38.980901  40.214304  38.911174  39.733444          NaN\n"
          ]
        }
      ]
    },
    {
      "cell_type": "markdown",
      "metadata": {
        "id": "mqdT34_oCU8z"
      },
      "source": [
        "Please note that if the two DataFrame have some columns with the same column names, these columns are considered to be the same and will be merged. It's very important to have the right column names. If we change a column names here:"
      ]
    },
    {
      "cell_type": "code",
      "metadata": {
        "colab": {
          "base_uri": "https://localhost:8080/"
        },
        "id": "lPnZcxFMCVYG",
        "outputId": "bc0f79ee-5ce4-4f6b-9d3e-18a917fb6a2b"
      },
      "source": [
        "df_2017.columns = ['Change', 'High','Low','Close']\n",
        "concat = pd.concat([aapl_bar, df_2017], axis = 0)\n",
        "print(concat)"
      ],
      "execution_count": 169,
      "outputs": [
        {
          "output_type": "stream",
          "name": "stdout",
          "text": [
            "                 Open       High        Low      Close  rate_return     Change\n",
            "Date                                                                          \n",
            "2016-01-31  21.852380  22.440243  21.750945  22.440243          NaN        NaN\n",
            "2016-02-29  22.450759  22.768306  22.402084  22.411356    -0.001287        NaN\n",
            "2016-03-31  25.431520  25.473242  25.236819  25.262316     0.127210        NaN\n",
            "2016-04-30  21.785531  21.954736  21.442489  21.727585    -0.139921        NaN\n",
            "2016-05-31  23.226401  23.412960  23.044508  23.287033     0.071773        NaN\n",
            "2016-06-30  22.023108  22.333258  21.990461  22.293615    -0.042660        NaN\n",
            "2016-07-31  24.296778  24.380729  24.177847  24.301441     0.090063        NaN\n",
            "2016-08-31  24.773058  24.986415  24.768367  24.876219     0.023652        NaN\n",
            "2016-09-30  26.367386  26.580745  26.212643  26.505718     0.065504        NaN\n",
            "2016-10-31  26.646394  26.782382  26.540886  26.620604     0.004334        NaN\n",
            "2016-11-30  26.300092  26.441490  25.986658  26.045574    -0.021601        NaN\n",
            "2016-12-31  27.490193  27.619807  27.202683  27.294592     0.047955        NaN\n",
            "2016-10-31        NaN  26.782382  26.540886  26.620604          NaN  26.646394\n",
            "2016-11-30        NaN  26.441490  25.986658  26.045574          NaN  26.300092\n",
            "2016-12-31        NaN  27.619807  27.202683  27.294592          NaN  27.490193\n",
            "2017-01-31        NaN  28.607238  28.425777  28.597811          NaN  28.550679\n",
            "2017-02-28        NaN  32.530073  32.354924  32.423565          NaN  32.444866\n",
            "2017-03-31        NaN  34.146641  33.848414  34.002262          NaN  34.016463\n",
            "2017-04-30        NaN  34.153737  33.909951  33.999889          NaN  34.104032\n"
          ]
        }
      ]
    },
    {
      "cell_type": "code",
      "metadata": {
        "colab": {
          "base_uri": "https://localhost:8080/"
        },
        "id": "HGA-I0VjCYzc",
        "outputId": "01e06db2-9e82-458e-bc81-2b303af2c700"
      },
      "source": [
        "df_2018.columns = ['Change', 'High','Low','Close']\n",
        "concat22 = pd.concat([fruit_bar, df_2018], axis = 0)\n",
        "print(concat2)"
      ],
      "execution_count": 170,
      "outputs": [
        {
          "output_type": "stream",
          "name": "stdout",
          "text": [
            "                 Open       High        Low      Close  rate_return\n",
            "Date                                                               \n",
            "2017-01-31  28.550681  28.607239  28.425779  28.597813          NaN\n",
            "2017-02-28  32.444870  32.530077  32.354928  32.423569          NaN\n",
            "2017-03-31  34.016451  34.146629  33.848403  34.002251          NaN\n",
            "2017-04-30  34.104035  34.153741  33.909955  33.999893          NaN\n",
            "2017-05-31  36.592905  36.640437  36.215023  36.305332          NaN\n",
            "2017-06-30  34.330365  34.451576  34.171132  34.228172          NaN\n",
            "2017-07-31  35.625618  35.727815  35.204958  35.347553          NaN\n",
            "2017-08-31  39.043824  39.253790  39.005648  39.129719          NaN\n",
            "2017-09-30  36.555277  36.774784  36.266574  36.772396          NaN\n",
            "2017-10-31  40.060250  40.477792  39.831199  40.332249          NaN\n",
            "2017-11-30  40.810073  41.219541  40.333563  41.150101          NaN\n",
            "2017-12-31  40.831633  40.848393  40.520342  40.522736          NaN\n",
            "2017-10-31  40.060250  40.477792  39.831199  40.332249          NaN\n",
            "2017-11-30  40.810073  41.219541  40.333563  41.150101          NaN\n",
            "2017-12-31  40.831633  40.848393  40.520342  40.522736          NaN\n",
            "2018-01-31  39.957620  40.333563  39.869023  40.091713          NaN\n",
            "2018-02-28  43.099457  43.426442  42.808539  42.825367          NaN\n",
            "2018-03-31  40.346534  41.293828  40.127742  40.339321          NaN\n",
            "2018-04-30  38.980901  40.214304  38.911174  39.733444          NaN\n"
          ]
        }
      ]
    },
    {
      "cell_type": "markdown",
      "metadata": {
        "id": "AT99eMyeCokH"
      },
      "source": [
        "\n",
        "Since the column name of 'Open' has been changed, the new DataFrame has an new column named 'Change'."
      ]
    },
    {
      "cell_type": "markdown",
      "metadata": {
        "id": "Z0TNLCVuCsOL"
      },
      "source": [
        "####**Summary**\n",
        "\n",
        "Hereby we introduced the most import part of python: resampling and DataFrame manipulation. We only introduced the most commonly used method in Financial data analysis. There are also many methods used in data mining, which are also beneficial. You can always check the Pandas official documentations for help."
      ]
    }
  ]
}